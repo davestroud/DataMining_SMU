{
 "cells": [
  {
   "cell_type": "code",
   "execution_count": 32,
   "metadata": {},
   "outputs": [],
   "source": [
    "import matplotlib.pyplot as plt\n",
    "import pandas as pd\n",
    "import numpy as np\n",
    "from sklearn.feature_extraction.text import TfidfVectorizer\n",
    "from sklearn.feature_extraction.text import CountVectorizer\n",
    "from sklearn.naive_bayes import MultinomialNB\n",
    "from sklearn.naive_bayes import GaussianNB\n",
    "from sklearn.metrics import accuracy_score"
   ]
  },
  {
   "cell_type": "code",
   "execution_count": 2,
   "metadata": {},
   "outputs": [],
   "source": [
    "\n",
    "df_train = pd.read_csv('train.csv')\n",
    "df_resources = pd.read_csv('resources.csv')\n",
    "train_resource = pd.merge(df_train, df_resources, on=\"id\", how='left')\n",
    "t2 = train_resource.pivot_table(index = ['id', 'description'],\n",
    "                                values='quantity', \n",
    "                                aggfunc=np.sum)\n",
    "\n",
    "t2.reset_index(inplace=True)\n",
    "train_resource = pd.merge(train_resource,\n",
    "                          t2, \n",
    "                          on=['id', 'description'], \n",
    "                          how='right',\n",
    "                          suffixes=('_Orig', '_True'))\n",
    "train_resource = train_resource.drop_duplicates()\n",
    "train_resource = train_resource.drop('quantity_Orig', axis=1)\n",
    "train_resource = train_resource.rename(columns={'quantity_True': 'True_Quantity'})\n",
    "train_resource['Total_Cost'] = train_resource.price * train_resource.True_Quantity\n",
    "\n",
    "Total_cost = train_resource.pivot_table(values=['Total_Cost','True_Quantity'],\n",
    "                                        index='id',\n",
    "                                        aggfunc={'Total_Cost' : np.sum, 'True_Quantity' : np.sum})\n",
    "Total_cost.reset_index(level=0, inplace = True)\n",
    "\n",
    "df_train = df_train.merge(Total_cost, on='id', how='left')\n",
    "df_train['Average_item_cost'] = df_train.Total_Cost  / df_train.True_Quantity"
   ]
  },
  {
   "cell_type": "code",
   "execution_count": 3,
   "metadata": {},
   "outputs": [],
   "source": [
    "df = df_train\n",
    "\n",
    "df[\"lsLangLit\"]=df[\"project_subject_categories\"].str.contains(\"Literacy & Language\")\n",
    "df[\"lsMathSci\"]=df[\"project_subject_categories\"].str.contains(\"Math & Science\")\n",
    "df[\"lsAppLearn\"]=df[\"project_subject_categories\"].str.contains(\"Applied Learning\")\n",
    "df[\"lsHealth\"]=df[\"project_subject_categories\"].str.contains(\"Health & Sports\")\n",
    "df[\"lsSpNeeds\"]=df[\"project_subject_categories\"].str.contains(\"Special Needs\")\n",
    "df[\"lsHistCiv\"]=df[\"project_subject_categories\"].str.contains(\"History & Civics\")\n",
    "df[\"lsMusArts\"]=df[\"project_subject_categories\"].str.contains(\"Music & The Arts\")\n",
    "df[\"lsWarm\"]=df[\"project_subject_categories\"].str.contains(\"Warmth, Care & Hunger\")\n",
    "\n",
    "\n",
    "\n",
    "# Cleaning up variables to get features vs. target(s)# Cleani \n",
    "df2 = df # Preserve original dataframe\n",
    "\n",
    "if 'project_is_approved'in df:\n",
    "    y1 = df['project_is_approved'] # Creates the approval target \n",
    "    del df['project_is_approved']\n",
    "\n",
    "y2 = df[['lsLangLit','lsMathSci','lsHealth','lsSpNeeds','lsHistCiv','lsMusArts','lsWarm']]# creates a target matrix of the categories\n",
    "\n",
    "# Remove the target category variables\n",
    "if 'lsLangLit'in df:\n",
    "    del df['lsLangLit']\n",
    "    del df['lsMathSci']\n",
    "    del df['lsHealth']\n",
    "    del df['lsSpNeeds']\n",
    "    del df['lsHistCiv']\n",
    "    del df['lsMusArts']\n",
    "    del df['lsWarm']\n",
    "    \n",
    "if 'project_subject_categories'in df:\n",
    "    y3 = df['project_subject_categories'] # Creates the approval target if we're using the full listing and not one-hot encoded \n",
    "    del df['project_subject_categories'] # Remove the categories from the training set\n",
    "    del df['project_subject_subcategories'] # Remove the subcategories, since they are dependent on the categories"
   ]
  },
  {
   "cell_type": "code",
   "execution_count": 4,
   "metadata": {},
   "outputs": [
    {
     "name": "stderr",
     "output_type": "stream",
     "text": [
      "/Users/anthonyschams/anaconda/lib/python3.6/site-packages/pandas/core/indexing.py:357: SettingWithCopyWarning: \n",
      "A value is trying to be set on a copy of a slice from a DataFrame.\n",
      "Try using .loc[row_indexer,col_indexer] = value instead\n",
      "\n",
      "See the caveats in the documentation: http://pandas.pydata.org/pandas-docs/stable/indexing.html#indexing-view-versus-copy\n",
      "  self.obj[key] = _infer_fill_value(value)\n",
      "/Users/anthonyschams/anaconda/lib/python3.6/site-packages/pandas/core/indexing.py:537: SettingWithCopyWarning: \n",
      "A value is trying to be set on a copy of a slice from a DataFrame.\n",
      "Try using .loc[row_indexer,col_indexer] = value instead\n",
      "\n",
      "See the caveats in the documentation: http://pandas.pydata.org/pandas-docs/stable/indexing.html#indexing-view-versus-copy\n",
      "  self.obj[item] = s\n"
     ]
    }
   ],
   "source": [
    "# Create a new column that indicates whether the project is reading, writing, or \n",
    "# arithmetic (IsLangLit and/or IsMathSci). \n",
    "\n",
    "y2.loc[:,'Three_Rs'] = np.logical_or(y2['lsLangLit'],y2['lsMathSci'])\n",
    "three_r = y2['Three_Rs']"
   ]
  },
  {
   "cell_type": "code",
   "execution_count": 27,
   "metadata": {},
   "outputs": [],
   "source": [
    "# Concatenate our new column to our original dataframe.\n",
    "# We also are joining all 4 essay columns into a single column.\n",
    "df = pd.concat((df_train, three_r),axis=1)\n",
    "df['text'] = df.apply(lambda row: ' '.join([str(row['project_essay_1']), \n",
    "                                            str(row['project_essay_2']), \n",
    "                                            str(row['project_essay_3']), \n",
    "                                            str(row['project_essay_4'])]), axis=1)\n",
    "train = pd.concat((df,y1), axis=1).sample(frac=0.2,random_state=200)\n",
    "test = pd.concat((df,y1), axis = 1).sample(frac = 0.2, random_state = 201)\n",
    "\n",
    "y_proj_train = train['project_is_approved']\n",
    "y_proj_test = test['project_is_approved']\n",
    "\n",
    "if 'project_is_approved' in train: del train['project_is_approved']\n",
    "if 'project_is_approved' in test: del test['project_is_approved']"
   ]
  },
  {
   "cell_type": "code",
   "execution_count": 28,
   "metadata": {},
   "outputs": [],
   "source": [
    "# Create and fit our Tfidf Vectorizer\n",
    "vectorizer = TfidfVectorizer()\n",
    "text = vectorizer.fit_transform(train['text'])"
   ]
  },
  {
   "cell_type": "code",
   "execution_count": 29,
   "metadata": {},
   "outputs": [],
   "source": [
    "# Grab the Three R's column as our testing variable.\n",
    "\n",
    "y = train['Three_Rs']\n",
    "\n",
    "x_test = vectorizer.transform(test['text'])\n",
    "y_test = test['Three_Rs']"
   ]
  },
  {
   "cell_type": "code",
   "execution_count": 34,
   "metadata": {},
   "outputs": [
    {
     "name": "stdout",
     "output_type": "stream",
     "text": [
      "Accuracy of a Multinomial NB classifier on the Three R's column: 0.8036302724077329\n",
      "Accuracy of a Multinomial NB classifier on the project approval column: 0.702960237258348\n"
     ]
    }
   ],
   "source": [
    "mnb = MultinomialNB()\n",
    "mnb.fit(text, y)\n",
    "mnb.predict(x_test)\n",
    "\n",
    "mnb_proj = MultinomialNB()\n",
    "mnb_proj.fit(text, y_proj_train)\n",
    "mnb_proj.predict(x_test)\n",
    "\n",
    "print(\"Accuracy of a Multinomial NB classifier on the Three R's column:\",\n",
    "      accuracy_score(mnb.predict(x_test), y_test))\n",
    "\n",
    "print(\"Accuracy of a Multinomial NB classifier on the project approval column:\",\n",
    "      accuracy_score(mnb_proj.predict(x_test), y_test))"
   ]
  }
 ],
 "metadata": {
  "kernelspec": {
   "display_name": "Python 3",
   "language": "python",
   "name": "python3"
  },
  "language_info": {
   "codemirror_mode": {
    "name": "ipython",
    "version": 3
   },
   "file_extension": ".py",
   "mimetype": "text/x-python",
   "name": "python",
   "nbconvert_exporter": "python",
   "pygments_lexer": "ipython3",
   "version": "3.6.5"
  }
 },
 "nbformat": 4,
 "nbformat_minor": 2
}
