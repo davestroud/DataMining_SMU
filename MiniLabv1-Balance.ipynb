{
 "cells": [
  {
   "cell_type": "code",
   "execution_count": 91,
   "metadata": {},
   "outputs": [
    {
     "name": "stdout",
     "output_type": "stream",
     "text": [
      "<class 'pandas.core.frame.DataFrame'>\n",
      "Int64Index: 182080 entries, 0 to 182079\n",
      "Data columns (total 19 columns):\n",
      "id                                              182080 non-null object\n",
      "teacher_id                                      182080 non-null object\n",
      "teacher_prefix                                  182076 non-null object\n",
      "school_state                                    182080 non-null object\n",
      "project_submitted_datetime                      182080 non-null object\n",
      "project_grade_category                          182080 non-null object\n",
      "project_subject_categories                      182080 non-null object\n",
      "project_subject_subcategories                   182080 non-null object\n",
      "project_title                                   182080 non-null object\n",
      "project_essay_1                                 182080 non-null object\n",
      "project_essay_2                                 182080 non-null object\n",
      "project_essay_3                                 6374 non-null object\n",
      "project_essay_4                                 6374 non-null object\n",
      "project_resource_summary                        182080 non-null object\n",
      "teacher_number_of_previously_posted_projects    182080 non-null int64\n",
      "project_is_approved                             182080 non-null int64\n",
      "Total_Cost                                      182077 non-null float64\n",
      "True_Quantity                                   182077 non-null float64\n",
      "Average_item_cost                               182077 non-null float64\n",
      "dtypes: float64(3), int64(2), object(14)\n",
      "memory usage: 27.8+ MB\n"
     ]
    }
   ],
   "source": [
    "import matplotlib.pyplot as plt\n",
    "import pandas as pd\n",
    "import numpy as np\n",
    "df_train = pd.read_csv('train.csv')\n",
    "df_resources = pd.read_csv('resources.csv')\n",
    "train_resource = pd.merge(df_train, df_resources, on=\"id\", how='left')\n",
    "df_train[df_train.teacher_prefix.isnull()]\n",
    "train_resource[train_resource.description.isnull()].head()\n",
    "t2 = train_resource.pivot_table(index = ['id', 'description'],\n",
    "                                values='quantity', \n",
    "                                aggfunc=np.sum)\n",
    "t2.reset_index(inplace=True)\n",
    "train_resource = pd.merge(train_resource,\n",
    "                          t2, \n",
    "                          on=['id', 'description'], \n",
    "                          how='right',\n",
    "                          suffixes=('_Orig', '_True'))\n",
    "\n",
    "train_resource = train_resource.drop_duplicates()\n",
    "train_resource = train_resource.drop('quantity_Orig', axis=1)\n",
    "train_resource = train_resource.rename(columns={'quantity_True': 'True_Quantity'})\n",
    "train_resource['Total_Cost'] = train_resource.price * train_resource.True_Quantity\n",
    "Total_cost = train_resource.pivot_table(values=['Total_Cost','True_Quantity'],\n",
    "                                        index='id',\n",
    "                                        aggfunc={'Total_Cost' : np.sum, 'True_Quantity' : np.sum})\n",
    "Total_cost.reset_index(level=0, inplace = True)\n",
    "\n",
    "df_train = df_train.merge(Total_cost, on='id', how='left')\n",
    "df_train['Average_item_cost'] = df_train.Total_Cost  / df_train.True_Quantity\n",
    "\n",
    "df = df_train\n",
    "df.info()"
   ]
  },
  {
   "cell_type": "code",
   "execution_count": 92,
   "metadata": {},
   "outputs": [
    {
     "name": "stdout",
     "output_type": "stream",
     "text": [
      "<class 'pandas.core.frame.DataFrame'>\n",
      "Int64Index: 182073 entries, 0 to 182079\n",
      "Data columns (total 5 columns):\n",
      "teacher_number_of_previously_posted_projects    182073 non-null float64\n",
      "Total_Cost                                      182073 non-null float64\n",
      "True_Quantity                                   182073 non-null float64\n",
      "Average_item_cost                               182073 non-null float64\n",
      "project_is_approved                             182073 non-null int64\n",
      "dtypes: float64(4), int64(1)\n",
      "memory usage: 8.3 MB\n"
     ]
    }
   ],
   "source": [
    "#https://github.com/eclarson/DataMiningNotebooks/blob/master/04.%20Logits%20and%20SVM.ipynb\n",
    "from __future__ import print_function\n",
    "\n",
    "# Remove attributes that arent useful\n",
    "if 'project_essay_3' in df:\n",
    "    del df['project_essay_3']\n",
    "if 'project_essay_4' in df:    \n",
    "    del df['project_essay_4']\n",
    "\n",
    "# drop rows that still had missing values after grouped imputation\n",
    "df.dropna(inplace=True)\n",
    "\n",
    "# take natural log of right skewed attributes\n",
    "df['teacher_number_of_previously_posted_projects']=np.log1p(df.teacher_number_of_previously_posted_projects)\n",
    "df['Total_Cost']=np.log1p(df.Total_Cost)\n",
    "df['True_Quantity']=np.log1p(df.True_Quantity)\n",
    "df['Average_item_cost']=np.log1p(df.Average_item_cost)\n",
    "\n",
    "# Keep these attributes\n",
    "df = df[['teacher_number_of_previously_posted_projects','Total_Cost','True_Quantity','Average_item_cost','project_is_approved']]\n",
    "    \n",
    "df.info()"
   ]
  },
  {
   "cell_type": "code",
   "execution_count": 93,
   "metadata": {},
   "outputs": [
    {
     "name": "stdout",
     "output_type": "stream",
     "text": [
      "ShuffleSplit(n_splits=3, random_state=None, test_size=0.2, train_size=None)\n"
     ]
    }
   ],
   "source": [
    "from sklearn.model_selection import ShuffleSplit\n",
    "\n",
    "# we want to predict the X and y data as follows:\n",
    "if 'project_is_approved' in df:\n",
    "    y = df['project_is_approved'].values # get the labels we want\n",
    "    del df['project_is_approved'] # get rid of the class label\n",
    "    X = df.values # use everything else to predict!\n",
    "\n",
    "    ## X and y are now numpy matrices, by calling 'values' on the pandas data frames we\n",
    "    #    have converted them into simple matrices to use with scikit learn\n",
    "    \n",
    "    \n",
    "# to use the cross validation object in scikit learn, we need to grab an instance\n",
    "#    of the object and set it up. This object will be able to split our data into \n",
    "#    training and testing splits\n",
    "num_cv_iterations = 3\n",
    "num_instances = len(y)\n",
    "cv_object = ShuffleSplit(n_splits=num_cv_iterations,\n",
    "                         test_size  = 0.2)\n",
    "                         \n",
    "print(cv_object)"
   ]
  },
  {
   "cell_type": "code",
   "execution_count": 94,
   "metadata": {},
   "outputs": [
    {
     "name": "stdout",
     "output_type": "stream",
     "text": [
      "====Iteration 0  ====\n",
      "accuracy 0.525992036249\n",
      "confusion matrix\n",
      " [[ 3728  1868]\n",
      " [15393 15426]]\n",
      "====Iteration 1  ====\n",
      "accuracy 0.5320884251\n",
      "confusion matrix\n",
      " [[ 3666  1915]\n",
      " [15124 15710]]\n",
      "====Iteration 2  ====\n",
      "accuracy 0.531978580255\n",
      "confusion matrix\n",
      " [[ 3672  1920]\n",
      " [15123 15700]]\n"
     ]
    }
   ],
   "source": [
    "# run logistic regression and vary some parameters\n",
    "from sklearn.linear_model import LogisticRegression\n",
    "from sklearn import metrics as mt\n",
    "\n",
    "# first we create a reusable logisitic regression object\n",
    "#   here we can setup the object with different learning parameters and constants\n",
    "lr_clf = LogisticRegression(penalty='l1', C=1.0, class_weight='balanced') # get object\n",
    "\n",
    "# now we can use the cv_object that we setup before to iterate through the \n",
    "#    different training and testing sets. Each time we will reuse the logisitic regression \n",
    "#    object, but it gets trained on different data each time we use it.\n",
    "\n",
    "iter_num=0\n",
    "# the indices are the rows used for training and testing in each iteration\n",
    "for train_indices, test_indices in cv_object.split(X,y): \n",
    "    # I will create new variables here so that it is more obvious what \n",
    "    # the code is doing (you can compact this syntax and avoid duplicating memory,\n",
    "    # but it makes this code less readable)\n",
    "    X_train = X[train_indices]\n",
    "    y_train = y[train_indices]\n",
    "    \n",
    "    X_test = X[test_indices]\n",
    "    y_test = y[test_indices]\n",
    "    \n",
    "    # train the reusable logisitc regression model on the training data\n",
    "    lr_clf.fit(X_train,y_train)  # train object\n",
    "    y_hat = lr_clf.predict(X_test) # get test set precitions\n",
    "\n",
    "    # now let's get the accuracy and confusion matrix for this iterations of training/testing\n",
    "    acc = mt.accuracy_score(y_test,y_hat)\n",
    "    conf = mt.confusion_matrix(y_test,y_hat)\n",
    "    print(\"====Iteration\",iter_num,\" ====\")\n",
    "    print(\"accuracy\", acc )\n",
    "    print(\"confusion matrix\\n\",conf)\n",
    "    iter_num+=1\n",
    "    \n",
    "# Also note that every time you run the above code\n",
    "#   it randomly creates a new training and testing set, \n",
    "#   so accuracy will be different each time"
   ]
  },
  {
   "cell_type": "code",
   "execution_count": 58,
   "metadata": {},
   "outputs": [
    {
     "name": "stdout",
     "output_type": "stream",
     "text": [
      "accuracy: 0.524289441164\n",
      "[[ 3691  1777]\n",
      " [15546 15401]]\n",
      "Total_Cost has weight of -1.3925709983\n",
      "teacher_number_of_previously_posted_projects has weight of 0.230148603318\n",
      "True_Quantity has weight of 1.84741339942\n",
      "Average_item_cost has weight of 2.37074626882\n"
     ]
    }
   ],
   "source": [
    "from sklearn.preprocessing import StandardScaler\n",
    "\n",
    "# we want to normalize the features based upon the mean and standard deviation of each column. \n",
    "# However, we do not want to accidentally use the testing data to find out the mean and std (this would be snooping)\n",
    "# to Make things easier, let's start by just using whatever was last stored in the variables:\n",
    "##    X_train , y_train , X_test, y_test (they were set in a for loop above)\n",
    "\n",
    "# scale attributes by the training set\n",
    "scl_obj = StandardScaler()\n",
    "scl_obj.fit(X_train) # find scalings for each column that make this zero mean and unit std\n",
    "# the line of code above only looks at training data to get mean and std and we can use it \n",
    "# to transform new feature data\n",
    "\n",
    "X_train_scaled = scl_obj.transform(X_train) # apply to training\n",
    "X_test_scaled = scl_obj.transform(X_test) # apply those means and std to the test set (without snooping at the test set values)\n",
    "\n",
    "# train the model just as before\n",
    "lr_clf = LogisticRegression(penalty='l1', C=0.05, class_weight='balanced') # get object, the 'C' value is less (can you guess why??)\n",
    "lr_clf.fit(X_train_scaled,y_train)  # train object\n",
    "\n",
    "y_hat = lr_clf.predict(X_test_scaled) # get test set precitions\n",
    "\n",
    "acc = mt.accuracy_score(y_test,y_hat)\n",
    "conf = mt.confusion_matrix(y_test,y_hat)\n",
    "print('accuracy:', acc )\n",
    "print(conf )\n",
    "\n",
    "# sort these attributes and spit them out\n",
    "zip_vars = zip(lr_clf.coef_.T,df.columns) # combine attributes\n",
    "zip_vars = sorted(zip_vars)\n",
    "for coef, name in zip_vars:\n",
    "    print(name, 'has weight of', coef[0]) # now print them out"
   ]
  },
  {
   "cell_type": "code",
   "execution_count": 59,
   "metadata": {},
   "outputs": [
    {
     "data": {
      "image/png": "[encoded data removed]",
      "text/plain": [
       "<matplotlib.figure.Figure at 0x233d65245c0>"
      ]
     },
     "metadata": {},
     "output_type": "display_data"
    }
   ],
   "source": [
    "# now let's make a pandas Series with the names and values, and plot them\n",
    "from matplotlib import pyplot as plt\n",
    "%matplotlib inline\n",
    "plt.style.use('ggplot')\n",
    "\n",
    "weights = pd.Series(lr_clf.coef_[0],index=df.columns)\n",
    "weights.plot(kind='bar')\n",
    "plt.show()"
   ]
  },
  {
   "cell_type": "code",
   "execution_count": null,
   "metadata": {
    "collapsed": true
   },
   "outputs": [],
   "source": []
  }
 ],
 "metadata": {
  "kernelspec": {
   "display_name": "Python 3",
   "language": "python",
   "name": "python3"
  },
  "language_info": {
   "codemirror_mode": {
    "name": "ipython",
    "version": 3
   },
   "file_extension": ".py",
   "mimetype": "text/x-python",
   "name": "python",
   "nbconvert_exporter": "python",
   "pygments_lexer": "ipython3",
   "version": "3.6.3"
  }
 },
 "nbformat": 4,
 "nbformat_minor": 2
}
