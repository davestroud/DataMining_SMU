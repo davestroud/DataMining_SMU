{
 "cells": [
  {
   "cell_type": "markdown",
   "metadata": {},
   "source": [
    "# Project 2\n",
    "\n",
    "## MSDS7331: Data Mining\n",
    "## Section 0403\n",
    "## Summer 2018\n",
    "- Anthony Schams\n",
    "- Laura Ludwig  \n",
    "- David Stroud\n",
    "- Joshua Balson"
   ]
  },
  {
   "cell_type": "markdown",
   "metadata": {},
   "source": [
    "## Data Preparation\n",
    "### Define and Prepare Class Variables"
   ]
  },
  {
   "cell_type": "markdown",
   "metadata": {},
   "source": [
    "#### Import the data"
   ]
  },
  {
   "cell_type": "code",
   "execution_count": 1,
   "metadata": {},
   "outputs": [
    {
     "name": "stdout",
     "output_type": "stream",
     "text": [
      "<class 'pandas.core.frame.DataFrame'>\n",
      "Int64Index: 182080 entries, 0 to 182079\n",
      "Data columns (total 20 columns):\n",
      "id                                              182080 non-null object\n",
      "teacher_id                                      182080 non-null object\n",
      "teacher_prefix                                  182076 non-null object\n",
      "school_state                                    182080 non-null object\n",
      "project_submitted_datetime                      182080 non-null object\n",
      "project_grade_category                          182080 non-null object\n",
      "project_subject_categories                      182080 non-null object\n",
      "project_subject_subcategories                   182080 non-null object\n",
      "project_title                                   182080 non-null object\n",
      "project_essay_1                                 182080 non-null object\n",
      "project_essay_2                                 182080 non-null object\n",
      "project_essay_3                                 6374 non-null object\n",
      "project_essay_4                                 6374 non-null object\n",
      "project_resource_summary                        182080 non-null object\n",
      "teacher_number_of_previously_posted_projects    182080 non-null int64\n",
      "project_is_approved                             182080 non-null int64\n",
      "Total_Cost                                      182077 non-null float64\n",
      "True_Quantity                                   182077 non-null float64\n",
      "Average_item_cost                               182077 non-null float64\n",
      "text                                            182080 non-null object\n",
      "dtypes: float64(3), int64(2), object(15)\n",
      "memory usage: 29.2+ MB\n"
     ]
    }
   ],
   "source": [
    "import matplotlib.pyplot as plt\n",
    "import pandas as pd\n",
    "import numpy as np\n",
    "from nltk.corpus import stopwords\n",
    "import datetime as dt\n",
    "import warnings\n",
    "import string\n",
    "from sklearn.feature_extraction.text import TfidfVectorizer\n",
    "from sklearn.model_selection import cross_validate\n",
    "from sklearn import metrics as mt\n",
    "from sklearn.model_selection import ShuffleSplit\n",
    "from __future__ import print_function\n",
    "from sklearn.linear_model import LogisticRegression\n",
    "from sklearn.tree import DecisionTreeClassifier\n",
    "from sklearn.naive_bayes import MultinomialNB\n",
    "from sklearn.ensemble import RandomForestClassifier\n",
    "from sklearn.preprocessing import StandardScaler\n",
    "from sklearn.model_selection import GridSearchCV\n",
    "\n",
    "\n",
    "df_train = pd.read_csv('train.csv')\n",
    "df_resources = pd.read_csv('resources.csv')\n",
    "train_resource = pd.merge(df_train, df_resources, on=\"id\", how='left')\n",
    "df_train[df_train.teacher_prefix.isnull()]\n",
    "train_resource[train_resource.description.isnull()].head()\n",
    "t2 = train_resource.pivot_table(index = ['id', 'description'],\n",
    "                                values='quantity', \n",
    "                                aggfunc=np.sum)\n",
    "t2.reset_index(inplace=True)\n",
    "train_resource = pd.merge(train_resource,\n",
    "                          t2, \n",
    "                          on=['id', 'description'], \n",
    "                          how='right',\n",
    "                          suffixes=('_Orig', '_True'))\n",
    "\n",
    "train_resource = train_resource.drop_duplicates()\n",
    "train_resource = train_resource.drop('quantity_Orig', axis=1)\n",
    "train_resource = train_resource.rename(columns={'quantity_True': 'True_Quantity'})\n",
    "train_resource['Total_Cost'] = train_resource.price * train_resource.True_Quantity\n",
    "Total_cost = train_resource.pivot_table(values=['Total_Cost','True_Quantity'],\n",
    "                                        index='id',\n",
    "                                        aggfunc={'Total_Cost' : np.sum, 'True_Quantity' : np.sum})\n",
    "Total_cost.reset_index(level=0, inplace = True)\n",
    "\n",
    "df_train = df_train.merge(Total_cost, on='id', how='left')\n",
    "df_train['Average_item_cost'] = df_train.Total_Cost  / df_train.True_Quantity\n",
    "\n",
    "df_train['text'] = df_train.apply(lambda row: ' '.join([str(row['project_essay_1']), \n",
    "                                                        str(row['project_essay_2']), \n",
    "                                                        str(row['project_essay_3']), \n",
    "                                                        str(row['project_essay_4'])]), axis=1\n",
    "                                                      )                               \n",
    "\n",
    "df = df_train\n",
    "\n",
    "stop_words = list(set(stopwords.words('english')))\n",
    "warnings.filterwarnings('ignore')\n",
    "punctuation = string.punctuation\n",
    "\n",
    "df.info()"
   ]
  },
  {
   "cell_type": "markdown",
   "metadata": {},
   "source": [
    "#### Variable Clean-up"
   ]
  },
  {
   "cell_type": "markdown",
   "metadata": {},
   "source": [
    "Due to a change in the application questions, we must combine the responses for two questions in the earlier period to equate to one response in the later period. Prior to the change, the first two questions asked the teacher to introduce their students using two questions: one about their classroom and another describing their students. The later format has one question requesting the teacher to describe their students. The third and fourth questions in the prior period asked about the project details, which is addressed in the second question in the later period. We combined the text to create two variables: student_desc and proj_desc, to capture these two topics in comparable variables. Once we've created those, we remove the project_essay_x variables from the dataframe.  "
   ]
  },
  {
   "cell_type": "code",
   "execution_count": 2,
   "metadata": {
    "collapsed": true
   },
   "outputs": [],
   "source": [
    "# Create comparable variables based on the changes to the application questions that happened during the middle of the time period\n",
    "df['student_desc'] = np.where(df['project_submitted_datetime']<'2016-05-17',df['project_essay_1']+' '+df['project_essay_2'],df['project_essay_1'])\n",
    "df['proj_desc'] = np.where(df['project_submitted_datetime']<'2016-05-17',df['project_essay_3']+' '+df['project_essay_4'],df['project_essay_2'])\n",
    "\n",
    "# Remove attributes that arent useful\n",
    "if 'project_essay_1' in df:\n",
    "    del df['project_essay_1']\n",
    "if 'project_essay_2' in df:    \n",
    "    del df['project_essay_2']\n",
    "if 'project_essay_3' in df:\n",
    "    del df['project_essay_3']\n",
    "if 'project_essay_4' in df:    \n",
    "    del df['project_essay_4']"
   ]
  },
  {
   "cell_type": "markdown",
   "metadata": {},
   "source": [
    "Because one of our analysis tasks is to predict whether we can identify projects that address core academic competencies (reading, writing, and math), we create a variable called \"three_r\" to identify this as a category distinctly. We also add in the essay word lengths for essays one and two.  We perform a log transform on the continuous variables to correct for right-skew.  Finally, we create dummy variables for 'teacher_prefix' and 'project_grade_category'."
   ]
  },
  {
   "cell_type": "code",
   "execution_count": 3,
   "metadata": {
    "scrolled": false
   },
   "outputs": [
    {
     "name": "stdout",
     "output_type": "stream",
     "text": [
      "<class 'pandas.core.frame.DataFrame'>\n",
      "Int64Index: 182073 entries, 0 to 182079\n",
      "Data columns (total 14 columns):\n",
      "teacher_number_of_previously_posted_projects    182073 non-null float64\n",
      "Total_Cost                                      182073 non-null float64\n",
      "True_Quantity                                   182073 non-null float64\n",
      "Average_item_cost                               182073 non-null float64\n",
      "project_is_approved                             182073 non-null int64\n",
      "teacher_prefix_Teacher                          182073 non-null uint8\n",
      "project_grade_category_Grades PreK-2            182073 non-null uint8\n",
      "essay1_DescribeStudents_len                     182073 non-null float64\n",
      "essay2_AboutProject_len                         182073 non-null float64\n",
      "title_len                                       182073 non-null float64\n",
      "text                                            182073 non-null object\n",
      "three_r                                         182073 non-null bool\n",
      "student_desc                                    182073 non-null object\n",
      "proj_desc                                       182073 non-null object\n",
      "dtypes: bool(1), float64(7), int64(1), object(3), uint8(2)\n",
      "memory usage: 17.2+ MB\n"
     ]
    },
    {
     "data": {
      "text/html": [
       "<div>\n",
       "<style>\n",
       "    .dataframe thead tr:only-child th {\n",
       "        text-align: right;\n",
       "    }\n",
       "\n",
       "    .dataframe thead th {\n",
       "        text-align: left;\n",
       "    }\n",
       "\n",
       "    .dataframe tbody tr th {\n",
       "        vertical-align: top;\n",
       "    }\n",
       "</style>\n",
       "<table border=\"1\" class=\"dataframe\">\n",
       "  <thead>\n",
       "    <tr style=\"text-align: right;\">\n",
       "      <th></th>\n",
       "      <th>teacher_number_of_previously_posted_projects</th>\n",
       "      <th>Total_Cost</th>\n",
       "      <th>True_Quantity</th>\n",
       "      <th>Average_item_cost</th>\n",
       "      <th>project_is_approved</th>\n",
       "      <th>teacher_prefix_Teacher</th>\n",
       "      <th>project_grade_category_Grades PreK-2</th>\n",
       "      <th>essay1_DescribeStudents_len</th>\n",
       "      <th>essay2_AboutProject_len</th>\n",
       "      <th>title_len</th>\n",
       "    </tr>\n",
       "  </thead>\n",
       "  <tbody>\n",
       "    <tr>\n",
       "      <th>count</th>\n",
       "      <td>182073.000000</td>\n",
       "      <td>182073.000000</td>\n",
       "      <td>182073.000000</td>\n",
       "      <td>182073.000000</td>\n",
       "      <td>182073.000000</td>\n",
       "      <td>182073.000000</td>\n",
       "      <td>182073.000000</td>\n",
       "      <td>182073.000000</td>\n",
       "      <td>182073.000000</td>\n",
       "      <td>182073.000000</td>\n",
       "    </tr>\n",
       "    <tr>\n",
       "      <th>mean</th>\n",
       "      <td>1.440580</td>\n",
       "      <td>6.021158</td>\n",
       "      <td>2.330753</td>\n",
       "      <td>3.916123</td>\n",
       "      <td>0.847676</td>\n",
       "      <td>0.021486</td>\n",
       "      <td>0.405821</td>\n",
       "      <td>6.486513</td>\n",
       "      <td>6.696629</td>\n",
       "      <td>3.429738</td>\n",
       "    </tr>\n",
       "    <tr>\n",
       "      <th>std</th>\n",
       "      <td>1.318374</td>\n",
       "      <td>0.740747</td>\n",
       "      <td>1.039543</td>\n",
       "      <td>1.282055</td>\n",
       "      <td>0.359335</td>\n",
       "      <td>0.144998</td>\n",
       "      <td>0.491052</td>\n",
       "      <td>0.274325</td>\n",
       "      <td>0.294957</td>\n",
       "      <td>0.407495</td>\n",
       "    </tr>\n",
       "    <tr>\n",
       "      <th>min</th>\n",
       "      <td>0.000000</td>\n",
       "      <td>4.313212</td>\n",
       "      <td>0.693147</td>\n",
       "      <td>0.230229</td>\n",
       "      <td>0.000000</td>\n",
       "      <td>0.000000</td>\n",
       "      <td>0.000000</td>\n",
       "      <td>4.304065</td>\n",
       "      <td>5.517453</td>\n",
       "      <td>1.609438</td>\n",
       "    </tr>\n",
       "    <tr>\n",
       "      <th>25%</th>\n",
       "      <td>0.000000</td>\n",
       "      <td>5.514759</td>\n",
       "      <td>1.609438</td>\n",
       "      <td>2.891869</td>\n",
       "      <td>1.000000</td>\n",
       "      <td>0.000000</td>\n",
       "      <td>0.000000</td>\n",
       "      <td>6.261492</td>\n",
       "      <td>6.466145</td>\n",
       "      <td>3.135494</td>\n",
       "    </tr>\n",
       "    <tr>\n",
       "      <th>50%</th>\n",
       "      <td>1.098612</td>\n",
       "      <td>5.990964</td>\n",
       "      <td>2.302585</td>\n",
       "      <td>3.848531</td>\n",
       "      <td>1.000000</td>\n",
       "      <td>0.000000</td>\n",
       "      <td>0.000000</td>\n",
       "      <td>6.424869</td>\n",
       "      <td>6.608001</td>\n",
       "      <td>3.433987</td>\n",
       "    </tr>\n",
       "    <tr>\n",
       "      <th>75%</th>\n",
       "      <td>2.302585</td>\n",
       "      <td>6.549365</td>\n",
       "      <td>3.091042</td>\n",
       "      <td>4.918228</td>\n",
       "      <td>1.000000</td>\n",
       "      <td>0.000000</td>\n",
       "      <td>1.000000</td>\n",
       "      <td>6.680855</td>\n",
       "      <td>6.875232</td>\n",
       "      <td>3.737670</td>\n",
       "    </tr>\n",
       "    <tr>\n",
       "      <th>max</th>\n",
       "      <td>6.113682</td>\n",
       "      <td>9.700169</td>\n",
       "      <td>7.247793</td>\n",
       "      <td>9.210340</td>\n",
       "      <td>1.000000</td>\n",
       "      <td>1.000000</td>\n",
       "      <td>1.000000</td>\n",
       "      <td>7.923348</td>\n",
       "      <td>8.561210</td>\n",
       "      <td>4.955827</td>\n",
       "    </tr>\n",
       "  </tbody>\n",
       "</table>\n",
       "</div>"
      ],
      "text/plain": [
       "       teacher_number_of_previously_posted_projects     Total_Cost  \\\n",
       "count                                 182073.000000  182073.000000   \n",
       "mean                                       1.440580       6.021158   \n",
       "std                                        1.318374       0.740747   \n",
       "min                                        0.000000       4.313212   \n",
       "25%                                        0.000000       5.514759   \n",
       "50%                                        1.098612       5.990964   \n",
       "75%                                        2.302585       6.549365   \n",
       "max                                        6.113682       9.700169   \n",
       "\n",
       "       True_Quantity  Average_item_cost  project_is_approved  \\\n",
       "count  182073.000000      182073.000000        182073.000000   \n",
       "mean        2.330753           3.916123             0.847676   \n",
       "std         1.039543           1.282055             0.359335   \n",
       "min         0.693147           0.230229             0.000000   \n",
       "25%         1.609438           2.891869             1.000000   \n",
       "50%         2.302585           3.848531             1.000000   \n",
       "75%         3.091042           4.918228             1.000000   \n",
       "max         7.247793           9.210340             1.000000   \n",
       "\n",
       "       teacher_prefix_Teacher  project_grade_category_Grades PreK-2  \\\n",
       "count           182073.000000                         182073.000000   \n",
       "mean                 0.021486                              0.405821   \n",
       "std                  0.144998                              0.491052   \n",
       "min                  0.000000                              0.000000   \n",
       "25%                  0.000000                              0.000000   \n",
       "50%                  0.000000                              0.000000   \n",
       "75%                  0.000000                              1.000000   \n",
       "max                  1.000000                              1.000000   \n",
       "\n",
       "       essay1_DescribeStudents_len  essay2_AboutProject_len      title_len  \n",
       "count                182073.000000            182073.000000  182073.000000  \n",
       "mean                      6.486513                 6.696629       3.429738  \n",
       "std                       0.274325                 0.294957       0.407495  \n",
       "min                       4.304065                 5.517453       1.609438  \n",
       "25%                       6.261492                 6.466145       3.135494  \n",
       "50%                       6.424869                 6.608001       3.433987  \n",
       "75%                       6.680855                 6.875232       3.737670  \n",
       "max                       7.923348                 8.561210       4.955827  "
      ]
     },
     "execution_count": 3,
     "metadata": {},
     "output_type": "execute_result"
    }
   ],
   "source": [
    "#https://github.com/eclarson/DataMiningNotebooks/blob/master/04.%20Logits%20and%20SVM.ipynb\n",
    "df[\"three_r\"] = np.logical_or(df[\"project_subject_categories\"].str.contains(\"Literacy & Language\")\n",
    "                             ,df[\"project_subject_categories\"].str.contains(\"Math & Science\")\n",
    "                             )\n",
    "\n",
    "# drop rows that still had missing values after grouped imputation\n",
    "df.dropna(inplace=True)\n",
    "\n",
    "# extract length of each essay and title\n",
    "df['essay1_DescribeStudents_len'] = df['student_desc'].apply(len)\n",
    "df['essay2_AboutProject_len'] = df['proj_desc'].apply(len)\n",
    "df['title_len'] = df['project_title'].apply(len)\n",
    "\n",
    "# take natural log of right skewed attributes\n",
    "df['teacher_number_of_previously_posted_projects']=np.log1p(df.teacher_number_of_previously_posted_projects)\n",
    "df['Total_Cost']=np.log1p(df.Total_Cost)\n",
    "df['True_Quantity']=np.log1p(df.True_Quantity)\n",
    "df['Average_item_cost']=np.log1p(df.Average_item_cost)\n",
    "df['essay1_DescribeStudents_len']=np.log1p(df.essay1_DescribeStudents_len)\n",
    "df['essay2_AboutProject_len']=np.log1p(df.essay2_AboutProject_len)\n",
    "df['title_len']=np.log1p(df.title_len)\n",
    "\n",
    "# perform one-hot encoding of the categorical data\n",
    "tmp_df = pd.get_dummies(df.teacher_prefix,prefix='teacher_prefix')\n",
    "df = pd.concat((df,tmp_df),axis=1) # add back into the dataframe\n",
    "\n",
    "tmp_df = pd.get_dummies(df.project_grade_category,prefix='project_grade_category')\n",
    "df = pd.concat((df,tmp_df),axis=1) # add back into the dataframe\n",
    "\n",
    "# Keep these attributes\n",
    "df = df[['teacher_number_of_previously_posted_projects','Total_Cost','True_Quantity','Average_item_cost','project_is_approved'\n",
    "        ,'teacher_prefix_Teacher','project_grade_category_Grades PreK-2'\n",
    "        ,'essay1_DescribeStudents_len','essay2_AboutProject_len','title_len','text'\n",
    "        ,'three_r','student_desc','proj_desc']]\n",
    "  \n",
    "df.info()\n",
    "df.describe()"
   ]
  },
  {
   "cell_type": "code",
   "execution_count": 4,
   "metadata": {},
   "outputs": [
    {
     "data": {
      "image/png": "[encoded data removed]",
      "text/plain": [
       "<matplotlib.figure.Figure at 0x11380d66048>"
      ]
     },
     "metadata": {},
     "output_type": "display_data"
    }
   ],
   "source": [
    "plt.figure(figsize = (15,5))\n",
    "plt.subplot(1,3,1)\n",
    "df.essay1_DescribeStudents_len.plot(kind='box')\n",
    "plt.ylabel('log(Essay 1 Word Length)')\n",
    "plt.subplot(1,3,2)\n",
    "df.essay2_AboutProject_len.plot(kind='box')\n",
    "plt.ylabel('log(Essay 2 Word Length)')\n",
    "plt.subplot(1,3,3)\n",
    "df.title_len.plot(kind='box')\n",
    "plt.ylabel('log(Title Word Length)')\n",
    "plt.show()"
   ]
  },
  {
   "cell_type": "markdown",
   "metadata": {},
   "source": [
    "The boxplots above show the three new features added to this data set after the log transform has been applied"
   ]
  },
  {
   "cell_type": "markdown",
   "metadata": {},
   "source": [
    "### Describing the Final Dataset"
   ]
  },
  {
   "cell_type": "code",
   "execution_count": 23,
   "metadata": {
    "collapsed": true
   },
   "outputs": [],
   "source": [
    "# Need description here, maybe a few visualizations"
   ]
  },
  {
   "cell_type": "markdown",
   "metadata": {},
   "source": [
    "## Modeling and Evaluation"
   ]
  },
  {
   "cell_type": "markdown",
   "metadata": {},
   "source": [
    "### Evaluation Metrics"
   ]
  },
  {
   "cell_type": "markdown",
   "metadata": {},
   "source": [
    "#### Method to evaluate all models"
   ]
  },
  {
   "cell_type": "code",
   "execution_count": 5,
   "metadata": {
    "collapsed": true
   },
   "outputs": [],
   "source": [
    "def EvaluateClassifierEstimator(classifierEstimator, X, y, cv):\n",
    "   \n",
    "    #Perform cross validation \n",
    "    scores = cross_validate(classifierEstimator, X, y, scoring=['accuracy','precision','recall','f1']\n",
    "                            , cv=cv, return_train_score=True)\n",
    "\n",
    "    Accavg = scores['test_accuracy'].mean()\n",
    "    Preavg = scores['test_precision'].mean()\n",
    "    Recavg = scores['test_recall'].mean()\n",
    "    f1avg = scores['test_f1'].mean()\n",
    "\n",
    "    print_str = \"The average accuracy for all cv folds is: \\t\\t\\t {Accavg:.5}\"\n",
    "    print_str2 = \"The average precision for all cv folds is: \\t\\t\\t {Preavg:.5}\"\n",
    "    print_str3 = \"The average recall for all cv folds is: \\t\\t\\t {Recavg:.5}\"\n",
    "    print_str4 = \"The average F1 for all cv folds is: \\t\\t\\t\\t {f1avg:.5}\"\n",
    "\n",
    "    print(print_str.format(Accavg=Accavg))\n",
    "    print(print_str2.format(Preavg=Preavg))\n",
    "    print(print_str3.format(Recavg=Recavg))\n",
    "    print(print_str4.format(f1avg=f1avg))\n",
    "    print('*********************************************************')\n",
    "\n",
    "    print('Cross Validation Fold Mean Error Scores')\n",
    "    scoresResults = pd.DataFrame()\n",
    "    scoresResults['Accuracy'] = scores['test_accuracy']\n",
    "    scoresResults['Precision'] = scores['test_precision']\n",
    "    scoresResults['Recall'] = scores['test_recall']\n",
    "    scoresResults['F1'] = scores['test_f1']\n",
    "\n",
    "    return scoresResults\n",
    "\n",
    "def EvaluateClassifierEstimator2(classifierEstimator, X, y, cv):\n",
    "    \n",
    "    #Perform cross validation \n",
    "    from sklearn.model_selection import cross_val_predict\n",
    "    predictions = cross_val_predict(classifierEstimator, X, y, cv=cv)\n",
    "    \n",
    "    #model evaluation \n",
    "    from sklearn.metrics import classification_report, confusion_matrix, accuracy_score\n",
    "    \n",
    "    #pass true test set values and predictions to classification_report\n",
    "    classReport = classification_report(y,predictions)\n",
    "    confMat = confusion_matrix(y,predictions)\n",
    "    acc = accuracy_score(y,predictions)\n",
    "    \n",
    "    print(classReport)\n",
    "    print(confMat)\n",
    "    print(acc)"
   ]
  },
  {
   "cell_type": "markdown",
   "metadata": {},
   "source": [
    "### Training and Testing Splits"
   ]
  },
  {
   "cell_type": "code",
   "execution_count": 6,
   "metadata": {
    "collapsed": true
   },
   "outputs": [],
   "source": [
    "def EvaluateClassifierEstimator3(classifierEstimator, X, y, cv):\n",
    "    \n",
    "    #https://github.com/jakemdrew/EducationDataNC/blob/master/2017/Models/2017SegregatedHighSchoolCampuses.ipynb\n",
    "    num_cv_iterations = 3\n",
    "    num_instances = len(y)\n",
    "    cv_object = ShuffleSplit(n_splits=num_cv_iterations,test_size  = 0.2)\n",
    "\n",
    "    for iter_num, (train_indices, test_indices) in enumerate(cv_object.split(X,y)):\n",
    "        classifierEst.fit(X[train_indices],y[train_indices])  # train object\n",
    "        y_hat = classifierEst.predict(X[test_indices]) # get test set precitions\n",
    "\n",
    "        # print the accuracy and confusion matrix \n",
    "        print(\"====Iteration\",iter_num,\" ====\")\n",
    "        print(\"accuracy\", mt.accuracy_score(y[test_indices],y_hat)) \n",
    "        print(\"confusion matrix\\n\",mt.confusion_matrix(y[test_indices],y_hat))\n"
   ]
  },
  {
   "cell_type": "markdown",
   "metadata": {},
   "source": [
    "### Classification/Regression Models\n",
    "We will create three different models for two different tasks.\n",
    "\n",
    "-Task1:  predict whether an application will be approved or declined\n",
    "\n",
    "-Task2:  predict whether an application project is one of the three Rs (Reading, Writing, Arithmetic) based on the essay text"
   ]
  },
  {
   "cell_type": "markdown",
   "metadata": {},
   "source": [
    "#### Task 1:  Predicting Application Approval\n",
    "##### Set Variables for Task1"
   ]
  },
  {
   "cell_type": "code",
   "execution_count": 7,
   "metadata": {
    "collapsed": true
   },
   "outputs": [],
   "source": [
    "#https://github.com/jakemdrew/EducationDataNC/blob/master/2017/Models/2017SegregatedHighSchoolCampuses.ipynb\n",
    "cv = ShuffleSplit(n_splits=10, test_size=0.10, random_state=0)\n",
    "\n",
    "# we want to predict the X and y data as follows:\n",
    "y = df['project_is_approved'].values # get the labels we want\n",
    "X = df[['teacher_number_of_previously_posted_projects'\n",
    "       ,'Total_Cost'\n",
    "       ,'True_Quantity'\n",
    "       ,'Average_item_cost'\n",
    "       ,'teacher_prefix_Teacher'\n",
    "       ,'project_grade_category_Grades PreK-2'\n",
    "       ,'essay1_DescribeStudents_len'\n",
    "       ,'title_len'\n",
    "       #,'text'\n",
    "       ,'three_r'\n",
    "       #,'student_desc'\n",
    "        #,'proj_desc'\n",
    "       ]].values # use these to predict"
   ]
  },
  {
   "cell_type": "markdown",
   "metadata": {},
   "source": [
    "##### Logistic Regression Classification"
   ]
  },
  {
   "cell_type": "code",
   "execution_count": 8,
   "metadata": {},
   "outputs": [
    {
     "name": "stdout",
     "output_type": "stream",
     "text": [
      "The average accuracy for all cv folds is: \t\t\t 0.56639\n",
      "The average precision for all cv folds is: \t\t\t 0.88744\n",
      "The average recall for all cv folds is: \t\t\t 0.56021\n",
      "The average F1 for all cv folds is: \t\t\t\t 0.68683\n",
      "*********************************************************\n",
      "Cross Validation Fold Mean Error Scores\n",
      "   Accuracy  Precision    Recall        F1\n",
      "0  0.568102   0.888696  0.561793  0.688406\n",
      "1  0.570573   0.892358  0.562003  0.689661\n",
      "2  0.559589   0.882456  0.553639  0.680403\n",
      "3  0.572276   0.891457  0.565678  0.692150\n",
      "4  0.561951   0.885732  0.556173  0.683291\n",
      "5  0.568322   0.884275  0.563753  0.688540\n",
      "6  0.560248   0.884189  0.553120  0.680525\n",
      "7  0.569365   0.891060  0.562472  0.689625\n",
      "8  0.570903   0.888314  0.566100  0.691515\n",
      "9  0.562555   0.885843  0.557357  0.684217\n",
      "             precision    recall  f1-score   support\n",
      "\n",
      "          0       0.20      0.60      0.30     27734\n",
      "          1       0.89      0.56      0.69    154339\n",
      "\n",
      "avg / total       0.78      0.57      0.63    182073\n",
      "\n",
      "[[16747 10987]\n",
      " [67822 86517]]\n",
      "0.567157129283\n",
      "None\n",
      "====Iteration 0  ====\n",
      "accuracy 0.57067142661\n",
      "confusion matrix\n",
      " [[ 3345  2220]\n",
      " [13414 17436]]\n",
      "====Iteration 1  ====\n",
      "accuracy 0.561581765756\n",
      "confusion matrix\n",
      " [[ 3310  2264]\n",
      " [13701 17140]]\n",
      "====Iteration 2  ====\n",
      "accuracy 0.568694219415\n",
      "confusion matrix\n",
      " [[ 3379  2243]\n",
      " [13463 17330]]\n",
      "None\n"
     ]
    }
   ],
   "source": [
    "#https://github.com/jakemdrew/EducationDataNC/blob/master/2017/Models/2017SegregatedHighSchoolCampuses.ipynb\n",
    "#Use the best parameters for our Linear Regression object\n",
    "classifierEst = LogisticRegression(C=0.001, class_weight='balanced', dual=False,\n",
    "                                   fit_intercept=True, intercept_scaling=1, max_iter=100,\n",
    "                                   multi_class='ovr', n_jobs=1, penalty='l2', random_state=0,\n",
    "                                   solver='sag', tol=0.0001, verbose=0, warm_start=False)\n",
    "\n",
    "#Evaluate the regression estimator above using our pre-defined cross validation and scoring metrics. \n",
    "print(EvaluateClassifierEstimator(classifierEst, X, y, cv))\n",
    "print(EvaluateClassifierEstimator2(classifierEst, X, y, 10))\n",
    "print(EvaluateClassifierEstimator3(classifierEst, X, y, cv))"
   ]
  },
  {
   "cell_type": "markdown",
   "metadata": {},
   "source": [
    "##### Decision Tree Classification"
   ]
  },
  {
   "cell_type": "code",
   "execution_count": 9,
   "metadata": {},
   "outputs": [
    {
     "name": "stdout",
     "output_type": "stream",
     "text": [
      "Fitting 10 folds for each of 8 candidates, totalling 80 fits\n"
     ]
    },
    {
     "name": "stderr",
     "output_type": "stream",
     "text": [
      "[Parallel(n_jobs=8)]: Done  34 tasks      | elapsed:   27.2s\n",
      "[Parallel(n_jobs=8)]: Done  80 out of  80 | elapsed:   53.9s finished\n"
     ]
    },
    {
     "data": {
      "text/plain": [
       "DecisionTreeClassifier(class_weight='balanced', criterion='gini',\n",
       "            max_depth=None, max_features=None, max_leaf_nodes=None,\n",
       "            min_impurity_decrease=0.0, min_impurity_split=None,\n",
       "            min_samples_leaf=1, min_samples_split=2,\n",
       "            min_weight_fraction_leaf=0.0, presort=False, random_state=None,\n",
       "            splitter='best')"
      ]
     },
     "execution_count": 9,
     "metadata": {},
     "output_type": "execute_result"
    }
   ],
   "source": [
    "regEstimator = DecisionTreeClassifier()\n",
    "\n",
    "parameters = { 'criterion':['gini','entropy']\n",
    "              ,'splitter': ['best','random']\n",
    "              ,'class_weight': ['balanced',None]\n",
    "             }\n",
    "\n",
    "#Create a grid search object\n",
    "regGridSearch = GridSearchCV(estimator=regEstimator\n",
    "                   , n_jobs=8 # jobs to run in parallel\n",
    "                   , verbose=1 # low verbosity\n",
    "                   , param_grid=parameters\n",
    "                   , cv=cv # KFolds = 10\n",
    "                   , scoring='accuracy')\n",
    "\n",
    "#Perform hyperparameter search to find the best combination of parameters for our data\n",
    "regGridSearch.fit(X, y)\n",
    "regGridSearch.best_estimator_"
   ]
  },
  {
   "cell_type": "code",
   "execution_count": 10,
   "metadata": {},
   "outputs": [
    {
     "name": "stdout",
     "output_type": "stream",
     "text": [
      "The average accuracy for all cv folds is: \t\t\t 0.75293\n",
      "The average precision for all cv folds is: \t\t\t 0.85399\n",
      "The average recall for all cv folds is: \t\t\t 0.85513\n",
      "The average F1 for all cv folds is: \t\t\t\t 0.85456\n",
      "*********************************************************\n",
      "Cross Validation Fold Mean Error Scores\n",
      "   Accuracy  Precision    Recall        F1\n",
      "0  0.754558   0.854828  0.856431  0.855629\n",
      "1  0.748517   0.852469  0.851090  0.851779\n",
      "2  0.755163   0.851914  0.860423  0.856147\n",
      "3  0.757195   0.857106  0.857272  0.857189\n",
      "4  0.753954   0.854516  0.856173  0.855344\n",
      "5  0.749780   0.851181  0.853611  0.852394\n",
      "6  0.753570   0.853457  0.855948  0.854700\n",
      "7  0.748737   0.854700  0.848906  0.851793\n",
      "8  0.755053   0.855106  0.856875  0.855990\n",
      "9  0.752746   0.854651  0.854541  0.854596\n",
      "             precision    recall  f1-score   support\n",
      "\n",
      "          0       0.18      0.18      0.18     27734\n",
      "          1       0.85      0.85      0.85    154339\n",
      "\n",
      "avg / total       0.75      0.75      0.75    182073\n",
      "\n",
      "[[  5071  22663]\n",
      " [ 22424 131915]]\n",
      "0.75236855547\n",
      "None\n",
      "====Iteration 0  ====\n",
      "accuracy 0.752629410957\n",
      "confusion matrix\n",
      " [[ 1037  4424]\n",
      " [ 4584 26370]]\n",
      "====Iteration 1  ====\n",
      "accuracy 0.754277083619\n",
      "confusion matrix\n",
      " [[ 1078  4488]\n",
      " [ 4460 26389]]\n",
      "====Iteration 2  ====\n",
      "accuracy 0.75032266923\n",
      "confusion matrix\n",
      " [[  979  4587]\n",
      " [ 4505 26344]]\n",
      "None\n"
     ]
    }
   ],
   "source": [
    "classifierEst = DecisionTreeClassifier(class_weight='balanced', criterion='gini', max_depth=None,\n",
    "                                       max_features=None, max_leaf_nodes=None,\n",
    "                                       min_impurity_decrease=0.0, min_impurity_split=None,\n",
    "                                       min_samples_leaf=1, min_samples_split=2,\n",
    "                                       min_weight_fraction_leaf=0.0, presort=False, random_state=None,\n",
    "                                       splitter='best')\n",
    "\n",
    "#Evaluate the regression estimator above using our pre-defined cross validation and scoring metrics. \n",
    "print(EvaluateClassifierEstimator(classifierEst, X, y, cv))\n",
    "print(EvaluateClassifierEstimator2(classifierEst, X, y, 10))\n",
    "print(EvaluateClassifierEstimator3(classifierEst, X, y, cv))"
   ]
  },
  {
   "cell_type": "markdown",
   "metadata": {},
   "source": [
    "##### Naive Bayes - Multinomial"
   ]
  },
  {
   "cell_type": "code",
   "execution_count": 11,
   "metadata": {},
   "outputs": [
    {
     "name": "stdout",
     "output_type": "stream",
     "text": [
      "Fitting 10 folds for each of 10 candidates, totalling 100 fits\n"
     ]
    },
    {
     "name": "stderr",
     "output_type": "stream",
     "text": [
      "[Parallel(n_jobs=8)]: Done  34 tasks      | elapsed:   10.0s\n",
      "[Parallel(n_jobs=8)]: Done 100 out of 100 | elapsed:   25.6s finished\n"
     ]
    },
    {
     "data": {
      "text/plain": [
       "MultinomialNB(alpha=0, class_prior=None, fit_prior=1)"
      ]
     },
     "execution_count": 11,
     "metadata": {},
     "output_type": "execute_result"
    }
   ],
   "source": [
    "regEstimator = MultinomialNB()\n",
    "\n",
    "parameters = { 'alpha':[0, 0.25, 0.5, 0.75, 1]\n",
    "              ,'fit_prior': [1,0]\n",
    "              #,'class_prior': ['balanced',None]\n",
    "             }\n",
    "\n",
    "#Create a grid search object\n",
    "regGridSearch = GridSearchCV(estimator=regEstimator\n",
    "                   , n_jobs=8 # jobs to run in parallel\n",
    "                   , verbose=1 # low verbosity\n",
    "                   , param_grid=parameters\n",
    "                   , cv=cv # KFolds = 10\n",
    "                   , scoring='accuracy')\n",
    "\n",
    "#Perform hyperparameter search to find the best combination of parameters for our data\n",
    "regGridSearch.fit(X, y)\n",
    "regGridSearch.best_estimator_"
   ]
  },
  {
   "cell_type": "code",
   "execution_count": 12,
   "metadata": {},
   "outputs": [
    {
     "name": "stdout",
     "output_type": "stream",
     "text": [
      "The average accuracy for all cv folds is: \t\t\t 0.84882\n",
      "The average precision for all cv folds is: \t\t\t 0.84882\n",
      "The average recall for all cv folds is: \t\t\t 1.0\n",
      "The average F1 for all cv folds is: \t\t\t\t 0.91823\n",
      "*********************************************************\n",
      "Cross Validation Fold Mean Error Scores\n",
      "   Accuracy  Precision  Recall        F1\n",
      "0  0.849242   0.849242     1.0  0.918476\n",
      "1  0.849022   0.849022     1.0  0.918347\n",
      "2  0.846771   0.846771     1.0  0.917028\n",
      "3  0.850011   0.850011     1.0  0.918925\n",
      "4  0.849627   0.849627     1.0  0.918701\n",
      "5  0.846386   0.846386     1.0  0.916803\n",
      "6  0.846771   0.846771     1.0  0.917028\n",
      "7  0.850560   0.850560     1.0  0.919246\n",
      "8  0.849572   0.849572     1.0  0.918669\n",
      "9  0.850286   0.850286     1.0  0.919086\n",
      "             precision    recall  f1-score   support\n",
      "\n",
      "          0       0.00      0.00      0.00     27734\n",
      "          1       0.85      1.00      0.92    154339\n",
      "\n",
      "avg / total       0.72      0.85      0.78    182073\n",
      "\n",
      "[[     0  27734]\n",
      " [     0 154339]]\n",
      "0.847676481411\n",
      "None\n",
      "====Iteration 0  ====\n",
      "accuracy 0.849128106549\n",
      "confusion matrix\n",
      " [[    0  5494]\n",
      " [    0 30921]]\n",
      "====Iteration 1  ====\n",
      "accuracy 0.847755045998\n",
      "confusion matrix\n",
      " [[    0  5544]\n",
      " [    0 30871]]\n",
      "====Iteration 2  ====\n",
      "accuracy 0.848331731429\n",
      "confusion matrix\n",
      " [[    0  5523]\n",
      " [    0 30892]]\n",
      "None\n"
     ]
    }
   ],
   "source": [
    "classifierEst = MultinomialNB(alpha=0, class_prior=None, fit_prior=1)\n",
    "\n",
    "#Evaluate the regression estimator above using our pre-defined cross validation and scoring metrics. \n",
    "print(EvaluateClassifierEstimator(classifierEst, X, y, cv))\n",
    "print(EvaluateClassifierEstimator2(classifierEst, X, y, 10))\n",
    "print(EvaluateClassifierEstimator3(classifierEst, X, y, cv))"
   ]
  },
  {
   "cell_type": "markdown",
   "metadata": {},
   "source": [
    "#### Task 2: Predicting Core Academic Competency Projects (Reading, Writing, Math)\n",
    "##### Set Variables for Task2"
   ]
  },
  {
   "cell_type": "code",
   "execution_count": 13,
   "metadata": {
    "collapsed": true
   },
   "outputs": [],
   "source": [
    "# we want to predict the X and y data as follows:\n",
    "y = df['three_r'].values # get the labels we want\n",
    "\n",
    "# Create and fit our Tfidf Vectorizer\n",
    "vectorizer = TfidfVectorizer()\n",
    "x_textVect = vectorizer.fit_transform(df['text'])"
   ]
  },
  {
   "cell_type": "markdown",
   "metadata": {},
   "source": [
    "##### Logistic Regression Classification"
   ]
  },
  {
   "cell_type": "code",
   "execution_count": 15,
   "metadata": {},
   "outputs": [
    {
     "name": "stdout",
     "output_type": "stream",
     "text": [
      "Fitting 10 folds for each of 28 candidates, totalling 280 fits\n"
     ]
    },
    {
     "name": "stderr",
     "output_type": "stream",
     "text": [
      "[Parallel(n_jobs=8)]: Done  34 tasks      | elapsed:  2.4min\n",
      "[Parallel(n_jobs=8)]: Done 184 tasks      | elapsed: 13.5min\n",
      "[Parallel(n_jobs=8)]: Done 280 out of 280 | elapsed: 78.8min finished\n"
     ]
    },
    {
     "data": {
      "text/plain": [
       "LogisticRegression(C=1, class_weight=None, dual=False, fit_intercept=True,\n",
       "          intercept_scaling=1, max_iter=100, multi_class='ovr', n_jobs=1,\n",
       "          penalty='l2', random_state=0, solver='sag', tol=0.0001,\n",
       "          verbose=0, warm_start=False)"
      ]
     },
     "execution_count": 15,
     "metadata": {},
     "output_type": "execute_result"
    }
   ],
   "source": [
    "#Logisitic regression 10-fold cross-validation \n",
    "regEstimator = LogisticRegression()\n",
    "\n",
    "parameters = { 'penalty':['l2']\n",
    "              ,'C': [0.001, 0.01, 0.1, 1, 10, 100, 1000]\n",
    "              ,'class_weight': ['balanced',None]\n",
    "              ,'random_state': [0]\n",
    "              ,'solver': ['sag'] #['lbfgs']\n",
    "              ,'max_iter':[100,500]\n",
    "             }\n",
    "\n",
    "#Create a grid search object\n",
    "regGridSearch = GridSearchCV(estimator=regEstimator\n",
    "                   , n_jobs=8 # jobs to run in parallel\n",
    "                   , verbose=1 # low verbosity\n",
    "                   , param_grid=parameters\n",
    "                   , cv=cv # KFolds = 10\n",
    "                   , scoring='accuracy')\n",
    "\n",
    "#Perform hyperparameter search to find the best combination of parameters for our data\n",
    "regGridSearch.fit(x_textVect, y)\n",
    "regGridSearch.best_estimator_"
   ]
  },
  {
   "cell_type": "code",
   "execution_count": 16,
   "metadata": {},
   "outputs": [
    {
     "name": "stdout",
     "output_type": "stream",
     "text": [
      "The average accuracy for all cv folds is: \t\t\t 0.87132\n",
      "The average precision for all cv folds is: \t\t\t 0.88899\n",
      "The average recall for all cv folds is: \t\t\t 0.93318\n",
      "The average F1 for all cv folds is: \t\t\t\t 0.91055\n",
      "*********************************************************\n",
      "Cross Validation Fold Mean Error Scores\n",
      "   Accuracy  Precision    Recall        F1\n",
      "0  0.870991   0.888488  0.931947  0.909699\n",
      "1  0.870387   0.889477  0.931433  0.909972\n",
      "2  0.871375   0.886423  0.936329  0.910692\n",
      "3  0.869123   0.886742  0.932843  0.909209\n",
      "4  0.868409   0.884794  0.932624  0.908079\n",
      "5  0.871650   0.889913  0.933271  0.911076\n",
      "6  0.871540   0.890110  0.933136  0.911115\n",
      "7  0.871870   0.889352  0.934010  0.911134\n",
      "8  0.873517   0.894219  0.931481  0.912470\n",
      "9  0.874341   0.890415  0.934757  0.912047\n",
      "             precision    recall  f1-score   support\n",
      "\n",
      "      False       0.82      0.72      0.77     54186\n",
      "       True       0.89      0.93      0.91    127887\n",
      "\n",
      "avg / total       0.87      0.87      0.87    182073\n",
      "\n",
      "[[ 39177  15009]\n",
      " [  8632 119255]]\n",
      "0.870156475699\n",
      "None\n",
      "====Iteration 0  ====\n",
      "accuracy 0.867252505836\n",
      "confusion matrix\n",
      " [[ 7787  3103]\n",
      " [ 1731 23794]]\n",
      "====Iteration 1  ====\n",
      "accuracy 0.871151997803\n",
      "confusion matrix\n",
      " [[ 7779  3004]\n",
      " [ 1688 23944]]\n",
      "====Iteration 2  ====\n",
      "accuracy 0.870053549362\n",
      "confusion matrix\n",
      " [[ 8009  3069]\n",
      " [ 1663 23674]]\n",
      "None\n"
     ]
    }
   ],
   "source": [
    "#https://github.com/jakemdrew/EducationDataNC/blob/master/2017/Models/2017SegregatedHighSchoolCampuses.ipynb\n",
    "#Use the best parameters for our Linear Regression object\n",
    "classifierEst = LogisticRegression(C=1, class_weight=None, dual=False, fit_intercept=True,\n",
    "                                   intercept_scaling=1, max_iter=100, multi_class='ovr', n_jobs=1,\n",
    "                                   penalty='l2', random_state=0, solver='sag', tol=0.0001,\n",
    "                                   verbose=0, warm_start=False)\n",
    "\n",
    "#Evaluate the regression estimator above using our pre-defined cross validation and scoring metrics. \n",
    "print(EvaluateClassifierEstimator(classifierEst, x_textVect, y, cv))\n",
    "print(EvaluateClassifierEstimator2(classifierEst, x_textVect, y, 10))\n",
    "print(EvaluateClassifierEstimator3(classifierEst, x_textVect, y, cv))"
   ]
  },
  {
   "cell_type": "markdown",
   "metadata": {},
   "source": [
    "##### Random Forest Classification"
   ]
  },
  {
   "cell_type": "code",
   "execution_count": 17,
   "metadata": {},
   "outputs": [
    {
     "name": "stdout",
     "output_type": "stream",
     "text": [
      "Fitting 10 folds for each of 16 candidates, totalling 160 fits\n"
     ]
    },
    {
     "name": "stderr",
     "output_type": "stream",
     "text": [
      "[Parallel(n_jobs=8)]: Done  34 tasks      | elapsed: 70.3min\n",
      "[Parallel(n_jobs=8)]: Done 160 out of 160 | elapsed: 327.3min finished\n"
     ]
    },
    {
     "data": {
      "text/plain": [
       "RandomForestClassifier(bootstrap=True, class_weight='balanced',\n",
       "            criterion='entropy', max_depth=None, max_features='auto',\n",
       "            max_leaf_nodes=None, min_impurity_decrease=0.0,\n",
       "            min_impurity_split=None, min_samples_leaf=1,\n",
       "            min_samples_split=2, min_weight_fraction_leaf=0.0,\n",
       "            n_estimators=50, n_jobs=1, oob_score=False, random_state=None,\n",
       "            verbose=0, warm_start=False)"
      ]
     },
     "execution_count": 17,
     "metadata": {},
     "output_type": "execute_result"
    }
   ],
   "source": [
    "regEstimator = RandomForestClassifier()\n",
    "\n",
    "parameters = { 'n_estimators':[5, 10, 25, 50]\n",
    "              ,'criterion': ['gini','entropy']\n",
    "              #,'n_jobs': [-1]\n",
    "              ,'class_weight': ['balanced',None]\n",
    "             }\n",
    "\n",
    "#Create a grid search object\n",
    "regGridSearch = GridSearchCV(estimator=regEstimator\n",
    "                   , n_jobs=8 # jobs to run in parallel\n",
    "                   , verbose=1 # low verbosity\n",
    "                   , param_grid=parameters\n",
    "                   , cv=cv # KFolds = 10\n",
    "                   , scoring='accuracy')\n",
    "\n",
    "#Perform hyperparameter search to find the best combination of parameters for our data\n",
    "regGridSearch.fit(x_textVect, y)\n",
    "regGridSearch.best_estimator_"
   ]
  },
  {
   "cell_type": "code",
   "execution_count": 18,
   "metadata": {},
   "outputs": [
    {
     "name": "stdout",
     "output_type": "stream",
     "text": [
      "The average accuracy for all cv folds is: \t\t\t 0.8434\n",
      "The average precision for all cv folds is: \t\t\t 0.8414\n",
      "The average recall for all cv folds is: \t\t\t 0.95734\n",
      "The average F1 for all cv folds is: \t\t\t\t 0.89563\n",
      "*********************************************************\n",
      "Cross Validation Fold Mean Error Scores\n",
      "   Accuracy  Precision    Recall        F1\n",
      "0  0.841718   0.838134  0.958018  0.894075\n",
      "1  0.843201   0.841455  0.957439  0.895708\n",
      "2  0.840235   0.836386  0.959617  0.893774\n",
      "3  0.842047   0.839671  0.958096  0.894983\n",
      "4  0.840125   0.837184  0.956659  0.892943\n",
      "5  0.849407   0.849190  0.956034  0.899450\n",
      "6  0.844189   0.843420  0.956799  0.896539\n",
      "7  0.842597   0.840774  0.957517  0.895356\n",
      "8  0.845343   0.845394  0.956390  0.897473\n",
      "9  0.845123   0.842386  0.956820  0.895964\n",
      "             precision    recall  f1-score   support\n",
      "\n",
      "      False       0.85      0.57      0.68     54186\n",
      "       True       0.84      0.96      0.90    127887\n",
      "\n",
      "avg / total       0.84      0.84      0.83    182073\n",
      "\n",
      "[[ 31033  23153]\n",
      " [  5404 122483]]\n",
      "0.843156316423\n",
      "None\n",
      "====Iteration 0  ====\n",
      "accuracy 0.843745709186\n",
      "confusion matrix\n",
      " [[ 6142  4618]\n",
      " [ 1072 24583]]\n",
      "====Iteration 1  ====\n",
      "accuracy 0.840889743238\n",
      "confusion matrix\n",
      " [[ 6206  4650]\n",
      " [ 1144 24415]]\n",
      "====Iteration 2  ====\n",
      "accuracy 0.838445695455\n",
      "confusion matrix\n",
      " [[ 6087  4818]\n",
      " [ 1065 24445]]\n",
      "None\n"
     ]
    }
   ],
   "source": [
    "classifierEst = RandomForestClassifier(bootstrap=True, class_weight='balanced',\n",
    "                                       criterion='entropy', max_depth=None, max_features='auto',\n",
    "                                       max_leaf_nodes=None, min_impurity_decrease=0.0,\n",
    "                                       min_impurity_split=None, min_samples_leaf=1,\n",
    "                                       min_samples_split=2, min_weight_fraction_leaf=0.0,\n",
    "                                       n_estimators=50, n_jobs=1, oob_score=False, random_state=None,\n",
    "                                       verbose=0, warm_start=False)\n",
    "\n",
    "#Evaluate the regression estimator above using our pre-defined cross validation and scoring metrics. \n",
    "print(EvaluateClassifierEstimator(classifierEst, x_textVect, y, cv))\n",
    "print(EvaluateClassifierEstimator2(classifierEst, x_textVect, y, 10))\n",
    "print(EvaluateClassifierEstimator3(classifierEst, x_textVect, y, cv))"
   ]
  },
  {
   "cell_type": "markdown",
   "metadata": {},
   "source": [
    "##### Naive Bayes - Multinomial"
   ]
  },
  {
   "cell_type": "code",
   "execution_count": 34,
   "metadata": {},
   "outputs": [
    {
     "name": "stdout",
     "output_type": "stream",
     "text": [
      "Fitting 10 folds for each of 10 candidates, totalling 100 fits\n"
     ]
    },
    {
     "name": "stderr",
     "output_type": "stream",
     "text": [
      "[Parallel(n_jobs=8)]: Done  34 tasks      | elapsed:   22.1s\n",
      "[Parallel(n_jobs=8)]: Done 100 out of 100 | elapsed:   56.1s finished\n"
     ]
    },
    {
     "data": {
      "text/plain": [
       "MultinomialNB(alpha=0.75, class_prior=None, fit_prior=0)"
      ]
     },
     "execution_count": 34,
     "metadata": {},
     "output_type": "execute_result"
    }
   ],
   "source": [
    "regEstimator = MultinomialNB()\n",
    "\n",
    "parameters = { 'alpha':[0, 0.25, 0.5, 0.75, 1]\n",
    "              ,'fit_prior': [1,0]\n",
    "              #,'class_prior': ['balanced',None]\n",
    "             }\n",
    "\n",
    "#Create a grid search object\n",
    "regGridSearch = GridSearchCV(estimator=regEstimator\n",
    "                   , n_jobs=8 # jobs to run in parallel\n",
    "                   , verbose=1 # low verbosity\n",
    "                   , param_grid=parameters\n",
    "                   , cv=cv # KFolds = 10\n",
    "                   , scoring='accuracy')\n",
    "\n",
    "#Perform hyperparameter search to find the best combination of parameters for our data\n",
    "regGridSearch.fit(x_textVect, y)\n",
    "regGridSearch.best_estimator_"
   ]
  },
  {
   "cell_type": "code",
   "execution_count": 35,
   "metadata": {},
   "outputs": [
    {
     "name": "stdout",
     "output_type": "stream",
     "text": [
      "The average accuracy for all cv folds is: \t\t\t 0.84861\n",
      "The average precision for all cv folds is: \t\t\t 0.89095\n",
      "The average recall for all cv folds is: \t\t\t 0.89368\n",
      "The average F1 for all cv folds is: \t\t\t\t 0.89231\n",
      "*********************************************************\n",
      "Cross Validation Fold Mean Error Scores\n",
      "   Accuracy  Precision    Recall        F1\n",
      "0  0.845947   0.888767  0.890517  0.889641\n",
      "1  0.847100   0.890743  0.891995  0.891369\n",
      "2  0.846112   0.886567  0.894770  0.890649\n",
      "3  0.848089   0.890412  0.893753  0.892080\n",
      "4  0.847430   0.889684  0.891647  0.890664\n",
      "5  0.852482   0.894078  0.896866  0.895470\n",
      "6  0.847704   0.890647  0.893905  0.892273\n",
      "7  0.850450   0.891443  0.896525  0.893977\n",
      "8  0.849187   0.894193  0.892527  0.893359\n",
      "9  0.851604   0.892989  0.894256  0.893622\n",
      "             precision    recall  f1-score   support\n",
      "\n",
      "      False       0.75      0.74      0.74     54186\n",
      "       True       0.89      0.89      0.89    127887\n",
      "\n",
      "avg / total       0.85      0.85      0.85    182073\n",
      "\n",
      "[[ 40115  14071]\n",
      " [ 13548 114339]]\n",
      "0.848308096203\n",
      "None\n",
      "====Iteration 0  ====\n",
      "accuracy 0.846711519978\n",
      "confusion matrix\n",
      " [[ 7948  2959]\n",
      " [ 2623 22885]]\n",
      "====Iteration 1  ====\n",
      "accuracy 0.847727584786\n",
      "confusion matrix\n",
      " [[ 7914  2892]\n",
      " [ 2653 22956]]\n",
      "====Iteration 2  ====\n",
      "accuracy 0.849787175614\n",
      "confusion matrix\n",
      " [[ 7935  2908]\n",
      " [ 2562 23010]]\n",
      "None\n"
     ]
    }
   ],
   "source": [
    "#Evaluate the regression estimator above using our pre-defined cross validation and scoring metrics. \n",
    "classifierEst = MultinomialNB(alpha=0.75, class_prior=None, fit_prior=0)\n",
    "\n",
    "#Evaluate the regression estimator above using our pre-defined cross validation and scoring metrics. \n",
    "print(EvaluateClassifierEstimator(classifierEst, x_textVect, y, cv))\n",
    "print(EvaluateClassifierEstimator2(classifierEst, x_textVect, y, 10))\n",
    "print(EvaluateClassifierEstimator3(classifierEst, x_textVect, y, cv))"
   ]
  },
  {
   "cell_type": "markdown",
   "metadata": {},
   "source": [
    "### Analyze Results of Chosen Models"
   ]
  },
  {
   "cell_type": "code",
   "execution_count": null,
   "metadata": {
    "collapsed": true
   },
   "outputs": [],
   "source": [
    "#need something here"
   ]
  },
  {
   "cell_type": "markdown",
   "metadata": {},
   "source": [
    "### Model Advantages"
   ]
  },
  {
   "cell_type": "code",
   "execution_count": null,
   "metadata": {
    "collapsed": true
   },
   "outputs": [],
   "source": [
    "#need something here"
   ]
  },
  {
   "cell_type": "markdown",
   "metadata": {},
   "source": [
    "### Model Attribute Importance"
   ]
  },
  {
   "cell_type": "code",
   "execution_count": null,
   "metadata": {
    "collapsed": true
   },
   "outputs": [],
   "source": [
    "#https://github.com/jakemdrew/EducationDataNC/blob/master/2017/Models/2017SegregatedHighSchoolCampuses.ipynb\n",
    "\n",
    "# scale attributes by the training set\n",
    "scl_obj = StandardScaler()\n",
    "scl_obj.fit(X[train_indices]) # find scalings for each column that make this zero mean and unit std\n",
    "# the line of code above only looks at training data to get mean and std and we can use it \n",
    "# to transform new feature data. It uses the last iteration of the loop above for the split.\n",
    "\n",
    "X_train_scaled = scl_obj.transform(X[train_indices]) # apply to training\n",
    "X_test_scaled = scl_obj.transform(X[test_indices]) # apply those means and std to the test set (without snooping at the test set values)\n",
    "\n",
    "# train the model just as before\n",
    "lr_clf = LogisticRegression(C=0.001, class_weight='balanced', dual=False,\n",
    "          fit_intercept=True, intercept_scaling=1, max_iter=100,\n",
    "          multi_class='ovr', n_jobs=1, penalty='l2', random_state=0,\n",
    "          solver='sag', tol=0.0001, verbose=0, warm_start=False)  \n",
    "lr_clf.fit(X_train_scaled,y[train_indices])  # train object\n",
    "\n",
    "y_hat = lr_clf.predict(X_test_scaled) # get test set precitions\n",
    "\n",
    "acc = mt.accuracy_score(y[test_indices],y_hat)\n",
    "conf = mt.confusion_matrix(y[test_indices],y_hat)\n",
    "print('accuracy:', acc )\n",
    "print(conf )\n",
    "\n",
    "# sort these attributes and spit them out\n",
    "zip_vars = zip(lr_clf.coef_.T,df.columns) # combine attributes\n",
    "zip_vars = sorted(zip_vars)\n",
    "for coef, name in zip_vars:\n",
    "    print(name, 'has weight of', coef[0]) # now print them out"
   ]
  },
  {
   "cell_type": "code",
   "execution_count": 96,
   "metadata": {},
   "outputs": [
    {
     "data": {
      "image/png": "[encoded data removed]",
      "text/plain": [
       "<matplotlib.figure.Figure at 0x254a3adcc88>"
      ]
     },
     "metadata": {},
     "output_type": "display_data"
    }
   ],
   "source": [
    "# now let's make a pandas Series with the names and values, and plot them\n",
    "# reference for code: https://github.com/jakemdrew/EducationDataNC/blob/master/2017/Models/2017SegregatedHighSchoolCampuses.ipynb\n",
    "from matplotlib import pyplot as plt\n",
    "%matplotlib inline\n",
    "plt.style.use('ggplot')\n",
    "\n",
    "weights = lr_clf.coef_.ravel()\n",
    "feature_names = df.columns.values\n",
    "\n",
    "logreg_features = pd.DataFrame({'feature_names': feature_names[:10], 'weights': weights, 'absolute_weights':np.abs(weights)})\n",
    "logreg_features.sort_values(by='absolute_weights', inplace=True, ascending = False)\n",
    "\n",
    "weights = pd.Series(logreg_features['weights'].values, index=logreg_features['feature_names'])\n",
    "px = weights.plot(kind='bar')\n",
    "px.set_xlabel(\"Feature Names\")\n",
    "px.set_ylabel(\"Weight\")\n",
    "px.set_title(\"Ranked Feature Importance\")\n",
    "plt.show()"
   ]
  },
  {
   "cell_type": "markdown",
   "metadata": {},
   "source": [
    "## Deployment"
   ]
  },
  {
   "cell_type": "code",
   "execution_count": null,
   "metadata": {
    "collapsed": true
   },
   "outputs": [],
   "source": [
    "#need something here"
   ]
  },
  {
   "cell_type": "markdown",
   "metadata": {},
   "source": [
    "## Exceptional Work"
   ]
  },
  {
   "cell_type": "code",
   "execution_count": 79,
   "metadata": {
    "collapsed": true
   },
   "outputs": [],
   "source": [
    "#need something here"
   ]
  }
 ],
 "metadata": {
  "kernelspec": {
   "display_name": "Python 3",
   "language": "python",
   "name": "python3"
  },
  "language_info": {
   "codemirror_mode": {
    "name": "ipython",
    "version": 3
   },
   "file_extension": ".py",
   "mimetype": "text/x-python",
   "name": "python",
   "nbconvert_exporter": "python",
   "pygments_lexer": "ipython3",
   "version": "3.6.3"
  }
 },
 "nbformat": 4,
 "nbformat_minor": 2
}
