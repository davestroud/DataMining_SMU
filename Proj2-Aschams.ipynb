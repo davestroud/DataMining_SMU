{
 "cells": [
  {
   "cell_type": "markdown",
   "metadata": {},
   "source": [
    "# Project 2\n",
    "\n",
    "## MSDS7331: Data Mining\n",
    "## Section 0403\n",
    "## Summer 2018\n",
    "- Anthony Schams\n",
    "- Laura Ludwig  \n",
    "- David Stroud\n",
    "- Joshua Balson"
   ]
  },
  {
   "cell_type": "markdown",
   "metadata": {},
   "source": [
    "## Data Preparation \n",
    "### Data Preparation Part 1\n",
    "#### Define and Prepare Class Variables"
   ]
  },
  {
   "cell_type": "markdown",
   "metadata": {},
   "source": [
    "##### Import Necessary packages"
   ]
  },
  {
   "cell_type": "code",
   "execution_count": 2,
   "metadata": {},
   "outputs": [
    {
     "name": "stderr",
     "output_type": "stream",
     "text": [
      "/Users/anthonyschams/anaconda/lib/python3.6/site-packages/sklearn/cross_validation.py:41: DeprecationWarning: This module was deprecated in version 0.18 in favor of the model_selection module into which all the refactored classes and functions are moved. Also note that the interface of the new CV iterators are different from that of this module. This module will be removed in 0.20.\n",
      "  \"This module will be removed in 0.20.\", DeprecationWarning)\n"
     ]
    }
   ],
   "source": [
    "import matplotlib.pyplot as plt\n",
    "import pandas as pd\n",
    "import numpy as np\n",
    "from nltk.corpus import stopwords\n",
    "import datetime as dt\n",
    "import warnings\n",
    "import string\n",
    "import time\n",
    "from __future__ import print_function\n",
    "from sklearn.feature_extraction.text import TfidfVectorizer\n",
    "from sklearn.linear_model import LogisticRegression\n",
    "from matplotlib import pyplot as plt\n",
    "from sklearn.preprocessing import StandardScaler\n",
    "from sklearn.neighbors import KNeighborsClassifier\n",
    "from sklearn.model_selection import StratifiedKFold, cross_validate, cross_val_predict,GridSearchCV, ShuffleSplit,StratifiedShuffleSplit \n",
    "from sklearn.cross_validation import train_test_split\n",
    "from sklearn.naive_bayes import MultinomialNB\n",
    "from sklearn import metrics as mt\n",
    "from sklearn.decomposition import PCA\n",
    "from sklearn.tree import DecisionTreeClassifier\n",
    "from sklearn.metrics import classification_report, confusion_matrix, accuracy_score\n",
    "from sklearn.ensemble import RandomForestClassifier\n"
   ]
  },
  {
   "cell_type": "markdown",
   "metadata": {},
   "source": [
    "##### Import the data"
   ]
  },
  {
   "cell_type": "code",
   "execution_count": 3,
   "metadata": {},
   "outputs": [
    {
     "name": "stdout",
     "output_type": "stream",
     "text": [
      "<class 'pandas.core.frame.DataFrame'>\n",
      "Int64Index: 182080 entries, 0 to 182079\n",
      "Data columns (total 20 columns):\n",
      "id                                              182080 non-null object\n",
      "teacher_id                                      182080 non-null object\n",
      "teacher_prefix                                  182076 non-null object\n",
      "school_state                                    182080 non-null object\n",
      "project_submitted_datetime                      182080 non-null object\n",
      "project_grade_category                          182080 non-null object\n",
      "project_subject_categories                      182080 non-null object\n",
      "project_subject_subcategories                   182080 non-null object\n",
      "project_title                                   182080 non-null object\n",
      "project_essay_1                                 182080 non-null object\n",
      "project_essay_2                                 182080 non-null object\n",
      "project_essay_3                                 6374 non-null object\n",
      "project_essay_4                                 6374 non-null object\n",
      "project_resource_summary                        182080 non-null object\n",
      "teacher_number_of_previously_posted_projects    182080 non-null int64\n",
      "project_is_approved                             182080 non-null int64\n",
      "Total_Cost                                      182077 non-null float64\n",
      "True_Quantity                                   182077 non-null float64\n",
      "Average_item_cost                               182077 non-null float64\n",
      "text                                            182080 non-null object\n",
      "dtypes: float64(3), int64(2), object(15)\n",
      "memory usage: 29.2+ MB\n"
     ]
    }
   ],
   "source": [
    "\n",
    "\n",
    "df_train = pd.read_csv('train.csv')\n",
    "df_resources = pd.read_csv('resources.csv')\n",
    "train_resource = pd.merge(df_train, df_resources, on=\"id\", how='left')\n",
    "df_train[df_train.teacher_prefix.isnull()]\n",
    "train_resource[train_resource.description.isnull()].head()\n",
    "t2 = train_resource.pivot_table(index = ['id', 'description'],\n",
    "                                values='quantity', \n",
    "                                aggfunc=np.sum)\n",
    "t2.reset_index(inplace=True)\n",
    "train_resource = pd.merge(train_resource,\n",
    "                          t2, \n",
    "                          on=['id', 'description'], \n",
    "                          how='right',\n",
    "                          suffixes=('_Orig', '_True'))\n",
    "\n",
    "train_resource = train_resource.drop_duplicates()\n",
    "train_resource = train_resource.drop('quantity_Orig', axis=1)\n",
    "train_resource = train_resource.rename(columns={'quantity_True': 'True_Quantity'})\n",
    "train_resource['Total_Cost'] = train_resource.price * train_resource.True_Quantity\n",
    "Total_cost = train_resource.pivot_table(values=['Total_Cost','True_Quantity'],\n",
    "                                        index='id',\n",
    "                                        aggfunc={'Total_Cost' : np.sum, 'True_Quantity' : np.sum})\n",
    "Total_cost.reset_index(level=0, inplace = True)\n",
    "\n",
    "df_train = df_train.merge(Total_cost, on='id', how='left')\n",
    "df_train['Average_item_cost'] = df_train.Total_Cost  / df_train.True_Quantity\n",
    "\n",
    "df_train['text'] = df_train.apply(lambda row: ' '.join([str(row['project_essay_1']), \n",
    "                                                        str(row['project_essay_2']), \n",
    "                                                        str(row['project_essay_3']), \n",
    "                                                        str(row['project_essay_4'])]), axis=1\n",
    "                                                      )                               \n",
    "\n",
    "df = df_train\n",
    "\n",
    "stop_words = list(set(stopwords.words('english')))\n",
    "warnings.filterwarnings('ignore')\n",
    "punctuation = string.punctuation\n",
    "\n",
    "df.info()"
   ]
  },
  {
   "cell_type": "markdown",
   "metadata": {},
   "source": [
    "#### Variable Clean-up"
   ]
  },
  {
   "cell_type": "markdown",
   "metadata": {},
   "source": [
    "Due to a change in the application questions, we must combine the responses for two questions in the earlier period to equate to one response in the later period. Prior to the change, the first two questions asked the teacher to introduce their students using two questions: one about their classroom and another describing their students. The later format has one question requesting the teacher to describe their students. The third and fourth questions in the prior period asked about the project details, which is addressed in the second question in the later period. We combined the text to create two variables: student_desc and proj_desc, to capture these two topics in comparable variables. Once we've created those, we remove the project_essay_x variables from the dataframe.  "
   ]
  },
  {
   "cell_type": "code",
   "execution_count": 4,
   "metadata": {},
   "outputs": [],
   "source": [
    "# Create comparable variables based on the changes to the application questions that happened during the middle of the time period\n",
    "df['student_desc'] = np.where(df['project_submitted_datetime']<'2016-05-17',df['project_essay_1']+' '+df['project_essay_2'],df['project_essay_1'])\n",
    "df['proj_desc'] = np.where(df['project_submitted_datetime']<'2016-05-17',df['project_essay_3']+' '+df['project_essay_4'],df['project_essay_2'])\n",
    "\n",
    "# Remove attributes that arent useful\n",
    "if 'project_essay_1' in df:\n",
    "    del df['project_essay_1']\n",
    "if 'project_essay_2' in df:    \n",
    "    del df['project_essay_2']\n",
    "if 'project_essay_3' in df:\n",
    "    del df['project_essay_3']\n",
    "if 'project_essay_4' in df:    \n",
    "    del df['project_essay_4']"
   ]
  },
  {
   "cell_type": "markdown",
   "metadata": {},
   "source": [
    "Because one of our analysis tasks is to predict whether we can identify projects that address core academic competencies (reading, writing, and math), we create a variable called \"three_r\" to identify this as a category distinctly. We also add in the essay word lengths for essays one and two.  We perform a log transform on the continuous variables to correct for right-skew.  Finally, we create dummy variables for 'teacher_prefix' and 'project_grade_category'."
   ]
  },
  {
   "cell_type": "code",
   "execution_count": 5,
   "metadata": {
    "scrolled": false
   },
   "outputs": [
    {
     "name": "stdout",
     "output_type": "stream",
     "text": [
      "<class 'pandas.core.frame.DataFrame'>\n",
      "Int64Index: 182073 entries, 0 to 182079\n",
      "Data columns (total 14 columns):\n",
      "teacher_number_of_previously_posted_projects    182073 non-null float64\n",
      "Total_Cost                                      182073 non-null float64\n",
      "True_Quantity                                   182073 non-null float64\n",
      "Average_item_cost                               182073 non-null float64\n",
      "project_is_approved                             182073 non-null int64\n",
      "teacher_prefix_Teacher                          182073 non-null uint8\n",
      "project_grade_category_Grades PreK-2            182073 non-null uint8\n",
      "essay1_DescribeStudents_len                     182073 non-null float64\n",
      "essay2_AboutProject_len                         182073 non-null float64\n",
      "title_len                                       182073 non-null float64\n",
      "text                                            182073 non-null object\n",
      "three_r                                         182073 non-null bool\n",
      "student_desc                                    182073 non-null object\n",
      "proj_desc                                       182073 non-null object\n",
      "dtypes: bool(1), float64(7), int64(1), object(3), uint8(2)\n",
      "memory usage: 17.2+ MB\n"
     ]
    },
    {
     "data": {
      "text/html": [
       "<div>\n",
       "<style scoped>\n",
       "    .dataframe tbody tr th:only-of-type {\n",
       "        vertical-align: middle;\n",
       "    }\n",
       "\n",
       "    .dataframe tbody tr th {\n",
       "        vertical-align: top;\n",
       "    }\n",
       "\n",
       "    .dataframe thead th {\n",
       "        text-align: right;\n",
       "    }\n",
       "</style>\n",
       "<table border=\"1\" class=\"dataframe\">\n",
       "  <thead>\n",
       "    <tr style=\"text-align: right;\">\n",
       "      <th></th>\n",
       "      <th>teacher_number_of_previously_posted_projects</th>\n",
       "      <th>Total_Cost</th>\n",
       "      <th>True_Quantity</th>\n",
       "      <th>Average_item_cost</th>\n",
       "      <th>project_is_approved</th>\n",
       "      <th>teacher_prefix_Teacher</th>\n",
       "      <th>project_grade_category_Grades PreK-2</th>\n",
       "      <th>essay1_DescribeStudents_len</th>\n",
       "      <th>essay2_AboutProject_len</th>\n",
       "      <th>title_len</th>\n",
       "    </tr>\n",
       "  </thead>\n",
       "  <tbody>\n",
       "    <tr>\n",
       "      <th>count</th>\n",
       "      <td>182073.000000</td>\n",
       "      <td>182073.000000</td>\n",
       "      <td>182073.000000</td>\n",
       "      <td>182073.000000</td>\n",
       "      <td>182073.000000</td>\n",
       "      <td>182073.000000</td>\n",
       "      <td>182073.000000</td>\n",
       "      <td>182073.000000</td>\n",
       "      <td>182073.000000</td>\n",
       "      <td>182073.000000</td>\n",
       "    </tr>\n",
       "    <tr>\n",
       "      <th>mean</th>\n",
       "      <td>1.440580</td>\n",
       "      <td>6.021158</td>\n",
       "      <td>2.330753</td>\n",
       "      <td>3.916123</td>\n",
       "      <td>0.847676</td>\n",
       "      <td>0.021486</td>\n",
       "      <td>0.405821</td>\n",
       "      <td>6.486513</td>\n",
       "      <td>6.696629</td>\n",
       "      <td>3.429738</td>\n",
       "    </tr>\n",
       "    <tr>\n",
       "      <th>std</th>\n",
       "      <td>1.318374</td>\n",
       "      <td>0.740747</td>\n",
       "      <td>1.039543</td>\n",
       "      <td>1.282055</td>\n",
       "      <td>0.359335</td>\n",
       "      <td>0.144998</td>\n",
       "      <td>0.491052</td>\n",
       "      <td>0.274325</td>\n",
       "      <td>0.294957</td>\n",
       "      <td>0.407495</td>\n",
       "    </tr>\n",
       "    <tr>\n",
       "      <th>min</th>\n",
       "      <td>0.000000</td>\n",
       "      <td>4.313212</td>\n",
       "      <td>0.693147</td>\n",
       "      <td>0.230229</td>\n",
       "      <td>0.000000</td>\n",
       "      <td>0.000000</td>\n",
       "      <td>0.000000</td>\n",
       "      <td>4.304065</td>\n",
       "      <td>5.517453</td>\n",
       "      <td>1.609438</td>\n",
       "    </tr>\n",
       "    <tr>\n",
       "      <th>25%</th>\n",
       "      <td>0.000000</td>\n",
       "      <td>5.514759</td>\n",
       "      <td>1.609438</td>\n",
       "      <td>2.891869</td>\n",
       "      <td>1.000000</td>\n",
       "      <td>0.000000</td>\n",
       "      <td>0.000000</td>\n",
       "      <td>6.261492</td>\n",
       "      <td>6.466145</td>\n",
       "      <td>3.135494</td>\n",
       "    </tr>\n",
       "    <tr>\n",
       "      <th>50%</th>\n",
       "      <td>1.098612</td>\n",
       "      <td>5.990964</td>\n",
       "      <td>2.302585</td>\n",
       "      <td>3.848531</td>\n",
       "      <td>1.000000</td>\n",
       "      <td>0.000000</td>\n",
       "      <td>0.000000</td>\n",
       "      <td>6.424869</td>\n",
       "      <td>6.608001</td>\n",
       "      <td>3.433987</td>\n",
       "    </tr>\n",
       "    <tr>\n",
       "      <th>75%</th>\n",
       "      <td>2.302585</td>\n",
       "      <td>6.549365</td>\n",
       "      <td>3.091042</td>\n",
       "      <td>4.918228</td>\n",
       "      <td>1.000000</td>\n",
       "      <td>0.000000</td>\n",
       "      <td>1.000000</td>\n",
       "      <td>6.680855</td>\n",
       "      <td>6.875232</td>\n",
       "      <td>3.737670</td>\n",
       "    </tr>\n",
       "    <tr>\n",
       "      <th>max</th>\n",
       "      <td>6.113682</td>\n",
       "      <td>9.700169</td>\n",
       "      <td>7.247793</td>\n",
       "      <td>9.210340</td>\n",
       "      <td>1.000000</td>\n",
       "      <td>1.000000</td>\n",
       "      <td>1.000000</td>\n",
       "      <td>7.923348</td>\n",
       "      <td>8.561210</td>\n",
       "      <td>4.955827</td>\n",
       "    </tr>\n",
       "  </tbody>\n",
       "</table>\n",
       "</div>"
      ],
      "text/plain": [
       "       teacher_number_of_previously_posted_projects     Total_Cost  \\\n",
       "count                                 182073.000000  182073.000000   \n",
       "mean                                       1.440580       6.021158   \n",
       "std                                        1.318374       0.740747   \n",
       "min                                        0.000000       4.313212   \n",
       "25%                                        0.000000       5.514759   \n",
       "50%                                        1.098612       5.990964   \n",
       "75%                                        2.302585       6.549365   \n",
       "max                                        6.113682       9.700169   \n",
       "\n",
       "       True_Quantity  Average_item_cost  project_is_approved  \\\n",
       "count  182073.000000      182073.000000        182073.000000   \n",
       "mean        2.330753           3.916123             0.847676   \n",
       "std         1.039543           1.282055             0.359335   \n",
       "min         0.693147           0.230229             0.000000   \n",
       "25%         1.609438           2.891869             1.000000   \n",
       "50%         2.302585           3.848531             1.000000   \n",
       "75%         3.091042           4.918228             1.000000   \n",
       "max         7.247793           9.210340             1.000000   \n",
       "\n",
       "       teacher_prefix_Teacher  project_grade_category_Grades PreK-2  \\\n",
       "count           182073.000000                         182073.000000   \n",
       "mean                 0.021486                              0.405821   \n",
       "std                  0.144998                              0.491052   \n",
       "min                  0.000000                              0.000000   \n",
       "25%                  0.000000                              0.000000   \n",
       "50%                  0.000000                              0.000000   \n",
       "75%                  0.000000                              1.000000   \n",
       "max                  1.000000                              1.000000   \n",
       "\n",
       "       essay1_DescribeStudents_len  essay2_AboutProject_len      title_len  \n",
       "count                182073.000000            182073.000000  182073.000000  \n",
       "mean                      6.486513                 6.696629       3.429738  \n",
       "std                       0.274325                 0.294957       0.407495  \n",
       "min                       4.304065                 5.517453       1.609438  \n",
       "25%                       6.261492                 6.466145       3.135494  \n",
       "50%                       6.424869                 6.608001       3.433987  \n",
       "75%                       6.680855                 6.875232       3.737670  \n",
       "max                       7.923348                 8.561210       4.955827  "
      ]
     },
     "execution_count": 5,
     "metadata": {},
     "output_type": "execute_result"
    }
   ],
   "source": [
    "#https://github.com/eclarson/DataMiningNotebooks/blob/master/04.%20Logits%20and%20SVM.ipynb\n",
    "\n",
    "\n",
    "df[\"three_r\"] = np.logical_or(df[\"project_subject_categories\"].str.contains(\"Literacy & Language\")\n",
    "                             ,df[\"project_subject_categories\"].str.contains(\"Math & Science\")\n",
    "                             )\n",
    "\n",
    "# drop rows that still had missing values after grouped imputation\n",
    "df.dropna(inplace=True)\n",
    "\n",
    "# extract length of each essay and title\n",
    "df['essay1_DescribeStudents_len'] = df['student_desc'].apply(len)\n",
    "df['essay2_AboutProject_len'] = df['proj_desc'].apply(len)\n",
    "df['title_len'] = df['project_title'].apply(len)\n",
    "\n",
    "# take natural log of right skewed attributes\n",
    "df['teacher_number_of_previously_posted_projects']=np.log1p(df.teacher_number_of_previously_posted_projects)\n",
    "df['Total_Cost']=np.log1p(df.Total_Cost)\n",
    "df['True_Quantity']=np.log1p(df.True_Quantity)\n",
    "df['Average_item_cost']=np.log1p(df.Average_item_cost)\n",
    "df['essay1_DescribeStudents_len']=np.log1p(df.essay1_DescribeStudents_len)\n",
    "df['essay2_AboutProject_len']=np.log1p(df.essay2_AboutProject_len)\n",
    "df['title_len']=np.log1p(df.title_len)\n",
    "\n",
    "# perform one-hot encoding of the categorical data\n",
    "tmp_df = pd.get_dummies(df.teacher_prefix,prefix='teacher_prefix')\n",
    "df = pd.concat((df,tmp_df),axis=1) # add back into the dataframe\n",
    "\n",
    "tmp_df = pd.get_dummies(df.project_grade_category,prefix='project_grade_category')\n",
    "df = pd.concat((df,tmp_df),axis=1) # add back into the dataframe\n",
    "\n",
    "# Keep these attributes\n",
    "df = df[['teacher_number_of_previously_posted_projects','Total_Cost','True_Quantity','Average_item_cost','project_is_approved'\n",
    "        ,'teacher_prefix_Teacher','project_grade_category_Grades PreK-2'\n",
    "        ,'essay1_DescribeStudents_len','essay2_AboutProject_len','title_len','text'\n",
    "        ,'three_r','student_desc','proj_desc']]\n",
    "\n",
    "# preserve final dataset\n",
    "df2 = df.copy()\n",
    "    \n",
    "df.info()\n",
    "df.describe()"
   ]
  },
  {
   "cell_type": "code",
   "execution_count": 5,
   "metadata": {},
   "outputs": [
    {
     "data": {
      "image/png": "[encoded data removed]",
      "text/plain": [
       "<Figure size 1080x360 with 3 Axes>"
      ]
     },
     "metadata": {},
     "output_type": "display_data"
    }
   ],
   "source": [
    "plt.figure(figsize = (15,5))\n",
    "plt.subplot(1,3,1)\n",
    "df.essay1_DescribeStudents_len.plot(kind='box')\n",
    "plt.ylabel('log(Essay 1 Word Length)')\n",
    "plt.subplot(1,3,2)\n",
    "df.essay2_AboutProject_len.plot(kind='box')\n",
    "plt.ylabel('log(Essay 2 Word Length)')\n",
    "plt.subplot(1,3,3)\n",
    "df.title_len.plot(kind='box')\n",
    "plt.ylabel('log(Title Word Length)')\n",
    "plt.show()"
   ]
  },
  {
   "cell_type": "markdown",
   "metadata": {},
   "source": [
    "The boxplots above show the three new features added to this data set after the log transform has been applied"
   ]
  },
  {
   "cell_type": "markdown",
   "metadata": {},
   "source": [
    "### Data Preparation Part 2"
   ]
  },
  {
   "cell_type": "code",
   "execution_count": 9,
   "metadata": {},
   "outputs": [],
   "source": [
    "# Need description here, maybe a few visualizations"
   ]
  },
  {
   "cell_type": "markdown",
   "metadata": {},
   "source": [
    "## Modeling and Evaluation"
   ]
  },
  {
   "cell_type": "markdown",
   "metadata": {},
   "source": [
    "### Modeling and Evaluation 1: Evaluation Metrics"
   ]
  },
  {
   "cell_type": "code",
   "execution_count": 13,
   "metadata": {},
   "outputs": [],
   "source": [
    "#https://github.com/jakemdrew/EducationDataNC/blob/master/2017/Models/2017SegregatedHighSchoolCampuses.ipynb\n",
    "def EvaluateClassifierEstimator(classifierEstimator, X, y, cv):\n",
    "   \n",
    "    #Perform cross validation \n",
    "    scores = cross_validate(classifierEstimator, X, y, scoring=['accuracy','precision','recall']\n",
    "                            , cv=cv, return_train_score=True)\n",
    "\n",
    "    Accavg = scores['test_accuracy'].mean()\n",
    "    Preavg = scores['test_precision'].mean()\n",
    "    Recavg = scores['test_recall'].mean()\n",
    "\n",
    "    print_str = \"The average accuracy for all cv folds is: \\t\\t\\t {Accavg:.5}\"\n",
    "    print_str2 = \"The average precision for all cv folds is: \\t\\t\\t {Preavg:.5}\"\n",
    "    print_str3 = \"The average recall for all cv folds is: \\t\\t\\t {Recavg:.5}\"\n",
    "\n",
    "    print(print_str.format(Accavg=Accavg))\n",
    "    print(print_str2.format(Preavg=Preavg))\n",
    "    print(print_str3.format(Recavg=Recavg))\n",
    "    print('*********************************************************')\n",
    "\n",
    "    print('Cross Validation Fold Mean Error Scores')\n",
    "    scoresResults = pd.DataFrame()\n",
    "    scoresResults['Accuracy'] = scores['test_accuracy']\n",
    "    scoresResults['Precision'] = scores['test_precision']\n",
    "    scoresResults['Recall'] = scores['test_recall']\n",
    "\n",
    "    return scoresResults\n",
    "\n",
    "def EvaluateClassifierEstimator2(classifierEstimator, X, y, cv):\n",
    "    \n",
    "    #Perform cross validation \n",
    "\n",
    "    predictions = cross_val_predict(classifierEstimator, X, y, cv=cv)\n",
    "    \n",
    "    #pass true test set values and predictions to classification_report\n",
    "    classReport = classification_report(y,predictions)\n",
    "    confMat = confusion_matrix(y,predictions)\n",
    "    acc = accuracy_score(y,predictions)\n",
    "    \n",
    "    print(classReport)\n",
    "    print(confMat)\n",
    "    print(acc)\n",
    "    \n",
    "\n",
    "def EvaluateClassifierEstimator3(classifierEstimator, X, y, cv):\n",
    "    \n",
    "    num_cv_iterations = 3\n",
    "    num_instances = len(y)\n",
    "    cv_object = ShuffleSplit(n_splits=num_cv_iterations,test_size  = 0.2)\n",
    "\n",
    "    for iter_num, (train_indices, test_indices) in enumerate(cv_object.split(X,y)):\n",
    "        classifierEstimator.fit(X[train_indices],y[train_indices])  # train object\n",
    "        y_hat = classifierEstimator.predict(X[test_indices]) # get test set precitions\n",
    "\n",
    "        # print the accuracy and confusion matrix \n",
    "        print(\"====Iteration\",iter_num,\" ====\")\n",
    "        print(\"accuracy\", mt.accuracy_score(y[test_indices],y_hat)) \n",
    "        print(\"confusion matrix\\n\",mt.confusion_matrix(y[test_indices],y_hat))"
   ]
  },
  {
   "cell_type": "markdown",
   "metadata": {},
   "source": [
    "Our evaluation will come in two steps. First, models will be evaluated via gridsearch. The model with the highest accuracy will be selected as best. This model will then be evaluated for not only accuracy, but precision and recall as well. If these results are suspicious, we will examine confusion matrices of the model which will hopefully illuminate any issues present. \n",
    "\n",
    "We will be using accuracy to select the best model because we believe neither false positives nor false negatives are significantly more 'important' than the other. In the case of project approval, approving a subpar project is equally as undesired as failing to approve a good project. This is on the assumption that all projects proposed do have some value for the students being represented. There is also the additional requirement of raising the donations, so a subpar project that was approved will not necessarily recieve the funding requested. On the other hand, a good project that was incorrectly rejected can potentially be improved further and resubmitted for approval. Because this hypothetical project is good, it will likely recieve funding. \n",
    "\n",
    "In the case of the core competencies versus non-core competencies, false positives and false negatives are also treated equally. The purpose of the core competencies classification is to draw attention to the distinctions between these two classes of request. This can hopefully help identify the major differences in the resources requested and provided for the two classes of projects. The text analysis could possibly help identify the language used between the classes, which could reveal the differing attitudes that teachers have towards each of these classes of subjects. In both of these cases, incorrect classifications of either type are equal, as they both skew these results in similar ways. \n",
    "\n",
    "We will then use precision and recall to help compare the models if their accuracies are similar. This is especially important as some of the models built in the past simply approved all projects. This of course gave a high accuracy and recall, but was not a useful model. "
   ]
  },
  {
   "cell_type": "markdown",
   "metadata": {},
   "source": [
    "### Modeling and Evaluation 2: Train/Test Splits"
   ]
  },
  {
   "cell_type": "markdown",
   "metadata": {},
   "source": [
    "We will generally be using 10-fold cross validation for training and testing our models. The exceptstions to this is with some of the text data models, 3-fold cross validation is used instead in the interest of time. The full dataset is also used for this process for all models except K-nearest neighbors. 50% of the data will be used for training and testing this model. \n",
    "We will be using standard cross validation (as opposed to stratified). This is because while the dataset is imbalanced, it is also large enough to include a large number of successes and failures in a randomly selected subset."
   ]
  },
  {
   "cell_type": "markdown",
   "metadata": {},
   "source": [
    "### Classification/Regression Models\n",
    "We will create three different models for two different tasks.\n",
    "\n",
    "-Task1:  predict whether an application will be approved or declined\n",
    "\n",
    "-Task2:  predict whether an application project is one of the three Rs (Reading, Writing, Arithmetic) based on the essay text"
   ]
  },
  {
   "cell_type": "markdown",
   "metadata": {},
   "source": [
    "### Modeling and Evaluation 3\n",
    "#### Task 1:  Predicting Application Approval\n",
    "##### Set Variables for Task 1"
   ]
  },
  {
   "cell_type": "code",
   "execution_count": 6,
   "metadata": {},
   "outputs": [],
   "source": [
    "#https://github.com/jakemdrew/EducationDataNC/blob/master/2017/Models/2017SegregatedHighSchoolCampuses.ipynb\n",
    "from sklearn.model_selection import ShuffleSplit\n",
    "cv = ShuffleSplit(n_splits=10, test_size=0.10, random_state=0)\n",
    "\n",
    "# we want to predict the X and y data as follows:\n",
    "y = df['project_is_approved'].values # get the labels we want\n",
    "X = df[['teacher_number_of_previously_posted_projects'\n",
    "       ,'Total_Cost'\n",
    "       ,'True_Quantity'\n",
    "       ,'Average_item_cost'\n",
    "       ,'teacher_prefix_Teacher'\n",
    "       ,'project_grade_category_Grades PreK-2'\n",
    "       ,'essay1_DescribeStudents_len'\n",
    "       ,'title_len'\n",
    "       ,'three_r'\n",
    "       ]].values # use these to predict"
   ]
  },
  {
   "cell_type": "code",
   "execution_count": 7,
   "metadata": {},
   "outputs": [],
   "source": [
    "# Create and fit our Tfidf Vectorizer\n",
    "vectorizer = TfidfVectorizer()\n",
    "x_text = vectorizer.fit_transform(df['text'])"
   ]
  },
  {
   "cell_type": "markdown",
   "metadata": {},
   "source": [
    "##### Logistic Regression Model (Non-text Data)"
   ]
  },
  {
   "cell_type": "code",
   "execution_count": 9,
   "metadata": {},
   "outputs": [
    {
     "name": "stdout",
     "output_type": "stream",
     "text": [
      "Fitting 10 folds for each of 12 candidates, totalling 120 fits\n"
     ]
    },
    {
     "name": "stderr",
     "output_type": "stream",
     "text": [
      "[Parallel(n_jobs=8)]: Done  34 tasks      | elapsed:   17.9s\n",
      "[Parallel(n_jobs=8)]: Done 120 out of 120 | elapsed:  1.4min finished\n"
     ]
    },
    {
     "data": {
      "text/plain": [
       "GridSearchCV(cv=ShuffleSplit(n_splits=10, random_state=0, test_size=0.1, train_size=None),\n",
       "       error_score='raise',\n",
       "       estimator=LogisticRegression(C=1.0, class_weight=None, dual=False, fit_intercept=True,\n",
       "          intercept_scaling=1, max_iter=100, multi_class='ovr', n_jobs=1,\n",
       "          penalty='l2', random_state=None, solver='liblinear', tol=0.0001,\n",
       "          verbose=0, warm_start=False),\n",
       "       fit_params=None, iid=True, n_jobs=8,\n",
       "       param_grid={'penalty': ['l2'], 'C': [0.001, 0.01, 0.1, 1, 10, 100], 'class_weight': ['balanced'], 'random_state': [0], 'solver': ['sag'], 'max_iter': [100, 500]},\n",
       "       pre_dispatch='2*n_jobs', refit=True, return_train_score='warn',\n",
       "       scoring='accuracy', verbose=1)"
      ]
     },
     "execution_count": 9,
     "metadata": {},
     "output_type": "execute_result"
    }
   ],
   "source": [
    "#https://github.com/jakemdrew/EducationDataNC/blob/master/2017/Models/2017SegregatedHighSchoolCampuses.ipynb\n",
    "\n",
    "cv = ShuffleSplit(n_splits=10, test_size=0.10, random_state=0)\n",
    "\n",
    "#Logisitic regression 10-fold cross-validation \n",
    "\n",
    "regEstimator = LogisticRegression()\n",
    "\n",
    "parameters = { 'penalty':['l2']\n",
    "              ,'C': [0.001, 0.01, 0.1, 1, 10, 100]\n",
    "              ,'class_weight': ['balanced']\n",
    "              ,'random_state': [0]\n",
    "              ,'solver': ['sag'] #['lbfgs']\n",
    "              ,'max_iter':[100,500]\n",
    "             }\n",
    "\n",
    "#Create a grid search object using the  \n",
    "\n",
    "LogisticReg_GS= GridSearchCV(estimator=regEstimator\n",
    "                   , n_jobs=8 # jobs to run in parallel\n",
    "                   , verbose=1 # low verbosity\n",
    "                   , param_grid=parameters\n",
    "                   , cv=cv # KFolds = 10\n",
    "                   , scoring='accuracy')\n",
    "\n",
    "#Perform hyperparameter search to find the best combination of parameters for our data\n",
    "LogisticReg_GS.fit(X, y)"
   ]
  },
  {
   "cell_type": "code",
   "execution_count": 10,
   "metadata": {},
   "outputs": [
    {
     "name": "stdout",
     "output_type": "stream",
     "text": [
      "The average accuracy for all cv folds is: \t\t\t 0.56716\n",
      "The average precision for all cv folds is: \t\t\t 0.88733\n",
      "The average recall for all cv folds is: \t\t\t 0.56056\n",
      "*********************************************************\n",
      "Cross Validation Fold Mean Error Scores\n",
      "   Accuracy  Precision    Recall\n",
      "0  0.571013   0.890563  0.563107\n",
      "1  0.568981   0.889105  0.561552\n",
      "2  0.565466   0.887333  0.558248\n",
      "3  0.569859   0.882394  0.568291\n",
      "4  0.566321   0.886089  0.560451\n",
      "5  0.564179   0.886905  0.556887\n",
      "6  0.570934   0.889513  0.563885\n",
      "7  0.569177   0.890111  0.561034\n",
      "8  0.559290   0.880938  0.555138\n",
      "9  0.566352   0.890327  0.557053\n"
     ]
    }
   ],
   "source": [
    "#https://github.com/jakemdrew/EducationDataNC/blob/master/2017/Models/2017SegregatedHighSchoolCampuses.ipynb\n",
    "#Display the best estimator parameters\n",
    "print(EvaluateClassifierEstimator(LogisticReg_GS.best_estimator_, X, y, 10))\n"
   ]
  },
  {
   "cell_type": "code",
   "execution_count": 11,
   "metadata": {},
   "outputs": [
    {
     "name": "stdout",
     "output_type": "stream",
     "text": [
      "Best Logistic Regression Estimator: LogisticRegression(C=0.001, class_weight='balanced', dual=False,\n",
      "          fit_intercept=True, intercept_scaling=1, max_iter=100,\n",
      "          multi_class='ovr', n_jobs=1, penalty='l2', random_state=0,\n",
      "          solver='sag', tol=0.0001, verbose=0, warm_start=False)\n",
      "Accuracy of this Estimator: 0.5663884007029877\n",
      "Average fit time: 4.91134786605835\n"
     ]
    }
   ],
   "source": [
    "LogisticReg_GS_res_df = pd.DataFrame(LogisticReg_GS.cv_results_)\n",
    "print('Best Logistic Regression Estimator:',LogisticReg_GS.best_estimator_)\n",
    "print('Accuracy of this Estimator:',LogisticReg_GS.best_score_)\n",
    "print('Average fit time:',np.mean(LogisticReg_GS_res_df['mean_fit_time']))"
   ]
  },
  {
   "cell_type": "markdown",
   "metadata": {},
   "source": [
    "##### Decision Tree Classification (Non-Text Data)"
   ]
  },
  {
   "cell_type": "code",
   "execution_count": 12,
   "metadata": {},
   "outputs": [
    {
     "name": "stdout",
     "output_type": "stream",
     "text": [
      "Fitting 10 folds for each of 12 candidates, totalling 120 fits\n"
     ]
    },
    {
     "name": "stderr",
     "output_type": "stream",
     "text": [
      "[Parallel(n_jobs=4)]: Done  42 tasks      | elapsed:   17.2s\n",
      "[Parallel(n_jobs=4)]: Done 120 out of 120 | elapsed:   47.1s finished\n"
     ]
    },
    {
     "data": {
      "text/plain": [
       "GridSearchCV(cv=ShuffleSplit(n_splits=10, random_state=0, test_size=0.1, train_size=None),\n",
       "       error_score='raise',\n",
       "       estimator=DecisionTreeClassifier(class_weight=None, criterion='gini', max_depth=None,\n",
       "            max_features=None, max_leaf_nodes=None,\n",
       "            min_impurity_decrease=0.0, min_impurity_split=None,\n",
       "            min_samples_leaf=1, min_samples_split=2,\n",
       "            min_weight_fraction_leaf=0.0, presort=False, random_state=None,\n",
       "            splitter='best'),\n",
       "       fit_params=None, iid=True, n_jobs=4,\n",
       "       param_grid={'class_weight': ['balanced'], 'criterion': ['gini', 'entropy'], 'min_samples_split': [500, 1000, 5000], 'min_samples_leaf': [250, 500]},\n",
       "       pre_dispatch='2*n_jobs', refit=True, return_train_score='warn',\n",
       "       scoring='accuracy', verbose=1)"
      ]
     },
     "execution_count": 12,
     "metadata": {},
     "output_type": "execute_result"
    }
   ],
   "source": [
    "dt_clf = DecisionTreeClassifier()\n",
    "dt_GS_params= {'class_weight':['balanced'],\n",
    "              'criterion':['gini', 'entropy'],\n",
    "              'min_samples_split':[500,1000,5000],\n",
    "              'min_samples_leaf':[250,500]}\n",
    "\n",
    "dt_gridsearch = GridSearchCV(estimator = dt_clf,\n",
    "                            param_grid = dt_GS_params,\n",
    "                            n_jobs=4,\n",
    "                            verbose=1,\n",
    "                             cv=cv,\n",
    "                            scoring='accuracy')\n",
    "dt_gridsearch.fit(X,y)"
   ]
  },
  {
   "cell_type": "code",
   "execution_count": 13,
   "metadata": {},
   "outputs": [
    {
     "name": "stdout",
     "output_type": "stream",
     "text": [
      "The average accuracy for all cv folds is: \t\t\t 0.5855\n",
      "The average precision for all cv folds is: \t\t\t 0.89356\n",
      "The average recall for all cv folds is: \t\t\t 0.58013\n",
      "*********************************************************\n",
      "Cross Validation Fold Mean Error Scores\n",
      "   Accuracy  Precision    Recall\n",
      "0  0.584084   0.897945  0.574640\n",
      "1  0.586775   0.892751  0.582480\n",
      "2  0.587654   0.891369  0.584813\n",
      "3  0.580789   0.894428  0.573085\n",
      "4  0.587137   0.891427  0.584100\n",
      "5  0.591366   0.898108  0.584230\n",
      "6  0.583951   0.890956  0.580213\n",
      "7  0.588894   0.891306  0.586562\n",
      "8  0.581150   0.893787  0.574122\n",
      "9  0.583159   0.893538  0.577010\n"
     ]
    }
   ],
   "source": [
    "print(EvaluateClassifierEstimator(dt_gridsearch.best_estimator_, X, y, 10))"
   ]
  },
  {
   "cell_type": "code",
   "execution_count": 14,
   "metadata": {},
   "outputs": [
    {
     "name": "stdout",
     "output_type": "stream",
     "text": [
      "Best Decision Tree Estimator: DecisionTreeClassifier(class_weight='balanced', criterion='entropy',\n",
      "            max_depth=None, max_features=None, max_leaf_nodes=None,\n",
      "            min_impurity_decrease=0.0, min_impurity_split=None,\n",
      "            min_samples_leaf=500, min_samples_split=5000,\n",
      "            min_weight_fraction_leaf=0.0, presort=False, random_state=None,\n",
      "            splitter='best')\n",
      "Accuracy of this Estimator: 0.5848692882249561\n",
      "Average fit time: 1.2012304127216336\n"
     ]
    }
   ],
   "source": [
    "dt_gridsearch_res_df = pd.DataFrame(dt_gridsearch.cv_results_)\n",
    "print('Best Decision Tree Estimator:',dt_gridsearch.best_estimator_)\n",
    "print('Accuracy of this Estimator:',dt_gridsearch.best_score_)\n",
    "print('Average fit time:',np.mean(dt_gridsearch_res_df['mean_fit_time']))"
   ]
  },
  {
   "cell_type": "markdown",
   "metadata": {},
   "source": [
    "#### Decision Tree (Text Data)"
   ]
  },
  {
   "cell_type": "code",
   "execution_count": 15,
   "metadata": {},
   "outputs": [
    {
     "name": "stdout",
     "output_type": "stream",
     "text": [
      "Fitting 3 folds for each of 6 candidates, totalling 18 fits\n"
     ]
    },
    {
     "name": "stderr",
     "output_type": "stream",
     "text": [
      "[Parallel(n_jobs=-1)]: Done  18 out of  18 | elapsed:  3.4min finished\n"
     ]
    },
    {
     "data": {
      "text/plain": [
       "GridSearchCV(cv=None, error_score='raise',\n",
       "       estimator=DecisionTreeClassifier(class_weight=None, criterion='gini', max_depth=None,\n",
       "            max_features=None, max_leaf_nodes=None,\n",
       "            min_impurity_decrease=0.0, min_impurity_split=None,\n",
       "            min_samples_leaf=1, min_samples_split=2,\n",
       "            min_weight_fraction_leaf=0.0, presort=False, random_state=None,\n",
       "            splitter='best'),\n",
       "       fit_params=None, iid=True, n_jobs=-1,\n",
       "       param_grid={'class_weight': ['balanced'], 'criterion': ['gini'], 'min_samples_split': [500, 1000, 2500], 'min_samples_leaf': [250, 500]},\n",
       "       pre_dispatch='2*n_jobs', refit=True, return_train_score='warn',\n",
       "       scoring='accuracy', verbose=1)"
      ]
     },
     "execution_count": 15,
     "metadata": {},
     "output_type": "execute_result"
    }
   ],
   "source": [
    "dt_clf = DecisionTreeClassifier()\n",
    "dt_GS_params= {'class_weight':['balanced'],\n",
    "              'criterion':['gini'],\n",
    "              'min_samples_split':[500,1000,2500],\n",
    "              'min_samples_leaf':[250,500]}\n",
    "\n",
    "dt_gridsearch_text = GridSearchCV(estimator = dt_clf,\n",
    "                            param_grid = dt_GS_params,\n",
    "                            n_jobs=-1,\n",
    "                            verbose=1,\n",
    "                            scoring='accuracy')\n",
    "dt_gridsearch_text.fit(x_text,y)"
   ]
  },
  {
   "cell_type": "code",
   "execution_count": 16,
   "metadata": {},
   "outputs": [
    {
     "name": "stdout",
     "output_type": "stream",
     "text": [
      "The average accuracy for all cv folds is: \t\t\t 0.60455\n",
      "The average precision for all cv folds is: \t\t\t 0.8976\n",
      "The average recall for all cv folds is: \t\t\t 0.60219\n",
      "*********************************************************\n",
      "Cross Validation Fold Mean Error Scores\n",
      "   Accuracy  Precision    Recall\n",
      "0  0.604130   0.899320  0.600168\n",
      "1  0.591718   0.898248  0.584554\n",
      "2  0.610062   0.893187  0.613321\n",
      "3  0.604844   0.898212  0.602047\n",
      "4  0.616576   0.899216  0.616820\n",
      "5  0.605152   0.901217  0.599974\n",
      "6  0.613336   0.898424  0.613192\n",
      "7  0.597243   0.892148  0.597058\n",
      "8  0.605152   0.901764  0.599521\n",
      "9  0.597276   0.894286  0.595283\n"
     ]
    }
   ],
   "source": [
    "print(EvaluateClassifierEstimator(dt_gridsearch_text.best_estimator_, x_text, y, 10))"
   ]
  },
  {
   "cell_type": "code",
   "execution_count": 17,
   "metadata": {
    "scrolled": true
   },
   "outputs": [
    {
     "name": "stdout",
     "output_type": "stream",
     "text": [
      "Best Decision Tree Estimator: DecisionTreeClassifier(class_weight='balanced', criterion='gini',\n",
      "            max_depth=None, max_features=None, max_leaf_nodes=None,\n",
      "            min_impurity_decrease=0.0, min_impurity_split=None,\n",
      "            min_samples_leaf=250, min_samples_split=2500,\n",
      "            min_weight_fraction_leaf=0.0, presort=False, random_state=None,\n",
      "            splitter='best')\n",
      "Accuracy of this Estimator: 0.6162088832501249\n",
      "Average fit time: 79.20594509442648\n"
     ]
    }
   ],
   "source": [
    "dt_gridsearch_text_res_df = pd.DataFrame(dt_gridsearch_text.cv_results_)\n",
    "print('Best Decision Tree Estimator:',dt_gridsearch_text.best_estimator_)\n",
    "print('Accuracy of this Estimator:',dt_gridsearch_text.best_score_)\n",
    "print('Average fit time:',np.mean(dt_gridsearch_text_res_df['mean_fit_time']))"
   ]
  },
  {
   "cell_type": "markdown",
   "metadata": {},
   "source": [
    "#### Naive Bayes - Multinomial (Non-Text Data)"
   ]
  },
  {
   "cell_type": "code",
   "execution_count": 18,
   "metadata": {},
   "outputs": [
    {
     "name": "stdout",
     "output_type": "stream",
     "text": [
      "Fitting 10 folds for each of 10 candidates, totalling 100 fits\n"
     ]
    },
    {
     "name": "stderr",
     "output_type": "stream",
     "text": [
      "[Parallel(n_jobs=-1)]: Done  34 tasks      | elapsed:    5.8s\n",
      "[Parallel(n_jobs=-1)]: Done 100 out of 100 | elapsed:   17.0s finished\n"
     ]
    },
    {
     "data": {
      "text/plain": [
       "GridSearchCV(cv=10, error_score='raise',\n",
       "       estimator=MultinomialNB(alpha=1.0, class_prior=None, fit_prior=True),\n",
       "       fit_params=None, iid=True, n_jobs=-1,\n",
       "       param_grid={'alpha': [1e-10, 0.1, 0.5, 1.0, 1.5], 'fit_prior': [True, False]},\n",
       "       pre_dispatch='2*n_jobs', refit=True, return_train_score='warn',\n",
       "       scoring='accuracy', verbose=1)"
      ]
     },
     "execution_count": 18,
     "metadata": {},
     "output_type": "execute_result"
    }
   ],
   "source": [
    "mnb_clf = MultinomialNB()\n",
    "mnb_params = {'alpha':[1e-10, 0.1,0.5, 1.0, 1.5],\n",
    "             'fit_prior':[True, False]}\n",
    "mnb_gridsearch = GridSearchCV(mnb_clf, \n",
    "                              param_grid = mnb_params,\n",
    "                              cv = 10,\n",
    "                              verbose = 1,\n",
    "                              n_jobs=-1,\n",
    "                              scoring = 'accuracy')\n",
    "mnb_gridsearch.fit(X, y)"
   ]
  },
  {
   "cell_type": "code",
   "execution_count": 19,
   "metadata": {},
   "outputs": [
    {
     "name": "stdout",
     "output_type": "stream",
     "text": [
      "The average accuracy for all cv folds is: \t\t\t 0.84768\n",
      "The average precision for all cv folds is: \t\t\t 0.84768\n",
      "The average recall for all cv folds is: \t\t\t 1.0\n",
      "*********************************************************\n",
      "Cross Validation Fold Mean Error Scores\n",
      "   Accuracy  Precision  Recall\n",
      "0  0.847649   0.847649     1.0\n",
      "1  0.847649   0.847649     1.0\n",
      "2  0.847649   0.847649     1.0\n",
      "3  0.847649   0.847649     1.0\n",
      "4  0.847696   0.847696     1.0\n",
      "5  0.847696   0.847696     1.0\n",
      "6  0.847696   0.847696     1.0\n",
      "7  0.847696   0.847696     1.0\n",
      "8  0.847696   0.847696     1.0\n",
      "9  0.847688   0.847688     1.0\n"
     ]
    }
   ],
   "source": [
    "print(EvaluateClassifierEstimator(mnb_gridsearch.best_estimator_, X, y, 10))"
   ]
  },
  {
   "cell_type": "code",
   "execution_count": 20,
   "metadata": {},
   "outputs": [
    {
     "name": "stdout",
     "output_type": "stream",
     "text": [
      "Best Multinomial Naive Bayes Estimator: MultinomialNB(alpha=1e-10, class_prior=None, fit_prior=True)\n",
      "Accuracy of this Estimator: 0.847676481411302\n",
      "Average fit time: 0.19022815704345702\n"
     ]
    }
   ],
   "source": [
    "mnb_gridsearch_res_df = pd.DataFrame(mnb_gridsearch.cv_results_)\n",
    "print('Best Multinomial Naive Bayes Estimator:',mnb_gridsearch.best_estimator_)\n",
    "print('Accuracy of this Estimator:',mnb_gridsearch.best_score_)\n",
    "print('Average fit time:',np.mean(mnb_gridsearch_res_df['mean_fit_time']))"
   ]
  },
  {
   "cell_type": "markdown",
   "metadata": {},
   "source": [
    "##### Naive Bayes - Multinomial (Text Data)"
   ]
  },
  {
   "cell_type": "code",
   "execution_count": 21,
   "metadata": {},
   "outputs": [
    {
     "name": "stdout",
     "output_type": "stream",
     "text": [
      "Fitting 10 folds for each of 10 candidates, totalling 100 fits\n"
     ]
    },
    {
     "name": "stderr",
     "output_type": "stream",
     "text": [
      "[Parallel(n_jobs=-1)]: Done  34 tasks      | elapsed:   16.9s\n",
      "[Parallel(n_jobs=-1)]: Done 100 out of 100 | elapsed:   46.6s finished\n"
     ]
    },
    {
     "data": {
      "text/plain": [
       "GridSearchCV(cv=10, error_score='raise',\n",
       "       estimator=MultinomialNB(alpha=1.0, class_prior=None, fit_prior=True),\n",
       "       fit_params=None, iid=True, n_jobs=-1,\n",
       "       param_grid={'alpha': [1e-10, 0.1, 0.5, 1.0, 1.5], 'fit_prior': [True, False]},\n",
       "       pre_dispatch='2*n_jobs', refit=True, return_train_score='warn',\n",
       "       scoring='accuracy', verbose=1)"
      ]
     },
     "execution_count": 21,
     "metadata": {},
     "output_type": "execute_result"
    }
   ],
   "source": [
    "mnb_clf_text = MultinomialNB()\n",
    "mnb_params = {'alpha':[1e-10, 0.1,0.5, 1.0, 1.5],\n",
    "             'fit_prior':[True, False]}\n",
    "mnb_gridsearch_text = GridSearchCV(mnb_clf, \n",
    "                             param_grid = mnb_params,\n",
    "                             cv = 10,\n",
    "                             verbose = 1,\n",
    "                             n_jobs=-1,\n",
    "                             scoring = 'accuracy')\n",
    "mnb_gridsearch_text.fit(x_text, y)"
   ]
  },
  {
   "cell_type": "code",
   "execution_count": 22,
   "metadata": {},
   "outputs": [
    {
     "name": "stdout",
     "output_type": "stream",
     "text": [
      "The average accuracy for all cv folds is: \t\t\t 0.84762\n",
      "The average precision for all cv folds is: \t\t\t 0.84771\n",
      "The average recall for all cv folds is: \t\t\t 0.99985\n",
      "*********************************************************\n",
      "Cross Validation Fold Mean Error Scores\n",
      "   Accuracy  Precision    Recall\n",
      "0  0.847540   0.847671  0.999806\n",
      "1  0.847649   0.847688  0.999935\n",
      "2  0.847594   0.847679  0.999870\n",
      "3  0.847594   0.847679  0.999870\n",
      "4  0.847696   0.847772  0.999870\n",
      "5  0.847586   0.847679  0.999870\n",
      "6  0.847641   0.847764  0.999806\n",
      "7  0.847751   0.847781  0.999935\n",
      "8  0.847586   0.847717  0.999806\n",
      "9  0.847523   0.847701  0.999741\n"
     ]
    }
   ],
   "source": [
    "print(EvaluateClassifierEstimator(mnb_gridsearch_text.best_estimator_, x_text, y, 10))"
   ]
  },
  {
   "cell_type": "code",
   "execution_count": 23,
   "metadata": {},
   "outputs": [
    {
     "name": "stdout",
     "output_type": "stream",
     "text": [
      "====Iteration 0  ====\n",
      "accuracy 0.8506110119456268\n",
      "confusion matrix\n",
      " [[    0  5435]\n",
      " [    5 30975]]\n",
      "====Iteration 1  ====\n",
      "accuracy 0.8454757654812577\n",
      "confusion matrix\n",
      " [[    2  5626]\n",
      " [    1 30786]]\n",
      "====Iteration 2  ====\n",
      "accuracy 0.8493477962378141\n",
      "confusion matrix\n",
      " [[    1  5482]\n",
      " [    4 30928]]\n",
      "None\n"
     ]
    }
   ],
   "source": [
    "print(EvaluateClassifierEstimator3(mnb_gridsearch_text.best_estimator_, x_text, y, 10))"
   ]
  },
  {
   "cell_type": "code",
   "execution_count": 24,
   "metadata": {},
   "outputs": [
    {
     "name": "stdout",
     "output_type": "stream",
     "text": [
      "Best Multinomial Naive Bayes Estimator: MultinomialNB(alpha=1e-10, class_prior=None, fit_prior=True)\n",
      "Accuracy of this Estimator: 0.847676481411302\n",
      "Average fit time: 0.19022815704345702\n"
     ]
    }
   ],
   "source": [
    "mnb_gridsearch_res_df = pd.DataFrame(mnb_gridsearch.cv_results_)\n",
    "print('Best Multinomial Naive Bayes Estimator:',mnb_gridsearch.best_estimator_)\n",
    "print('Accuracy of this Estimator:',mnb_gridsearch.best_score_)\n",
    "print('Average fit time:',np.mean(mnb_gridsearch_res_df['mean_fit_time']))"
   ]
  },
  {
   "cell_type": "markdown",
   "metadata": {},
   "source": [
    "#### K Nearest Neighbors (Non-Text Data)\n",
    "Because our dataset is so large, we will be subsetting it to fit K-nearest Neighbors. With over 180,000 data points, this is necessary to train the model because of both memory and time limitations. Because of the size of the text data set, we will not be able to use it for K-nearest neighbors. "
   ]
  },
  {
   "cell_type": "code",
   "execution_count": null,
   "metadata": {},
   "outputs": [],
   "source": [
    "# Select a 50% subset of both the non-text and text datasets\n",
    "X_sub, X_sub2, y_sub, y_sub2  = train_test_split(X, y, test_size=0.5, train_size=0.5)"
   ]
  },
  {
   "cell_type": "code",
   "execution_count": 27,
   "metadata": {},
   "outputs": [
    {
     "name": "stdout",
     "output_type": "stream",
     "text": [
      "Fitting 10 folds for each of 6 candidates, totalling 60 fits\n"
     ]
    },
    {
     "name": "stderr",
     "output_type": "stream",
     "text": [
      "[Parallel(n_jobs=-1)]: Done  34 tasks      | elapsed:  1.4min\n",
      "[Parallel(n_jobs=-1)]: Done  60 out of  60 | elapsed:  3.0min finished\n"
     ]
    },
    {
     "data": {
      "text/plain": [
       "GridSearchCV(cv=10, error_score='raise',\n",
       "       estimator=KNeighborsClassifier(algorithm='auto', leaf_size=30, metric='minkowski',\n",
       "           metric_params=None, n_jobs=1, n_neighbors=5, p=2,\n",
       "           weights='uniform'),\n",
       "       fit_params=None, iid=True, n_jobs=-1,\n",
       "       param_grid={'n_neighbors': [3, 15, 25], 'weights': ['uniform', 'distance']},\n",
       "       pre_dispatch='2*n_jobs', refit=True, return_train_score='warn',\n",
       "       scoring='accuracy', verbose=1)"
      ]
     },
     "execution_count": 27,
     "metadata": {},
     "output_type": "execute_result"
    }
   ],
   "source": [
    "\n",
    "knn = KNeighborsClassifier()\n",
    "\n",
    "knn_params = {'n_neighbors':[3,15,25],\n",
    "               'weights':['uniform', 'distance']}\n",
    "knn_gridsearch = GridSearchCV(knn,\n",
    "                                 param_grid = knn_params,\n",
    "                                 cv = 10,\n",
    "                                 verbose = 1,\n",
    "                                 scoring='accuracy',\n",
    "                                 n_jobs = -1)\n",
    "knn_gridsearch.fit(X_sub, y_sub)"
   ]
  },
  {
   "cell_type": "code",
   "execution_count": 175,
   "metadata": {},
   "outputs": [
    {
     "name": "stdout",
     "output_type": "stream",
     "text": [
      "The average accuracy for all cv folds is: \t\t\t 0.99997\n",
      "The average precision for all cv folds is: \t\t\t 0.99996\n",
      "The average recall for all cv folds is: \t\t\t 0.99999\n",
      "*********************************************************\n",
      "Cross Validation Fold Mean Error Scores\n",
      "   Accuracy  Precision    Recall\n",
      "0  1.000000   1.000000  1.000000\n",
      "1  1.000000   1.000000  1.000000\n",
      "2  1.000000   1.000000  1.000000\n",
      "3  0.999945   0.999922  1.000000\n",
      "4  0.999945   0.999922  1.000000\n",
      "5  0.999890   0.999922  0.999922\n",
      "6  1.000000   1.000000  1.000000\n",
      "7  0.999945   0.999922  1.000000\n",
      "8  0.999945   0.999922  1.000000\n",
      "9  1.000000   1.000000  1.000000\n"
     ]
    }
   ],
   "source": [
    "print(EvaluateClassifierEstimator(knn_gridsearch.best_estimator_, X, y, 10))"
   ]
  },
  {
   "cell_type": "code",
   "execution_count": 176,
   "metadata": {},
   "outputs": [
    {
     "name": "stdout",
     "output_type": "stream",
     "text": [
      "Best Multinomial Naive Bayes Estimator: KNeighborsClassifier(algorithm='auto', leaf_size=30, metric='minkowski',\n",
      "           metric_params=None, n_jobs=1, n_neighbors=3, p=2,\n",
      "           weights='distance')\n",
      "Accuracy of this Estimator: 0.9999231073421504\n",
      "Average fit time: 0.3658789118131002\n"
     ]
    }
   ],
   "source": [
    "knn_gridsearch_res_df = pd.DataFrame(knn_gridsearch.cv_results_)\n",
    "print('Best Multinomial Naive Bayes Estimator:',knn_gridsearch.best_estimator_)\n",
    "print('Accuracy of this Estimator:',knn_gridsearch.best_score_)\n",
    "print('Average fit time:',np.mean(knn_gridsearch_res_df['mean_fit_time']))"
   ]
  },
  {
   "cell_type": "markdown",
   "metadata": {},
   "source": [
    "#### Task 2: Predicting Core Academic Competency Projects (Reading, Writing, Math)\n",
    "##### Preparing the Data"
   ]
  },
  {
   "cell_type": "code",
   "execution_count": 8,
   "metadata": {},
   "outputs": [],
   "source": [
    "# we want to predict the X and y data as follows:\n",
    "y2 = df['three_r'].values # get the labels we want\n",
    "X2= X[:,:-1] # Select everything but the three_r column from X"
   ]
  },
  {
   "cell_type": "markdown",
   "metadata": {},
   "source": [
    "#### Multinomial Naive-Bayes (Non-Text Data)"
   ]
  },
  {
   "cell_type": "code",
   "execution_count": 170,
   "metadata": {},
   "outputs": [
    {
     "name": "stdout",
     "output_type": "stream",
     "text": [
      "Fitting 10 folds for each of 14 candidates, totalling 140 fits\n"
     ]
    },
    {
     "name": "stderr",
     "output_type": "stream",
     "text": [
      "[Parallel(n_jobs=-1)]: Done  34 tasks      | elapsed:    4.9s\n",
      "[Parallel(n_jobs=-1)]: Done 140 out of 140 | elapsed:   18.7s finished\n"
     ]
    },
    {
     "data": {
      "text/plain": [
       "GridSearchCV(cv=10, error_score='raise',\n",
       "       estimator=MultinomialNB(alpha=1.0, class_prior=None, fit_prior=True),\n",
       "       fit_params=None, iid=True, n_jobs=-1,\n",
       "       param_grid={'alpha': [1e-10, 0.1, 0.25, 0.5, 0.75, 1.0, 1.5], 'fit_prior': [True, False]},\n",
       "       pre_dispatch='2*n_jobs', refit=True, return_train_score='warn',\n",
       "       scoring='accuracy', verbose=1)"
      ]
     },
     "execution_count": 170,
     "metadata": {},
     "output_type": "execute_result"
    }
   ],
   "source": [
    "mnb = MultinomialNB()\n",
    "mnb_params = {'alpha':[1e-10, 0.1, 0.25 ,0.5, 0.75, 1.0, 1.5],\n",
    "             'fit_prior':[True, False]}\n",
    "mnb_gridsearch_3r = GridSearchCV(mnb, \n",
    "                             param_grid = mnb_params,\n",
    "                             cv = 10,\n",
    "                              verbose = 1,\n",
    "                            n_jobs=-1,\n",
    "                             scoring = 'accuracy')\n",
    "mnb_gridsearch_3r.fit(X2,y2)"
   ]
  },
  {
   "cell_type": "code",
   "execution_count": 131,
   "metadata": {
    "scrolled": true
   },
   "outputs": [
    {
     "name": "stdout",
     "output_type": "stream",
     "text": [
      "The average accuracy for all cv folds is: \t\t\t 0.70239\n",
      "The average precision for all cv folds is: \t\t\t 0.70239\n",
      "The average recall for all cv folds is: \t\t\t 1.0\n",
      "*********************************************************\n",
      "Cross Validation Fold Mean Error Scores\n",
      "   Accuracy  Precision  Recall\n",
      "0  0.702384   0.702384     1.0\n",
      "1  0.702384   0.702384     1.0\n",
      "2  0.702384   0.702384     1.0\n",
      "3  0.702384   0.702384     1.0\n",
      "4  0.702384   0.702384     1.0\n",
      "5  0.702384   0.702384     1.0\n",
      "6  0.702422   0.702422     1.0\n",
      "7  0.702406   0.702406     1.0\n",
      "8  0.702406   0.702406     1.0\n",
      "9  0.702406   0.702406     1.0\n"
     ]
    }
   ],
   "source": [
    "print(EvaluateClassifierEstimator(mnb_gridsearch_3r.best_estimator_, X2, y2, 10))"
   ]
  },
  {
   "cell_type": "markdown",
   "metadata": {},
   "source": [
    "The near-constant Accuracy and precision, as well as 100% recall, is highly suspicious. We therefore want to look at some of the confusion matrices."
   ]
  },
  {
   "cell_type": "code",
   "execution_count": 132,
   "metadata": {
    "scrolled": true
   },
   "outputs": [
    {
     "name": "stdout",
     "output_type": "stream",
     "text": [
      "====Iteration 0  ====\n",
      "accuracy 0.7017712481120417\n",
      "confusion matrix\n",
      " [[    0 10860]\n",
      " [    0 25555]]\n",
      "====Iteration 1  ====\n",
      "accuracy 0.7068790333653714\n",
      "confusion matrix\n",
      " [[    0 10674]\n",
      " [    0 25741]]\n",
      "====Iteration 2  ====\n",
      "accuracy 0.7034189207744062\n",
      "confusion matrix\n",
      " [[    0 10800]\n",
      " [    0 25615]]\n",
      "None\n"
     ]
    }
   ],
   "source": [
    "print(EvaluateClassifierEstimator3(mnb_gridsearch_3r.best_estimator_, X2, y2, 10))"
   ]
  },
  {
   "cell_type": "markdown",
   "metadata": {},
   "source": [
    "We see that we just approve all projects, which while accurate does not have much practical use."
   ]
  },
  {
   "cell_type": "code",
   "execution_count": 133,
   "metadata": {},
   "outputs": [
    {
     "name": "stdout",
     "output_type": "stream",
     "text": [
      "Best Multinomial Naive Bayes Estimator: MultinomialNB(alpha=1e-10, class_prior=None, fit_prior=True)\n",
      "Accuracy of this Estimator: 0.7023940946763112\n",
      "Average fit time: 0.12091413225446428\n"
     ]
    }
   ],
   "source": [
    "mnb_GS_3r_res_df = pd.DataFrame(mnb_gridsearch_3r.cv_results_)\n",
    "print('Best Multinomial Naive Bayes Estimator:',mnb_gridsearch_3r.best_estimator_)\n",
    "print('Accuracy of this Estimator:',mnb_gridsearch_3r.best_score_)\n",
    "print('Average fit time:',np.mean(mnb_GS_3r_res_df['mean_fit_time']))"
   ]
  },
  {
   "cell_type": "markdown",
   "metadata": {},
   "source": [
    "#### Multinomial Naive Bayes (Text Data)"
   ]
  },
  {
   "cell_type": "code",
   "execution_count": 134,
   "metadata": {},
   "outputs": [
    {
     "name": "stdout",
     "output_type": "stream",
     "text": [
      "Fitting 10 folds for each of 14 candidates, totalling 140 fits\n"
     ]
    },
    {
     "name": "stderr",
     "output_type": "stream",
     "text": [
      "[Parallel(n_jobs=1)]: Done 140 out of 140 | elapsed:  1.7min finished\n"
     ]
    },
    {
     "data": {
      "text/plain": [
       "GridSearchCV(cv=10, error_score='raise',\n",
       "       estimator=MultinomialNB(alpha=1.0, class_prior=None, fit_prior=True),\n",
       "       fit_params=None, iid=True, n_jobs=1,\n",
       "       param_grid={'alpha': [1e-10, 0.1, 0.25, 0.5, 0.75, 1.0, 1.5], 'fit_prior': [True, False]},\n",
       "       pre_dispatch='2*n_jobs', refit=True, return_train_score='warn',\n",
       "       scoring='accuracy', verbose=1)"
      ]
     },
     "execution_count": 134,
     "metadata": {},
     "output_type": "execute_result"
    }
   ],
   "source": [
    "\n",
    "mnb_params = {'alpha':[1e-10, 0.1, 0.25 ,0.5, 0.75, 1.0, 1.5],\n",
    "             'fit_prior':[True, False]}\n",
    "mnb_gridsearch_3r_text = GridSearchCV(mnb, \n",
    "                             param_grid = mnb_params,\n",
    "                             cv = 10,\n",
    "                              verbose = 1,\n",
    "                             scoring = 'accuracy')\n",
    "mnb_gridsearch_3r_text.fit(x_text,y2)"
   ]
  },
  {
   "cell_type": "code",
   "execution_count": 136,
   "metadata": {},
   "outputs": [
    {
     "name": "stdout",
     "output_type": "stream",
     "text": [
      "The average accuracy for all cv folds is: \t\t\t 0.84831\n",
      "The average precision for all cv folds is: \t\t\t 0.89043\n",
      "The average recall for all cv folds is: \t\t\t 0.89406\n",
      "*********************************************************\n",
      "Cross Validation Fold Mean Error Scores\n",
      "   Accuracy  Precision    Recall\n",
      "0  0.854679   0.895315  0.898116\n",
      "1  0.845782   0.889852  0.890687\n",
      "2  0.852208   0.894515  0.895144\n",
      "3  0.850011   0.892339  0.894362\n",
      "4  0.847155   0.890493  0.892095\n",
      "5  0.847485   0.889330  0.894128\n",
      "6  0.841874   0.883040  0.893189\n",
      "7  0.847688   0.890570  0.892868\n",
      "8  0.849226   0.889777  0.896387\n",
      "9  0.846974   0.889062  0.893650\n"
     ]
    }
   ],
   "source": [
    "print(EvaluateClassifierEstimator(mnb_gridsearch_3r_text.best_estimator_, x_text, y2, 10))"
   ]
  },
  {
   "cell_type": "code",
   "execution_count": 137,
   "metadata": {},
   "outputs": [
    {
     "name": "stdout",
     "output_type": "stream",
     "text": [
      "Best Multinomial Naive Bayes Estimator: MultinomialNB(alpha=0.75, class_prior=None, fit_prior=False)\n",
      "Accuracy of this Estimator: 0.8483080962031713\n",
      "Average fit time: 0.5948449339185442\n"
     ]
    }
   ],
   "source": [
    "mnb_GS_3r_text_res_df = pd.DataFrame(mnb_gridsearch_3r_text.cv_results_)\n",
    "print('Best Multinomial Naive Bayes Estimator:',mnb_gridsearch_3r_text.best_estimator_)\n",
    "print('Accuracy of this Estimator:',mnb_gridsearch_3r_text.best_score_)\n",
    "print('Average fit time:',np.mean(mnb_GS_3r_text_res_df['mean_fit_time']))"
   ]
  },
  {
   "cell_type": "markdown",
   "metadata": {},
   "source": [
    "#### K-nearest Neighbors (Non-Text Data)\n",
    "Because our dataset is so large, we will be subsetting it to fit K-nearest Neighbors. With over 180,000 data points, this is necessary to train the model because of both memory and time limitations. Because of the size of the text data set, we will not be able to use it for K-nearest neighbors. "
   ]
  },
  {
   "cell_type": "code",
   "execution_count": 9,
   "metadata": {},
   "outputs": [],
   "source": [
    "# Select a 50% subset of both the non-text and text datasets\n",
    "X_sub3, X_sub4, y_sub3, y_sub4  = train_test_split(X2, y2, test_size=0.5, train_size=0.5)\n"
   ]
  },
  {
   "cell_type": "code",
   "execution_count": 144,
   "metadata": {
    "scrolled": true
   },
   "outputs": [
    {
     "name": "stdout",
     "output_type": "stream",
     "text": [
      "Fitting 10 folds for each of 6 candidates, totalling 60 fits\n"
     ]
    },
    {
     "name": "stderr",
     "output_type": "stream",
     "text": [
      "[Parallel(n_jobs=-1)]: Done  34 tasks      | elapsed:  1.1min\n",
      "[Parallel(n_jobs=-1)]: Done  60 out of  60 | elapsed:  2.2min finished\n"
     ]
    },
    {
     "data": {
      "text/plain": [
       "GridSearchCV(cv=10, error_score='raise',\n",
       "       estimator=KNeighborsClassifier(algorithm='auto', leaf_size=30, metric='minkowski',\n",
       "           metric_params=None, n_jobs=1, n_neighbors=5, p=2,\n",
       "           weights='uniform'),\n",
       "       fit_params=None, iid=True, n_jobs=-1,\n",
       "       param_grid={'n_neighbors': [3, 15, 25], 'weights': ['uniform', 'distance']},\n",
       "       pre_dispatch='2*n_jobs', refit=True, return_train_score='warn',\n",
       "       scoring='accuracy', verbose=1)"
      ]
     },
     "execution_count": 144,
     "metadata": {},
     "output_type": "execute_result"
    }
   ],
   "source": [
    "knn = KNeighborsClassifier()\n",
    "\n",
    "knn_params = {'n_neighbors':[3,15,25],\n",
    "               'weights':['uniform', 'distance']}\n",
    "knn_gridsearch_3r = GridSearchCV(knn,\n",
    "                                 param_grid = knn_params,\n",
    "                                 cv = 10,\n",
    "                                 verbose = 1,\n",
    "                                 scoring='accuracy',\n",
    "                                 n_jobs = -1)\n",
    "\n",
    "knn_gridsearch_3r.fit(X_sub3, y_sub3)"
   ]
  },
  {
   "cell_type": "markdown",
   "metadata": {},
   "source": [
    "knn_gridsearch_3r_res_df = pd.DataFrame(knn_gridsearch_3r.cv_results_)\n",
    "print('Best Multinomial Naive Bayes Estimator:',knn_gridsearch_3r.best_estimator_)\n",
    "print('Accuracy of this Estimator:',knn_gridsearch_3r.best_score_)\n",
    "print('Average fit time:',np.mean(knn_gridsearch_3r_res_df['mean_fit_time']))"
   ]
  },
  {
   "cell_type": "markdown",
   "metadata": {},
   "source": [
    "#### Decision Tree (Non-Text Data)"
   ]
  },
  {
   "cell_type": "code",
   "execution_count": 11,
   "metadata": {},
   "outputs": [
    {
     "name": "stdout",
     "output_type": "stream",
     "text": [
      "Fitting 10 folds for each of 12 candidates, totalling 120 fits\n"
     ]
    },
    {
     "name": "stderr",
     "output_type": "stream",
     "text": [
      "[Parallel(n_jobs=4)]: Done  42 tasks      | elapsed:   14.5s\n",
      "[Parallel(n_jobs=4)]: Done 120 out of 120 | elapsed:   39.6s finished\n"
     ]
    },
    {
     "data": {
      "text/plain": [
       "GridSearchCV(cv=ShuffleSplit(n_splits=10, random_state=0, test_size=0.1, train_size=None),\n",
       "       error_score='raise',\n",
       "       estimator=DecisionTreeClassifier(class_weight=None, criterion='gini', max_depth=None,\n",
       "            max_features=None, max_leaf_nodes=None,\n",
       "            min_impurity_decrease=0.0, min_impurity_split=None,\n",
       "            min_samples_leaf=1, min_samples_split=2,\n",
       "            min_weight_fraction_leaf=0.0, presort=False, random_state=None,\n",
       "            splitter='best'),\n",
       "       fit_params=None, iid=True, n_jobs=4,\n",
       "       param_grid={'class_weight': ['balanced'], 'criterion': ['gini', 'entropy'], 'min_samples_split': [500, 1000, 5000], 'min_samples_leaf': [250, 500]},\n",
       "       pre_dispatch='2*n_jobs', refit=True, return_train_score='warn',\n",
       "       scoring='accuracy', verbose=1)"
      ]
     },
     "execution_count": 11,
     "metadata": {},
     "output_type": "execute_result"
    }
   ],
   "source": [
    "dt_clf_3r = DecisionTreeClassifier()\n",
    "dt_GS_3r_params= {'class_weight':['balanced'],\n",
    "              'criterion':['gini', 'entropy'],\n",
    "              'min_samples_split':[500,1000,5000],\n",
    "              'min_samples_leaf':[250,500]}\n",
    "\n",
    "dt_gridsearch_3r = GridSearchCV(estimator = dt_clf_3r,\n",
    "                            param_grid = dt_GS_3r_params,\n",
    "                            n_jobs=4,\n",
    "                            verbose=1,\n",
    "                             cv=cv,\n",
    "                            scoring='accuracy')\n",
    "dt_gridsearch_3r.fit(X2,y2)\n",
    "\n"
   ]
  },
  {
   "cell_type": "code",
   "execution_count": 14,
   "metadata": {},
   "outputs": [
    {
     "name": "stdout",
     "output_type": "stream",
     "text": [
      "The average accuracy for all cv folds is: \t\t\t 0.60293\n",
      "The average precision for all cv folds is: \t\t\t 0.77559\n",
      "The average recall for all cv folds is: \t\t\t 0.6117\n",
      "*********************************************************\n",
      "Cross Validation Fold Mean Error Scores\n",
      "   Accuracy  Precision    Recall\n",
      "0  0.606327   0.784090  0.606537\n",
      "1  0.597045   0.769527  0.608570\n",
      "2  0.601054   0.776444  0.606693\n",
      "3  0.594409   0.775940  0.594104\n",
      "4  0.602153   0.776669  0.608570\n",
      "5  0.613082   0.773524  0.635077\n",
      "6  0.598067   0.775118  0.602627\n",
      "7  0.613040   0.776558  0.630513\n",
      "8  0.604251   0.774889  0.615343\n",
      "9  0.599857   0.773156  0.609008\n"
     ]
    }
   ],
   "source": [
    "print(EvaluateClassifierEstimator(dt_gridsearch_3r.best_estimator_, X2, y2, 10))\n"
   ]
  },
  {
   "cell_type": "code",
   "execution_count": 179,
   "metadata": {},
   "outputs": [
    {
     "name": "stdout",
     "output_type": "stream",
     "text": [
      "Best Multinomial Naive Bayes Estimator: DecisionTreeClassifier(class_weight='balanced', criterion='entropy',\n",
      "            max_depth=None, max_features=None, max_leaf_nodes=None,\n",
      "            min_impurity_decrease=0.0, min_impurity_split=None,\n",
      "            min_samples_leaf=500, min_samples_split=5000,\n",
      "            min_weight_fraction_leaf=0.0, presort=False, random_state=None,\n",
      "            splitter='best')\n",
      "Accuracy of this Estimator: 1.0\n",
      "Average fit time: 0.4836279471715292\n"
     ]
    }
   ],
   "source": [
    "\n",
    "dt_gridsearch_3r_res_df = pd.DataFrame(dt_gridsearch_3r.cv_results_)\n",
    "print('Best Multinomial Naive Bayes Estimator:',dt_gridsearch.best_estimator_)\n",
    "print('Accuracy of this Estimator:',dt_gridsearch_3r.best_score_)\n",
    "print('Average fit time:',np.mean(dt_gridsearch_3r_res_df['mean_fit_time']))"
   ]
  },
  {
   "cell_type": "markdown",
   "metadata": {},
   "source": [
    "#### Decision Tree (Text Data)"
   ]
  },
  {
   "cell_type": "code",
   "execution_count": 180,
   "metadata": {},
   "outputs": [
    {
     "name": "stdout",
     "output_type": "stream",
     "text": [
      "Fitting 3 folds for each of 6 candidates, totalling 18 fits\n"
     ]
    },
    {
     "name": "stderr",
     "output_type": "stream",
     "text": [
      "[Parallel(n_jobs=-1)]: Done  18 out of  18 | elapsed:  4.0min finished\n"
     ]
    },
    {
     "data": {
      "text/plain": [
       "GridSearchCV(cv=None, error_score='raise',\n",
       "       estimator=DecisionTreeClassifier(class_weight=None, criterion='gini', max_depth=None,\n",
       "            max_features=None, max_leaf_nodes=None,\n",
       "            min_impurity_decrease=0.0, min_impurity_split=None,\n",
       "            min_samples_leaf=1, min_samples_split=2,\n",
       "            min_weight_fraction_leaf=0.0, presort=False, random_state=None,\n",
       "            splitter='best'),\n",
       "       fit_params=None, iid=True, n_jobs=-1,\n",
       "       param_grid={'class_weight': ['balanced'], 'criterion': ['gini'], 'min_samples_split': [500, 1000, 2500], 'min_samples_leaf': [250, 500]},\n",
       "       pre_dispatch='2*n_jobs', refit=True, return_train_score='warn',\n",
       "       scoring='accuracy', verbose=1)"
      ]
     },
     "execution_count": 180,
     "metadata": {},
     "output_type": "execute_result"
    }
   ],
   "source": [
    "dt_clf_3r_text = DecisionTreeClassifier()\n",
    "dt_GS_3r_text_params= {'class_weight':['balanced'],\n",
    "              'criterion':['gini'],\n",
    "              'min_samples_split':[500,1000,2500],\n",
    "              'min_samples_leaf':[250,500]}\n",
    "\n",
    "dt_gridsearch_3r_text = GridSearchCV(estimator = dt_clf,\n",
    "                            param_grid = dt_GS_3r_text_params,\n",
    "                            n_jobs=-1,\n",
    "                            verbose=1,\n",
    "                            scoring='accuracy')\n",
    "dt_gridsearch_3r_text.fit(x_text,y2)"
   ]
  },
  {
   "cell_type": "code",
   "execution_count": 181,
   "metadata": {},
   "outputs": [
    {
     "name": "stdout",
     "output_type": "stream",
     "text": [
      "The average accuracy for all cv folds is: \t\t\t 0.7797\n",
      "The average precision for all cv folds is: \t\t\t 0.89883\n",
      "The average recall for all cv folds is: \t\t\t 0.77348\n",
      "*********************************************************\n",
      "Cross Validation Fold Mean Error Scores\n",
      "   Accuracy  Precision    Recall\n",
      "0  0.780811   0.898460  0.775588\n",
      "1  0.781525   0.899882  0.775197\n",
      "2  0.775483   0.904735  0.760419\n",
      "3  0.774165   0.898210  0.765189\n",
      "4  0.783337   0.895882  0.782469\n",
      "5  0.784380   0.892411  0.788021\n",
      "6  0.777119   0.899004  0.769098\n",
      "7  0.782050   0.898806  0.777213\n",
      "8  0.777106   0.906803  0.760870\n",
      "9  0.781061   0.894143  0.780732\n"
     ]
    }
   ],
   "source": [
    "print(EvaluateClassifierEstimator(dt_gridsearch_3r_text.best_estimator_, x_text, y2, 10))"
   ]
  },
  {
   "cell_type": "code",
   "execution_count": 182,
   "metadata": {},
   "outputs": [
    {
     "name": "stdout",
     "output_type": "stream",
     "text": [
      "Best Multinomial Naive Bayes Estimator: DecisionTreeClassifier(class_weight='balanced', criterion='gini',\n",
      "            max_depth=None, max_features=None, max_leaf_nodes=None,\n",
      "            min_impurity_decrease=0.0, min_impurity_split=None,\n",
      "            min_samples_leaf=250, min_samples_split=2500,\n",
      "            min_weight_fraction_leaf=0.0, presort=False, random_state=None,\n",
      "            splitter='best')\n",
      "Accuracy of this Estimator: 0.7760843178285632\n",
      "Average fit time: 94.27424495750004\n"
     ]
    }
   ],
   "source": [
    "\n",
    "dt_gridsearch_3r_text_res_df = pd.DataFrame(dt_gridsearch_3r_text.cv_results_)\n",
    "print('Best Multinomial Naive Bayes Estimator:',dt_gridsearch_3r_text.best_estimator_)\n",
    "print('Accuracy of this Estimator:',dt_gridsearch_3r_text.best_score_)\n",
    "print('Average fit time:',np.mean(dt_gridsearch_3r_text_res_df['mean_fit_time']))"
   ]
  },
  {
   "cell_type": "code",
   "execution_count": 65,
   "metadata": {},
   "outputs": [
    {
     "name": "stdout",
     "output_type": "stream",
     "text": [
      "Confidence Interval:[ -0.004861374840361873 , 0.006001374840362014 ]\n"
     ]
    }
   ],
   "source": [
    "def ConfInt(a,n1,b,n2):\n",
    "    sigma1 = (a * (1-a))/ n1\n",
    "    sigma2 = (b * (1-b))/ n2\n",
    "    CI_HW = 1.96 * np.sqrt(sigma1+sigma2)\n",
    "    diff = b - a\n",
    "    return((diff - CI_HW,diff+CI_HW))\n",
    "\n",
    "knn_ci = ConfInt(0.83166, 36414, 0.83223, 36414)\n",
    "print('Confidence Interval:[',knn_ci[0],',',knn_ci[1],']')"
   ]
  },
  {
   "cell_type": "markdown",
   "metadata": {},
   "source": [
    "Because they are the most accurate models, we would like to know if this difference in accuracy between 7 nearest neighbors and 11 nearest neighbors is statistically significant. We therefore generate a confidence interval, assuming the population the data was selected from follow a binomial distribution. This confidence interval contains 0, so there is no statistical evidence that either of these models is better than the other. "
   ]
  },
  {
   "cell_type": "markdown",
   "metadata": {},
   "source": [
    "### Modeling and Evaluation 4: Analyze Results of Chosen Models"
   ]
  },
  {
   "cell_type": "code",
   "execution_count": 36,
   "metadata": {},
   "outputs": [],
   "source": [
    "#need something here"
   ]
  },
  {
   "cell_type": "markdown",
   "metadata": {},
   "source": [
    "### Modeling and Evaluation 5: Model Advantages"
   ]
  },
  {
   "cell_type": "code",
   "execution_count": 37,
   "metadata": {},
   "outputs": [],
   "source": [
    "#need something here"
   ]
  },
  {
   "cell_type": "markdown",
   "metadata": {},
   "source": [
    "### Modeling and Evaluation 6: Model Attribute Importance"
   ]
  },
  {
   "cell_type": "code",
   "execution_count": 30,
   "metadata": {},
   "outputs": [
    {
     "name": "stdout",
     "output_type": "stream",
     "text": [
      "accuracy: 0.5709107286048529\n",
      "[[ 8243  5619]\n",
      " [33444 43731]]\n",
      "Total_Cost has weight of -0.2117073086989212\n",
      "teacher_prefix_Teacher has weight of -0.044375632708646716\n",
      "True_Quantity has weight of -0.03849407467079832\n",
      "project_is_approved has weight of -0.03179407164047795\n",
      "essay2_AboutProject_len has weight of 0.05273180918331217\n",
      "essay1_DescribeStudents_len has weight of 0.05477932778059977\n",
      "project_grade_category_Grades PreK-2 has weight of 0.07046587888068516\n",
      "teacher_number_of_previously_posted_projects has weight of 0.2317318873321855\n",
      "Average_item_cost has weight of 0.2825875012963379\n"
     ]
    }
   ],
   "source": [
    "#https://github.com/jakemdrew/EducationDataNC/blob/master/2017/Models/2017SegregatedHighSchoolCampuses.ipynb\n",
    "\n",
    "# scale attributes by the training set\n",
    "scl_obj = StandardScaler()\n",
    "scl_obj.fit(X_sub) # find scalings for each column that make this zero mean and unit std\n",
    "# the line of code above only looks at training data to get mean and std and we can use it \n",
    "# to transform new feature data. It uses the last iteration of the loop above for the split.\n",
    "\n",
    "X_train_scaled = scl_obj.transform(X_sub) # apply to training\n",
    "X_test_scaled = scl_obj.transform(X_sub2) # apply those means and std to the test set (without snooping at the test set values)\n",
    "\n",
    "# train the model just as before\n",
    "lr_clf = LogisticReg_GS.best_estimator_.fit(X_train_scaled, y_sub)\n",
    "\n",
    "y_hat = lr_clf.predict(X_test_scaled) # get test set precitions\n",
    "\n",
    "acc = mt.accuracy_score(y_sub2,y_hat)\n",
    "conf = mt.confusion_matrix(y_sub2,y_hat)\n",
    "print('accuracy:', acc )\n",
    "print(conf )\n",
    "\n",
    "# sort these attributes and spit them out\n",
    "zip_vars = zip(lr_clf.coef_.T,df.columns) # combine attributes\n",
    "zip_vars = sorted(zip_vars)\n",
    "for coef, name in zip_vars:\n",
    "    print(name, 'has weight of', coef[0]) # now print them out\n",
    "\n",
    "# now let's make a pandas Series with the names and values, and plot them\n",
    "# reference for code: https://github.com/jakemdrew/EducationDataNC/blob/master/2017/Models/2017SegregatedHighSchoolCampuses.ipynb\n",
    "\n"
   ]
  },
  {
   "cell_type": "code",
   "execution_count": 48,
   "metadata": {},
   "outputs": [
    {
     "data": {
      "image/png": "[encoded data removed]",
      "text/plain": [
       "<Figure size 432x288 with 1 Axes>"
      ]
     },
     "metadata": {},
     "output_type": "display_data"
    }
   ],
   "source": [
    "%matplotlib inline\n",
    "plt.style.use('ggplot')\n",
    "\n",
    "weights = lr_clf.coef_.ravel()\n",
    "feature_names = df.columns.values\n",
    "\n",
    "logreg_features = pd.DataFrame({'feature_names': np.concatenate((feature_names[:4],feature_names[5:10])), \n",
    "                                'weights': weights[:10], \n",
    "                                'absolute_weights':np.abs(weights[:10])})\n",
    "logreg_features.sort_values(by='absolute_weights', inplace=True, ascending = False)\n",
    "\n",
    "weights = pd.Series(logreg_features['weights'].values, index=logreg_features['feature_names'])\n",
    "px = weights.plot(kind='bar')\n",
    "px.set_xlabel(\"Feature Names\")\n",
    "px.set_ylabel(\"Weight\")\n",
    "px.set_title(\"Ranked Feature Importance\")\n",
    "plt.show()"
   ]
  },
  {
   "cell_type": "markdown",
   "metadata": {},
   "source": [
    "## Deployment"
   ]
  },
  {
   "cell_type": "markdown",
   "metadata": {},
   "source": [
    "Task 1 is a clearly valuable question to answer for DonorsChoose as an organization. By being able to accurately automate application approvals, the time spent reading applications will be reduced for volunteers. Because the organization is not actually funding these projects, but is just providing the vehicle by which to post a project to be crowd-funded, this will reduce the barriers to publishing projects and get more resources to teachers and students who need them. In doing so, it will leverage volunteer time to address gaps in applications that do not pass through the initial screening, making the projects more likely to succeed once they are posted. There are several measures to show the value of implementing an automation based on this model, one of which would be \"volunteer-hours/# projects posted\". Because non-profits highly value the time of their volunteers, and their primary goal is to post quality projects to be funded, a decrease in this measure, along with looking at the trend in each the numerator and denominators, would demonstrate value to the organization. This model would need to be updated yearly, or potentially on an ad hoc basis if there is anecdotal evidence to support revisiting the model. A yearly update would ensure that new technology terms are accounted for, as well as the maturity of the organization and the teachers leveraging their services.\n",
    "\n",
    "The outcome of Task 2 is slightly less tangible, but is valuable, particularly for schools who may be looking to improve their core competencies. Examining the features that drive these projects that relate to core competencies can help identify where there are gaps in the foundational tools being provided to teachers for these subjects. This kind of analysis can be helpful in reforming the general education framework and provide better opportunities, to make sure that projects of this nature are not needed in the future. Policy makers and influencers could use the information to build a better system. To measure whether this is happening, additional data about the scores of students in these areas over time could be evaluated, along with the trend in the frequency of these projects. We would expect to see the scores of students improve while the number of requested projects goes down, which would loosely demonstrate that policy changes had been made. This model would also need to be refreshed yearly, or within a given time period after a policy change is enacted, to ensure that vocabulary is keeping up to date with the changes in teacher needs. It would be beneficial to also keep the original model in place, since teachers may shift their requests in these areas to be beyond the basic core competencies and be encouraging their students into deeper curiosity. Being able to benchmark with the same model would give stronger evidence of a change due to policy updates. "
   ]
  },
  {
   "cell_type": "markdown",
   "metadata": {},
   "source": [
    "## Exceptional Work"
   ]
  },
  {
   "cell_type": "code",
   "execution_count": 42,
   "metadata": {},
   "outputs": [],
   "source": [
    "#need something here"
   ]
  }
 ],
 "metadata": {
  "kernelspec": {
   "display_name": "Python 3",
   "language": "python",
   "name": "python3"
  },
  "language_info": {
   "codemirror_mode": {
    "name": "ipython",
    "version": 3
   },
   "file_extension": ".py",
   "mimetype": "text/x-python",
   "name": "python",
   "nbconvert_exporter": "python",
   "pygments_lexer": "ipython3",
   "version": "3.6.5"
  }
 },
 "nbformat": 4,
 "nbformat_minor": 2
}
