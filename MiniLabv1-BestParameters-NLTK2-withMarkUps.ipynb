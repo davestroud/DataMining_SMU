{
 "cells": [
  {
   "cell_type": "markdown",
   "metadata": {},
   "source": [
    "# Mini Lab One\n",
    "\n",
    "### MSDS7331: Data Mining\n",
    "### Section 0403\n",
    "### Summer 2018\n",
    "\n",
    "- Anthony Schams\n",
    "- Laura Ludwig  \n",
    "- David Stroud\n",
    "- Joshua Balson"
   ]
  },
  {
   "cell_type": "markdown",
   "metadata": {},
   "source": [
    "## Create Models"
   ]
  },
  {
   "cell_type": "markdown",
   "metadata": {},
   "source": [
    "### Import the data"
   ]
  },
  {
   "cell_type": "markdown",
   "metadata": {},
   "source": [
    "Here we are adding in the natural language processing features from the python NLTK packages"
   ]
  },
  {
   "cell_type": "markdown",
   "metadata": {},
   "source": [
    "#### Stop Words\n",
    "\n",
    "Stop Words are commonly used words (such as “the”, “a”, “an”, “in”) and they \n",
    "can take up an enormous amount of space in our database, or take up valuable \n",
    "processing time. The NLTK libraries have a list of Stop Words stored in their \n",
    "library and we have included them in our model. "
   ]
  },
  {
   "cell_type": "code",
<<<<<<< HEAD
   "execution_count": 137,
=======
   "execution_count": 1,
>>>>>>> 3120c67a9bb7b6f6891c85f4521a1348bd087080
   "metadata": {},
   "outputs": [
    {
     "name": "stdout",
     "output_type": "stream",
     "text": [
      "<class 'pandas.core.frame.DataFrame'>\n",
      "Int64Index: 182080 entries, 0 to 182079\n",
      "Data columns (total 19 columns):\n",
      "id                                              182080 non-null object\n",
      "teacher_id                                      182080 non-null object\n",
      "teacher_prefix                                  182076 non-null object\n",
      "school_state                                    182080 non-null object\n",
      "project_submitted_datetime                      182080 non-null object\n",
      "project_grade_category                          182080 non-null object\n",
      "project_subject_categories                      182080 non-null object\n",
      "project_subject_subcategories                   182080 non-null object\n",
      "project_title                                   182080 non-null object\n",
      "project_essay_1                                 182080 non-null object\n",
      "project_essay_2                                 182080 non-null object\n",
      "project_essay_3                                 6374 non-null object\n",
      "project_essay_4                                 6374 non-null object\n",
      "project_resource_summary                        182080 non-null object\n",
      "teacher_number_of_previously_posted_projects    182080 non-null int64\n",
      "project_is_approved                             182080 non-null int64\n",
      "Total_Cost                                      182077 non-null float64\n",
      "True_Quantity                                   182077 non-null float64\n",
      "Average_item_cost                               182077 non-null float64\n",
      "dtypes: float64(3), int64(2), object(14)\n",
      "memory usage: 27.8+ MB\n"
     ]
    }
   ],
   "source": [
    "import matplotlib.pyplot as plt\n",
    "import pandas as pd\n",
    "import numpy as np\n",
    "#from sklearn.feature_extraction.text import TfidfVectorizer\n",
    "#from sklearn.decomposition import LatentDirichletAllocation\n",
    "#from sklearn.feature_extraction.text import CountVectorizer\n",
    "#from keras.preprocessing import sequence, text\n",
    "#from keras.layers import Input, Embedding\n",
    "#from nltk import word_tokenize\n",
    "from nltk.corpus import stopwords\n",
    "# from textblob import TextBlob\n",
    "import datetime as dt\n",
    "import warnings\n",
    "import string\n",
    "\n",
    "df_train = pd.read_csv('train.csv')\n",
    "df_resources = pd.read_csv('resources.csv')\n",
    "train_resource = pd.merge(df_train, df_resources, on=\"id\", how='left')\n",
    "df_train[df_train.teacher_prefix.isnull()]\n",
    "train_resource[train_resource.description.isnull()].head()\n",
    "t2 = train_resource.pivot_table(index = ['id', 'description'],\n",
    "                                values='quantity', \n",
    "                                aggfunc=np.sum)\n",
    "t2.reset_index(inplace=True)\n",
    "train_resource = pd.merge(train_resource,\n",
    "                          t2, \n",
    "                          on=['id', 'description'], \n",
    "                          how='right',\n",
    "                          suffixes=('_Orig', '_True'))\n",
    "\n",
    "train_resource = train_resource.drop_duplicates()\n",
    "train_resource = train_resource.drop('quantity_Orig', axis=1)\n",
    "train_resource = train_resource.rename(columns={'quantity_True': 'True_Quantity'})\n",
    "train_resource['Total_Cost'] = train_resource.price * train_resource.True_Quantity\n",
    "Total_cost = train_resource.pivot_table(values=['Total_Cost','True_Quantity'],\n",
    "                                        index='id',\n",
    "                                        aggfunc={'Total_Cost' : np.sum, 'True_Quantity' : np.sum})\n",
    "Total_cost.reset_index(level=0, inplace = True)\n",
    "\n",
    "df_train = df_train.merge(Total_cost, on='id', how='left')\n",
    "df_train['Average_item_cost'] = df_train.Total_Cost  / df_train.True_Quantity\n",
    "\n",
    "df = df_train\n",
    "\n",
    "# stop_words = []\n",
    "stop_words = list(set(stopwords.words('english')))\n",
    "warnings.filterwarnings('ignore')\n",
    "punctuation = string.punctuation\n",
    "\n",
    "df.info()"
   ]
  },
  {
   "cell_type": "markdown",
   "metadata": {},
   "source": [
    "### Variable clean-up:  "
   ]
  },
  {
   "cell_type": "markdown",
   "metadata": {},
   "source": [
    "We remove essays three and four since they were discontinued shortly after the time period of this analysis.  This is where we also add in the essay word lengths for essays one and two.  We perform a log transform on the continuous variables to correct for right-skew.  Finally, we create dummy variables for 'teacher_prefix' and 'project_grade_category'."
   ]
  },
  {
   "cell_type": "code",
<<<<<<< HEAD
   "execution_count": 138,
=======
   "execution_count": 2,
>>>>>>> 3120c67a9bb7b6f6891c85f4521a1348bd087080
   "metadata": {},
   "outputs": [
    {
     "name": "stdout",
     "output_type": "stream",
     "text": [
      "<class 'pandas.core.frame.DataFrame'>\n",
      "Int64Index: 182073 entries, 0 to 182079\n",
      "Data columns (total 10 columns):\n",
      "teacher_number_of_previously_posted_projects    182073 non-null float64\n",
      "Total_Cost                                      182073 non-null float64\n",
      "True_Quantity                                   182073 non-null float64\n",
      "Average_item_cost                               182073 non-null float64\n",
      "project_is_approved                             182073 non-null int64\n",
      "teacher_prefix_Teacher                          182073 non-null uint8\n",
      "project_grade_category_Grades PreK-2            182073 non-null uint8\n",
      "essay1_DescribeStudents_len                     182073 non-null float64\n",
      "essay2_AboutProject_len                         182073 non-null float64\n",
      "title_len                                       182073 non-null float64\n",
      "dtypes: float64(7), int64(1), uint8(2)\n",
      "memory usage: 12.8 MB\n"
     ]
    },
    {
     "data": {
      "text/html": [
       "<div>\n",
       "<style scoped>\n",
       "    .dataframe tbody tr th:only-of-type {\n",
       "        vertical-align: middle;\n",
       "    }\n",
       "\n",
       "    .dataframe tbody tr th {\n",
       "        vertical-align: top;\n",
       "    }\n",
       "\n",
       "    .dataframe thead th {\n",
       "        text-align: right;\n",
       "    }\n",
       "</style>\n",
       "<table border=\"1\" class=\"dataframe\">\n",
       "  <thead>\n",
       "    <tr style=\"text-align: right;\">\n",
       "      <th></th>\n",
       "      <th>teacher_number_of_previously_posted_projects</th>\n",
       "      <th>Total_Cost</th>\n",
       "      <th>True_Quantity</th>\n",
       "      <th>Average_item_cost</th>\n",
       "      <th>project_is_approved</th>\n",
       "      <th>teacher_prefix_Teacher</th>\n",
       "      <th>project_grade_category_Grades PreK-2</th>\n",
       "      <th>essay1_DescribeStudents_len</th>\n",
       "      <th>essay2_AboutProject_len</th>\n",
       "      <th>title_len</th>\n",
       "    </tr>\n",
       "  </thead>\n",
       "  <tbody>\n",
       "    <tr>\n",
       "      <th>count</th>\n",
       "      <td>182073.000000</td>\n",
       "      <td>182073.000000</td>\n",
       "      <td>182073.000000</td>\n",
       "      <td>182073.000000</td>\n",
       "      <td>182073.000000</td>\n",
       "      <td>182073.000000</td>\n",
       "      <td>182073.000000</td>\n",
       "      <td>182073.000000</td>\n",
       "      <td>182073.000000</td>\n",
       "      <td>182073.000000</td>\n",
       "    </tr>\n",
       "    <tr>\n",
       "      <th>mean</th>\n",
       "      <td>1.440580</td>\n",
       "      <td>6.021158</td>\n",
       "      <td>2.330753</td>\n",
       "      <td>3.916123</td>\n",
       "      <td>0.847676</td>\n",
       "      <td>0.021486</td>\n",
       "      <td>0.405821</td>\n",
       "      <td>6.447078</td>\n",
       "      <td>6.674833</td>\n",
       "      <td>3.429738</td>\n",
       "    </tr>\n",
       "    <tr>\n",
       "      <th>std</th>\n",
       "      <td>1.318374</td>\n",
       "      <td>0.740747</td>\n",
       "      <td>1.039543</td>\n",
       "      <td>1.282055</td>\n",
       "      <td>0.359335</td>\n",
       "      <td>0.144998</td>\n",
       "      <td>0.491052</td>\n",
       "      <td>0.335587</td>\n",
       "      <td>0.314533</td>\n",
       "      <td>0.407495</td>\n",
       "    </tr>\n",
       "    <tr>\n",
       "      <th>min</th>\n",
       "      <td>0.000000</td>\n",
       "      <td>4.313212</td>\n",
       "      <td>0.693147</td>\n",
       "      <td>0.230229</td>\n",
       "      <td>0.000000</td>\n",
       "      <td>0.000000</td>\n",
       "      <td>0.000000</td>\n",
       "      <td>3.931826</td>\n",
       "      <td>5.517453</td>\n",
       "      <td>1.609438</td>\n",
       "    </tr>\n",
       "    <tr>\n",
       "      <th>25%</th>\n",
       "      <td>0.000000</td>\n",
       "      <td>5.514759</td>\n",
       "      <td>1.609438</td>\n",
       "      <td>2.891869</td>\n",
       "      <td>1.000000</td>\n",
       "      <td>0.000000</td>\n",
       "      <td>0.000000</td>\n",
       "      <td>6.246107</td>\n",
       "      <td>6.458338</td>\n",
       "      <td>3.135494</td>\n",
       "    </tr>\n",
       "    <tr>\n",
       "      <th>50%</th>\n",
       "      <td>1.098612</td>\n",
       "      <td>5.990964</td>\n",
       "      <td>2.302585</td>\n",
       "      <td>3.848531</td>\n",
       "      <td>1.000000</td>\n",
       "      <td>0.000000</td>\n",
       "      <td>0.000000</td>\n",
       "      <td>6.406880</td>\n",
       "      <td>6.595781</td>\n",
       "      <td>3.433987</td>\n",
       "    </tr>\n",
       "    <tr>\n",
       "      <th>75%</th>\n",
       "      <td>2.302585</td>\n",
       "      <td>6.549365</td>\n",
       "      <td>3.091042</td>\n",
       "      <td>4.918228</td>\n",
       "      <td>1.000000</td>\n",
       "      <td>0.000000</td>\n",
       "      <td>1.000000</td>\n",
       "      <td>6.663133</td>\n",
       "      <td>6.858565</td>\n",
       "      <td>3.737670</td>\n",
       "    </tr>\n",
       "    <tr>\n",
       "      <th>max</th>\n",
       "      <td>6.113682</td>\n",
       "      <td>9.700169</td>\n",
       "      <td>7.247793</td>\n",
       "      <td>9.210340</td>\n",
       "      <td>1.000000</td>\n",
       "      <td>1.000000</td>\n",
       "      <td>1.000000</td>\n",
       "      <td>7.923348</td>\n",
       "      <td>8.561210</td>\n",
       "      <td>4.955827</td>\n",
       "    </tr>\n",
       "  </tbody>\n",
       "</table>\n",
       "</div>"
      ],
      "text/plain": [
       "       teacher_number_of_previously_posted_projects     Total_Cost  \\\n",
       "count                                 182073.000000  182073.000000   \n",
       "mean                                       1.440580       6.021158   \n",
       "std                                        1.318374       0.740747   \n",
       "min                                        0.000000       4.313212   \n",
       "25%                                        0.000000       5.514759   \n",
       "50%                                        1.098612       5.990964   \n",
       "75%                                        2.302585       6.549365   \n",
       "max                                        6.113682       9.700169   \n",
       "\n",
       "       True_Quantity  Average_item_cost  project_is_approved  \\\n",
       "count  182073.000000      182073.000000        182073.000000   \n",
       "mean        2.330753           3.916123             0.847676   \n",
       "std         1.039543           1.282055             0.359335   \n",
       "min         0.693147           0.230229             0.000000   \n",
       "25%         1.609438           2.891869             1.000000   \n",
       "50%         2.302585           3.848531             1.000000   \n",
       "75%         3.091042           4.918228             1.000000   \n",
       "max         7.247793           9.210340             1.000000   \n",
       "\n",
       "       teacher_prefix_Teacher  project_grade_category_Grades PreK-2  \\\n",
       "count           182073.000000                         182073.000000   \n",
       "mean                 0.021486                              0.405821   \n",
       "std                  0.144998                              0.491052   \n",
       "min                  0.000000                              0.000000   \n",
       "25%                  0.000000                              0.000000   \n",
       "50%                  0.000000                              0.000000   \n",
       "75%                  0.000000                              1.000000   \n",
       "max                  1.000000                              1.000000   \n",
       "\n",
       "       essay1_DescribeStudents_len  essay2_AboutProject_len      title_len  \n",
       "count                182073.000000            182073.000000  182073.000000  \n",
       "mean                      6.447078                 6.674833       3.429738  \n",
       "std                       0.335587                 0.314533       0.407495  \n",
       "min                       3.931826                 5.517453       1.609438  \n",
       "25%                       6.246107                 6.458338       3.135494  \n",
       "50%                       6.406880                 6.595781       3.433987  \n",
       "75%                       6.663133                 6.858565       3.737670  \n",
       "max                       7.923348                 8.561210       4.955827  "
      ]
     },
<<<<<<< HEAD
     "execution_count": 138,
=======
     "execution_count": 2,
>>>>>>> 3120c67a9bb7b6f6891c85f4521a1348bd087080
     "metadata": {},
     "output_type": "execute_result"
    }
   ],
   "source": [
    "#https://github.com/eclarson/DataMiningNotebooks/blob/master/04.%20Logits%20and%20SVM.ipynb\n",
    "from __future__ import print_function\n",
    "\n",
    "# Remove attributes that arent useful\n",
    "if 'project_essay_3' in df:\n",
    "    del df['project_essay_3']\n",
    "if 'project_essay_4' in df:    \n",
    "    del df['project_essay_4']\n",
    "\n",
    "# drop rows that still had missing values after grouped imputation\n",
    "df.dropna(inplace=True)\n",
    "\n",
    "# extract length of each essay and title\n",
    "df['essay1_DescribeStudents_len'] = df['project_essay_1'].apply(len)\n",
    "df['essay2_AboutProject_len'] = df['project_essay_2'].apply(len)\n",
    "df['title_len'] = df['project_title'].apply(len)\n",
    "\n",
    "# take natural log of right skewed attributes\n",
    "df['teacher_number_of_previously_posted_projects']=np.log1p(df.teacher_number_of_previously_posted_projects)\n",
    "df['Total_Cost']=np.log1p(df.Total_Cost)\n",
    "df['True_Quantity']=np.log1p(df.True_Quantity)\n",
    "df['Average_item_cost']=np.log1p(df.Average_item_cost)\n",
    "df['essay1_DescribeStudents_len']=np.log1p(df.essay1_DescribeStudents_len)\n",
    "df['essay2_AboutProject_len']=np.log1p(df.essay2_AboutProject_len)\n",
    "df['title_len']=np.log1p(df.title_len)\n",
    "\n",
    "# perform one-hot encoding of the categorical data\n",
    "tmp_df = pd.get_dummies(df.teacher_prefix,prefix='teacher_prefix')\n",
    "df = pd.concat((df,tmp_df),axis=1) # add back into the dataframe\n",
    "\n",
    "tmp_df = pd.get_dummies(df.project_grade_category,prefix='project_grade_category')\n",
    "df = pd.concat((df,tmp_df),axis=1) # add back into the dataframe\n",
    "\n",
    "# Keep these attributes\n",
    "df = df[['teacher_number_of_previously_posted_projects','Total_Cost','True_Quantity','Average_item_cost','project_is_approved'\n",
    "        ,'teacher_prefix_Teacher','project_grade_category_Grades PreK-2'\n",
    "        ,'essay1_DescribeStudents_len','essay2_AboutProject_len','title_len']]\n",
    "    \n",
    "df.info()\n",
    "df.describe()"
   ]
  },
  {
   "cell_type": "code",
   "execution_count": 139,
   "metadata": {},
   "outputs": [
    {
     "data": {
      "image/png": "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\n",
      "text/plain": [
       "<Figure size 1080x360 with 3 Axes>"
      ]
     },
     "metadata": {},
     "output_type": "display_data"
    }
   ],
   "source": [
    "plt.figure(figsize = (15,5))\n",
    "plt.subplot(1,3,1)\n",
    "df.essay1_DescribeStudents_len.plot(kind='box')\n",
    "plt.ylabel('log(Essay 1 Word Length)')\n",
    "plt.subplot(1,3,2)\n",
    "df.essay2_AboutProject_len.plot(kind='box')\n",
    "plt.ylabel('log(Essay 2 Word Length)')\n",
    "plt.subplot(1,3,3)\n",
    "df.title_len.plot(kind='box')\n",
    "plt.ylabel('log(Title Word Length)')\n",
    "plt.show()"
   ]
  },
  {
   "cell_type": "markdown",
   "metadata": {},
   "source": [
    "The boxplots above show the three new features added to this data set after the log transform has been applied"
   ]
  },
  {
   "cell_type": "markdown",
   "metadata": {},
   "source": [
    "### Logistic Regression Model"
   ]
  },
  {
   "cell_type": "markdown",
   "metadata": {},
   "source": [
    "Next, let's create a log regression model.  We will split the 'df' data set into a train and test set, setting aside 20% for test."
   ]
  },
  {
   "cell_type": "code",
   "execution_count": 140,
   "metadata": {},
   "outputs": [
    {
     "name": "stdout",
     "output_type": "stream",
     "text": [
      "ShuffleSplit(n_splits=3, random_state=None, test_size=0.2, train_size=None)\n"
     ]
    }
   ],
   "source": [
    "from sklearn.model_selection import ShuffleSplit\n",
    "\n",
    "# we want to predict the X and y data as follows:\n",
    "if 'project_is_approved' in df:\n",
    "    y = df['project_is_approved'].values # get the labels we want\n",
    "    del df['project_is_approved'] # get rid of the class label\n",
    "    X = df.values # use everything else to predict!\n",
    "\n",
    "    ## X and y are now numpy matrices, by calling 'values' on the pandas data frames we\n",
    "    #    have converted them into simple matrices to use with scikit learn\n",
    "    \n",
    "    \n",
    "# to use the cross validation object in scikit learn, we need to grab an instance\n",
    "#    of the object and set it up. This object will be able to split our data into \n",
    "#    training and testing splits\n",
    "num_cv_iterations = 3\n",
    "num_instances = len(y)\n",
    "cv_object = ShuffleSplit(n_splits=num_cv_iterations,\n",
    "                         test_size  = 0.2)\n",
    "                         \n",
    "print(cv_object)"
   ]
  },
  {
   "cell_type": "markdown",
   "metadata": {},
   "source": [
    "Now we'll test the accuracy of the model."
   ]
  },
  {
   "cell_type": "code",
   "execution_count": 141,
   "metadata": {},
   "outputs": [
    {
     "name": "stdout",
     "output_type": "stream",
     "text": [
      "====Iteration 0  ====\n",
      "accuracy 0.8478923520527255\n",
      "confusion matrix\n",
      " [[    0  5539]\n",
      " [    0 30876]]\n",
      "====Iteration 1  ====\n",
      "accuracy 0.848935878072223\n",
      "confusion matrix\n",
      " [[    0  5501]\n",
      " [    0 30914]]\n",
      "====Iteration 2  ====\n",
      "accuracy 0.8479472744748043\n",
      "confusion matrix\n",
      " [[    0  5537]\n",
      " [    0 30878]]\n"
     ]
    }
   ],
   "source": [
    "# run logistic regression and vary some parameters\n",
    "from sklearn.linear_model import LogisticRegression\n",
    "from sklearn import metrics as mt\n",
    "\n",
    "# first we create a reusable logisitic regression object\n",
    "#   here we can setup the object with different learning parameters and constants\n",
    "lr_clf = LogisticRegression(penalty='l2', C=1.0, class_weight=None) # get object\n",
    "\n",
    "# now we can use the cv_object that we setup before to iterate through the \n",
    "#    different training and testing sets. Each time we will reuse the logisitic regression \n",
    "#    object, but it gets trained on different data each time we use it.\n",
    "\n",
    "iter_num=0\n",
    "# the indices are the rows used for training and testing in each iteration\n",
    "for train_indices, test_indices in cv_object.split(X,y): \n",
    "    # I will create new variables here so that it is more obvious what \n",
    "    # the code is doing (you can compact this syntax and avoid duplicating memory,\n",
    "    # but it makes this code less readable)\n",
    "    X_train = X[train_indices]\n",
    "    y_train = y[train_indices]\n",
    "    \n",
    "    X_test = X[test_indices]\n",
    "    y_test = y[test_indices]\n",
    "    \n",
    "    # train the reusable logisitc regression model on the training data\n",
    "    lr_clf.fit(X_train,y_train)  # train object\n",
    "    y_hat = lr_clf.predict(X_test) # get test set precitions\n",
    "\n",
    "    # now let's get the accuracy and confusion matrix for this iterations of training/testing\n",
    "    acc = mt.accuracy_score(y_test,y_hat)\n",
    "    conf = mt.confusion_matrix(y_test,y_hat)\n",
    "    print(\"====Iteration\",iter_num,\" ====\")\n",
    "    print(\"accuracy\", acc )\n",
    "    print(\"confusion matrix\\n\",conf)\n",
    "    iter_num+=1\n",
    "    \n",
    "# Also note that every time you run the above code\n",
    "#   it randomly creates a new training and testing set, \n",
    "#   so accuracy will be different each time"
   ]
  },
  {
   "cell_type": "markdown",
   "metadata": {},
   "source": [
    "Although the model accuracy seems encouragingly high (especially for a first pass), a closer inspection of the confusion matrices above shows that this model is approving everything.  Since the overall approval rates in our data set are in the 85% range, the accuracy is not actually giving us any prediction lift.  We will need to do more to try to gain a better model."
   ]
  },
  {
   "cell_type": "markdown",
   "metadata": {},
   "source": [
    "Because of the high approval rates in the data set, we would like to test a balanced weight parameter in order to give the model a better training set to work with.  In order to do this, we will first create a shell that goes through each of the parameters in the model (keeping class_weight = 'balanced' as a fixed parameter)."
   ]
  },
  {
   "cell_type": "code",
   "execution_count": 142,
   "metadata": {},
   "outputs": [
    {
     "name": "stdout",
     "output_type": "stream",
     "text": [
      "Fitting 10 folds for each of 14 candidates, totalling 140 fits\n"
     ]
    },
    {
     "name": "stderr",
     "output_type": "stream",
     "text": [
      "[Parallel(n_jobs=8)]: Done  34 tasks      | elapsed:   13.7s\n",
      "[Parallel(n_jobs=8)]: Done 140 out of 140 | elapsed:  1.7min finished\n"
     ]
    },
    {
     "data": {
      "text/plain": [
       "GridSearchCV(cv=ShuffleSplit(n_splits=10, random_state=0, test_size=0.1, train_size=None),\n",
       "       error_score='raise',\n",
       "       estimator=LogisticRegression(C=1.0, class_weight=None, dual=False, fit_intercept=True,\n",
       "          intercept_scaling=1, max_iter=100, multi_class='ovr', n_jobs=1,\n",
       "          penalty='l2', random_state=None, solver='liblinear', tol=0.0001,\n",
       "          verbose=0, warm_start=False),\n",
       "       fit_params=None, iid=True, n_jobs=8,\n",
       "       param_grid={'penalty': ['l2'], 'C': [0.001, 0.01, 0.1, 1, 10, 100, 1000], 'class_weight': ['balanced'], 'random_state': [0], 'solver': ['sag'], 'max_iter': [100, 500]},\n",
       "       pre_dispatch='2*n_jobs', refit=True, return_train_score='warn',\n",
       "       scoring='accuracy', verbose=1)"
      ]
     },
     "execution_count": 142,
     "metadata": {},
     "output_type": "execute_result"
    }
   ],
   "source": [
    "#https://github.com/jakemdrew/EducationDataNC/blob/master/2017/Models/2017SegregatedHighSchoolCampuses.ipynb\n",
    "#the next four blocks of code were sourced from Dr. Drew's analysis.  Link shown above.\n",
    "from sklearn.model_selection import ShuffleSplit\n",
    "cv = ShuffleSplit(n_splits=10, test_size=0.10, random_state=0)\n",
    "\n",
    "# we want to predict the X and y data as follows:\n",
    "if 'project_is_approved' in df:\n",
    "    y = df['project_is_approved'].values # get the labels we want\n",
    "    del df['project_is_approved'] # get rid of the class label\n",
    "    X = df.values # use everything else to predict!\n",
    "\n",
    "    ## X and y are now numpy matrices, by calling 'values' on the pandas data frames we\n",
    "    #    have converted them into simple matrices to use with scikit learn\n",
    "    \n",
    "#Logisitic regression 10-fold cross-validation \n",
    "from sklearn.linear_model import LogisticRegression\n",
    "regEstimator = LogisticRegression()\n",
    "\n",
    "parameters = { 'penalty':['l2']\n",
    "              ,'C': [0.001, 0.01, 0.1, 1, 10, 100, 1000]\n",
    "              ,'class_weight': ['balanced'] #,'none']\n",
    "              ,'random_state': [0]\n",
    "              ,'solver': ['sag'] #['lbfgs']\n",
    "              ,'max_iter':[100,500]\n",
    "             }\n",
    "\n",
    "#Create a grid search object using the  \n",
    "from sklearn.model_selection import GridSearchCV\n",
    "regGridSearch = GridSearchCV(estimator=regEstimator\n",
    "                   , n_jobs=8 # jobs to run in parallel\n",
    "                   , verbose=1 # low verbosity\n",
    "                   , param_grid=parameters\n",
    "                   , cv=cv # KFolds = 10\n",
    "                   , scoring='accuracy')\n",
    "\n",
    "#Perform hyperparameter search to find the best combination of parameters for our data\n",
    "regGridSearch.fit(X, y)\n",
    "#https://github.com/jakemdrew/EducationDataNC/blob/master/2017/Models/2017SegregatedHighSchoolCampuses.ipynb"
   ]
  },
  {
   "cell_type": "code",
   "execution_count": 143,
   "metadata": {},
   "outputs": [
    {
     "data": {
      "text/plain": [
       "LogisticRegression(C=0.001, class_weight='balanced', dual=False,\n",
       "          fit_intercept=True, intercept_scaling=1, max_iter=100,\n",
       "          multi_class='ovr', n_jobs=1, penalty='l2', random_state=0,\n",
       "          solver='sag', tol=0.0001, verbose=0, warm_start=False)"
      ]
     },
     "execution_count": 143,
     "metadata": {},
     "output_type": "execute_result"
    }
   ],
   "source": [
    "#https://github.com/jakemdrew/EducationDataNC/blob/master/2017/Models/2017SegregatedHighSchoolCampuses.ipynb\n",
    "\n",
    "#Display the best estimator parameters\n",
    "regGridSearch.best_estimator_"
   ]
  },
  {
   "cell_type": "markdown",
   "metadata": {},
   "source": [
    "The results above show that the iterator chose C = 0.001 as the best value for the cost parameter.  Now, we will use these parameters to train and test the model."
   ]
  },
  {
   "cell_type": "code",
   "execution_count": 144,
   "metadata": {},
   "outputs": [
    {
     "name": "stdout",
     "output_type": "stream",
     "text": [
      "The average accuracy for all cv folds is: \t\t\t 0.58375\n",
      "The average precision for all cv folds is: \t\t\t 0.892\n",
      "The average recall for all cv folds is: \t\t\t 0.57981\n",
      "*********************************************************\n",
      "Cross Validation Fold Mean Error Scores\n"
     ]
    },
    {
     "data": {
      "text/html": [
       "<div>\n",
       "<style scoped>\n",
       "    .dataframe tbody tr th:only-of-type {\n",
       "        vertical-align: middle;\n",
       "    }\n",
       "\n",
       "    .dataframe tbody tr th {\n",
       "        vertical-align: top;\n",
       "    }\n",
       "\n",
       "    .dataframe thead th {\n",
       "        text-align: right;\n",
       "    }\n",
       "</style>\n",
       "<table border=\"1\" class=\"dataframe\">\n",
       "  <thead>\n",
       "    <tr style=\"text-align: right;\">\n",
       "      <th></th>\n",
       "      <th>Accuracy</th>\n",
       "      <th>Precision</th>\n",
       "      <th>Recall</th>\n",
       "    </tr>\n",
       "  </thead>\n",
       "  <tbody>\n",
       "    <tr>\n",
       "      <th>0</th>\n",
       "      <td>0.582986</td>\n",
       "      <td>0.890920</td>\n",
       "      <td>0.579965</td>\n",
       "    </tr>\n",
       "    <tr>\n",
       "      <th>1</th>\n",
       "      <td>0.586610</td>\n",
       "      <td>0.897156</td>\n",
       "      <td>0.579533</td>\n",
       "    </tr>\n",
       "    <tr>\n",
       "      <th>2</th>\n",
       "      <td>0.577988</td>\n",
       "      <td>0.886468</td>\n",
       "      <td>0.575302</td>\n",
       "    </tr>\n",
       "    <tr>\n",
       "      <th>3</th>\n",
       "      <td>0.592761</td>\n",
       "      <td>0.896752</td>\n",
       "      <td>0.588680</td>\n",
       "    </tr>\n",
       "    <tr>\n",
       "      <th>4</th>\n",
       "      <td>0.577548</td>\n",
       "      <td>0.890933</td>\n",
       "      <td>0.572915</td>\n",
       "    </tr>\n",
       "    <tr>\n",
       "      <th>5</th>\n",
       "      <td>0.586995</td>\n",
       "      <td>0.889141</td>\n",
       "      <td>0.584972</td>\n",
       "    </tr>\n",
       "    <tr>\n",
       "      <th>6</th>\n",
       "      <td>0.579910</td>\n",
       "      <td>0.888567</td>\n",
       "      <td>0.576145</td>\n",
       "    </tr>\n",
       "    <tr>\n",
       "      <th>7</th>\n",
       "      <td>0.582326</td>\n",
       "      <td>0.893549</td>\n",
       "      <td>0.577775</td>\n",
       "    </tr>\n",
       "    <tr>\n",
       "      <th>8</th>\n",
       "      <td>0.591663</td>\n",
       "      <td>0.894133</td>\n",
       "      <td>0.589114</td>\n",
       "    </tr>\n",
       "    <tr>\n",
       "      <th>9</th>\n",
       "      <td>0.578702</td>\n",
       "      <td>0.892394</td>\n",
       "      <td>0.573698</td>\n",
       "    </tr>\n",
       "  </tbody>\n",
       "</table>\n",
       "</div>"
      ],
      "text/plain": [
       "   Accuracy  Precision    Recall\n",
       "0  0.582986   0.890920  0.579965\n",
       "1  0.586610   0.897156  0.579533\n",
       "2  0.577988   0.886468  0.575302\n",
       "3  0.592761   0.896752  0.588680\n",
       "4  0.577548   0.890933  0.572915\n",
       "5  0.586995   0.889141  0.584972\n",
       "6  0.579910   0.888567  0.576145\n",
       "7  0.582326   0.893549  0.577775\n",
       "8  0.591663   0.894133  0.589114\n",
       "9  0.578702   0.892394  0.573698"
      ]
     },
     "execution_count": 144,
     "metadata": {},
     "output_type": "execute_result"
    }
   ],
   "source": [
    "#https://github.com/jakemdrew/EducationDataNC/blob/master/2017/Models/2017SegregatedHighSchoolCampuses.ipynb\n",
    "\n",
    "#Use the best parameters for our Linear Regression object\n",
    "classifierEst = regGridSearch.best_estimator_\n",
    "\n",
    "from sklearn.model_selection import cross_validate\n",
    "\n",
    "def EvaluateClassifierEstimator(classifierEstimator, X, y, cv):\n",
    "   \n",
    "    #Perform cross validation \n",
    "    scores = cross_validate(classifierEstimator, X, y, scoring=['accuracy','precision','recall']\n",
    "                            , cv=cv, return_train_score=True)\n",
    "\n",
    "    Accavg = scores['test_accuracy'].mean()\n",
    "    Preavg = scores['test_precision'].mean()\n",
    "    Recavg = scores['test_recall'].mean()\n",
    "\n",
    "    print_str = \"The average accuracy for all cv folds is: \\t\\t\\t {Accavg:.5}\"\n",
    "    print_str2 = \"The average precision for all cv folds is: \\t\\t\\t {Preavg:.5}\"\n",
    "    print_str3 = \"The average recall for all cv folds is: \\t\\t\\t {Recavg:.5}\"\n",
    "\n",
    "    print(print_str.format(Accavg=Accavg))\n",
    "    print(print_str2.format(Preavg=Preavg))\n",
    "    print(print_str3.format(Recavg=Recavg))\n",
    "    print('*********************************************************')\n",
    "\n",
    "    print('Cross Validation Fold Mean Error Scores')\n",
    "    scoresResults = pd.DataFrame()\n",
    "    scoresResults['Accuracy'] = scores['test_accuracy']\n",
    "    scoresResults['Precision'] = scores['test_precision']\n",
    "    scoresResults['Recall'] = scores['test_recall']\n",
    "\n",
    "    return scoresResults\n",
    "\n",
    "def EvaluateClassifierEstimator2(classifierEstimator, X, y, cv):\n",
    "    \n",
    "    #Perform cross validation \n",
    "    from sklearn.model_selection import cross_val_predict\n",
    "    predictions = cross_val_predict(classifierEstimator, X, y, cv=cv)\n",
    "    \n",
    "    #model evaluation \n",
    "    from sklearn.metrics import classification_report, confusion_matrix, accuracy_score\n",
    "    \n",
    "    #pass true test set values and predictions to classification_report\n",
    "    classReport = classification_report(y,predictions)\n",
    "    confMat = confusion_matrix(y,predictions)\n",
    "    acc = accuracy_score(y,predictions)\n",
    "    \n",
    "    print(classReport)\n",
    "    print(confMat)\n",
    "    print(acc)\n",
    "\n",
    "#Evaluate the regression estimator above using our pre-defined cross validation and scoring metrics. \n",
    "EvaluateClassifierEstimator(classifierEst, X, y, cv)"
   ]
  },
  {
   "cell_type": "markdown",
   "metadata": {},
   "source": [
    "The output above shows the results of a ten fold cross-validation on the model with a balanced data set.  We see the accuracy is much lower than the initial model.  However, we suspect that this is due to the fact that the initial model was approving all projects.  "
   ]
  },
  {
   "cell_type": "markdown",
   "metadata": {},
   "source": [
    "Next, let's take a look at the confusion matrix for the balanced model."
   ]
  },
  {
   "cell_type": "code",
   "execution_count": 145,
   "metadata": {},
   "outputs": [
    {
     "name": "stdout",
     "output_type": "stream",
     "text": [
      "             precision    recall  f1-score   support\n",
      "\n",
      "          0       0.21      0.61      0.31     27734\n",
      "          1       0.89      0.58      0.70    154339\n",
      "\n",
      "avg / total       0.79      0.58      0.64    182073\n",
      "\n",
      "[[16948 10786]\n",
      " [64904 89435]]\n",
      "0.5842876208993096\n"
     ]
    }
   ],
   "source": [
    "EvaluateClassifierEstimator2(classifierEst, X, y, 10)"
   ]
  },
  {
   "cell_type": "markdown",
   "metadata": {},
   "source": [
    "The results from the confusion matrix above confirms that the balanced model, although much less accurate, is now making better predictions between project approval and denial."
   ]
  },
  {
   "cell_type": "markdown",
   "metadata": {},
   "source": [
    "Now, we will run this balanced model on a train and test set with 20% held out for testing.  The goal is to achieve similar accuracies and confusion matrices as above."
   ]
  },
  {
   "cell_type": "code",
   "execution_count": 146,
   "metadata": {},
   "outputs": [
    {
     "name": "stdout",
     "output_type": "stream",
     "text": [
      "ShuffleSplit(n_splits=3, random_state=None, test_size=0.2, train_size=None)\n",
      "====Iteration 0  ====\n",
      "accuracy 0.5859123987367842\n",
      "confusion matrix\n",
      " [[ 3300  2152]\n",
      " [12927 18036]]\n",
      "====Iteration 1  ====\n",
      "accuracy 0.5861046272140601\n",
      "confusion matrix\n",
      " [[ 3371  2186]\n",
      " [12886 17972]]\n",
      "====Iteration 2  ====\n",
      "accuracy 0.5853082520939173\n",
      "confusion matrix\n",
      " [[ 3489  2152]\n",
      " [12949 17825]]\n"
     ]
    }
   ],
   "source": [
    "#https://github.com/jakemdrew/EducationDataNC/blob/master/2017/Models/2017SegregatedHighSchoolCampuses.ipynb\n",
    "\n",
    "\n",
    "# to use the cross validation object in scikit learn, we need to grab an instance\n",
    "#    of the object and set it up. This object will be able to split our data into \n",
    "#    training and testing splits\n",
    "num_cv_iterations = 3\n",
    "num_instances = len(y)\n",
    "cv_object = ShuffleSplit(n_splits=num_cv_iterations,\n",
    "                         test_size  = 0.2)\n",
    "                         \n",
    "print(cv_object)\n",
    "\n",
    "# run logistic regression and vary some parameters\n",
    "from sklearn.linear_model import LogisticRegression\n",
    "from sklearn import metrics as mt\n",
    "\n",
    "# first we create a reusable logisitic regression object\n",
    "#   here we can setup the object with different learning parameters and constants\n",
    "lr_clf = LogisticRegression(C=0.001, class_weight='balanced', dual=False,\n",
    "          fit_intercept=True, intercept_scaling=1, max_iter=100,\n",
    "          multi_class='ovr', n_jobs=1, penalty='l2', random_state=0,\n",
    "          solver='sag', tol=0.0001, verbose=0, warm_start=False) # get object\n",
    "\n",
    "# now we can use the cv_object that we setup before to iterate through the \n",
    "#    different training and testing sets. Each time we will reuse the logisitic regression \n",
    "#    object, but it gets trained on different data each time we use it.\n",
    "\n",
    "iter_num=0\n",
    "# the indices are the rows used for training and testing in each iteration\n",
    "for train_indices, test_indices in cv_object.split(X,y): \n",
    "    # I will create new variables here so that it is more obvious what \n",
    "    # the code is doing (you can compact this syntax and avoid duplicating memory,\n",
    "    # but it makes this code less readable)\n",
    "    X_train = X[train_indices]\n",
    "    y_train = y[train_indices]\n",
    "    \n",
    "    X_test = X[test_indices]\n",
    "    y_test = y[test_indices]\n",
    "    \n",
    "    # train the reusable logisitc regression model on the training data\n",
    "    lr_clf.fit(X_train,y_train)  # train object\n",
    "    y_hat = lr_clf.predict(X_test) # get test set precitions\n",
    "\n",
    "    # now let's get the accuracy and confusion matrix for this iterations of training/testing\n",
    "    acc = mt.accuracy_score(y_test,y_hat)\n",
    "    conf = mt.confusion_matrix(y_test,y_hat)\n",
    "    print(\"====Iteration\",iter_num,\" ====\")\n",
    "    print(\"accuracy\", acc )\n",
    "    print(\"confusion matrix\\n\",conf)\n",
    "    iter_num+=1\n",
    "    \n",
    "# Also note that every time you run the above code\n",
    "#   it randomly creates a new training and testing set, \n",
    "#   so accuracy will be different each time"
   ]
  },
  {
   "cell_type": "markdown",
   "metadata": {},
   "source": [
    "The results above show accuracies that range between 58.2 and 58.6%.  We can also see from the confusion matrices that the balanced model is no longer approving every project in the data set."
   ]
  },
  {
   "cell_type": "markdown",
   "metadata": {},
   "source": [
    "The next step will be to run the model through a standard scaler operation.  We do this in order to be able to interpret all model weights on the same domain."
   ]
  },
  {
   "cell_type": "code",
   "execution_count": 147,
   "metadata": {},
   "outputs": [
    {
     "name": "stdout",
     "output_type": "stream",
     "text": [
      "accuracy: 0.5879994507757792\n",
      "[[ 3488  2153]\n",
      " [12850 17924]]\n",
      "Total_Cost has weight of -0.29678019429364044\n",
      "essay1_DescribeStudents_len has weight of -0.06987482881290151\n",
      "project_grade_category_Grades PreK-2 has weight of -0.03863629451729173\n",
      "teacher_prefix_Teacher has weight of -0.0258582205347228\n",
      "title_len has weight of 0.03315018650558579\n",
      "True_Quantity has weight of 0.04936586246699472\n",
      "teacher_number_of_previously_posted_projects has weight of 0.21408831887474275\n",
      "essay2_AboutProject_len has weight of 0.26239532502427954\n",
      "Average_item_cost has weight of 0.3801465488580521\n"
     ]
    }
   ],
   "source": [
    "#https://github.com/jakemdrew/EducationDataNC/blob/master/2017/Models/2017SegregatedHighSchoolCampuses.ipynb\n",
    "\n",
    "\n",
    "from sklearn.preprocessing import StandardScaler\n",
    "\n",
    "# we want to normalize the features based upon the mean and standard deviation of each column. \n",
    "# However, we do not want to accidentally use the testing data to find out the mean and std (this would be snooping)\n",
    "# to Make things easier, let's start by just using whatever was last stored in the variables:\n",
    "##    X_train , y_train , X_test, y_test (they were set in a for loop above)\n",
    "\n",
    "# scale attributes by the training set\n",
    "scl_obj = StandardScaler()\n",
    "scl_obj.fit(X_train) # find scalings for each column that make this zero mean and unit std\n",
    "# the line of code above only looks at training data to get mean and std and we can use it \n",
    "# to transform new feature data\n",
    "\n",
    "X_train_scaled = scl_obj.transform(X_train) # apply to training\n",
    "X_test_scaled = scl_obj.transform(X_test) # apply those means and std to the test set (without snooping at the test set values)\n",
    "\n",
    "# train the model just as before\n",
    "lr_clf = LogisticRegression(C=0.001, class_weight='balanced', dual=False,\n",
    "          fit_intercept=True, intercept_scaling=1, max_iter=100,\n",
    "          multi_class='ovr', n_jobs=1, penalty='l2', random_state=0,\n",
    "          solver='lbfgs', tol=0.0001, verbose=0, warm_start=False)  \n",
    "lr_clf.fit(X_train_scaled,y_train)  # train object\n",
    "\n",
    "y_hat = lr_clf.predict(X_test_scaled) # get test set precitions\n",
    "\n",
    "acc = mt.accuracy_score(y_test,y_hat)\n",
    "conf = mt.confusion_matrix(y_test,y_hat)\n",
    "print('accuracy:', acc )\n",
    "print(conf )\n",
    "\n",
    "# sort these attributes and spit them out\n",
    "zip_vars = zip(lr_clf.coef_.T,df.columns) # combine attributes\n",
    "zip_vars = sorted(zip_vars)\n",
    "for coef, name in zip_vars:\n",
    "    print(name, 'has weight of', coef[0]) # now print them out"
   ]
  },
  {
   "cell_type": "markdown",
   "metadata": {},
   "source": [
    "Now that the weights have been scaled, let's view them graphically.  This will be used later when we interpret the model weights."
   ]
  },
  {
   "cell_type": "code",
   "execution_count": 148,
   "metadata": {},
   "outputs": [
    {
     "data": {
      "image/png": "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\n",
      "text/plain": [
       "<Figure size 432x288 with 1 Axes>"
      ]
     },
     "metadata": {},
     "output_type": "display_data"
    }
   ],
   "source": [
    "# now let's make a pandas Series with the names and values, and plot them\n",
    "from matplotlib import pyplot as plt\n",
    "%matplotlib inline\n",
    "plt.style.use('ggplot')\n",
    "\n",
    "weights = pd.Series(lr_clf.coef_[0],index=df.columns)\n",
    "weights.plot(kind='bar')\n",
    "plt.show()"
   ]
  },
  {
   "cell_type": "markdown",
   "metadata": {},
   "source": [
    "The bar plot above shows the relative feature weights of the balanced model."
   ]
  },
  {
   "cell_type": "markdown",
   "metadata": {},
   "source": [
    "### Support Vector Machines"
   ]
  },
  {
   "cell_type": "markdown",
   "metadata": {},
   "source": [
    "Although we have improved the initial model by balancing, let's take a look at using support vector machines to see if this can add any additional lift."
   ]
  },
  {
   "cell_type": "code",
   "execution_count": 151,
   "metadata": {},
   "outputs": [],
   "source": [
    "# okay, so run through the cross validation loop and set the training and testing variable for one single iteration\n",
    "for train_indices, test_indices in cv_object.split(X,y): \n",
    "    # I will create new variables here so that it is more obvious what \n",
    "    # the code is doing (you can compact this syntax and avoid duplicating memory,\n",
    "    # but it makes this code less readable)\n",
    "    X_train = X[train_indices]\n",
    "    y_train = y[train_indices]\n",
    "    \n",
    "    X_test = X[test_indices]\n",
    "    y_test = y[test_indices]\n",
    "    \n",
    "X_train_scaled = scl_obj.transform(X_train) # apply to training\n",
    "X_test_scaled = scl_obj.transform(X_test)"
   ]
  },
  {
   "cell_type": "code",
   "execution_count": 152,
   "metadata": {},
   "outputs": [
    {
     "name": "stdout",
     "output_type": "stream",
     "text": [
      "Training time: 118.03649401664734 seconds\n",
      "accuracy: 0.8482768090072772\n",
      "[[    0  5525]\n",
      " [    0 30890]]\n"
     ]
    }
   ],
   "source": [
    "# lets investigate SVMs on the data and play with the parameters and kernels\n",
    "from sklearn.svm import SVC\n",
    "import time\n",
    "start_time = time.time()\n",
    "\n",
    "# train the model just as before\n",
    "svm_clf = SVC(C=0.001, kernel='linear') #, degree=3, gamma='auto') # get object\n",
    "svm_clf.fit(X_train_scaled, y_train)  # train object\n",
    "\n",
    "print(\"Training time: %s seconds\" % (time.time() - start_time))   #https://stackoverflow.com/questions/1557571/how-do-i-get-time-of-a-python-programs-execution\n",
    "y_hat = svm_clf.predict(X_test_scaled) # get test set precitions\n",
    "\n",
    "acc = mt.accuracy_score(y_test,y_hat)\n",
    "conf = mt.confusion_matrix(y_test,y_hat)\n",
    "print('accuracy:', acc)\n",
    "print(conf)"
   ]
  },
  {
   "cell_type": "markdown",
   "metadata": {},
   "source": [
    "The confusion matrix above shows the prediction results using SVM.  Unfortunately, the SVM appears to be doing the same as the initial log regression model and approving everything.\n",
    "\n",
    "Because SVM is much slower than logistic regression, our Grid Search of different models must be limited in size."
   ]
  },
  {
   "cell_type": "code",
   "execution_count": 153,
   "metadata": {
    "scrolled": true
   },
   "outputs": [
    {
     "name": "stdout",
     "output_type": "stream",
     "text": [
      "Fitting 10 folds for each of 12 candidates, totalling 120 fits\n"
     ]
    },
    {
     "name": "stderr",
     "output_type": "stream",
     "text": [
      "[Parallel(n_jobs=8)]: Done  34 tasks      | elapsed:  1.1min\n",
      "[Parallel(n_jobs=8)]: Done 120 out of 120 | elapsed:  3.9min finished\n"
     ]
    },
    {
     "data": {
      "text/plain": [
       "GridSearchCV(cv=ShuffleSplit(n_splits=10, random_state=0, test_size=0.1, train_size=None),\n",
       "       error_score='raise',\n",
       "       estimator=SGDClassifier(alpha=0.0001, average=False, class_weight=None, epsilon=0.1,\n",
       "       eta0=0.0, fit_intercept=True, l1_ratio=0.15,\n",
       "       learning_rate='optimal', loss='hinge', max_iter=None, n_iter=None,\n",
       "       n_jobs=1, penalty='l2', power_t=0.5, random_state=None,\n",
       "       shuffle=True, tol=None, verbose=0, warm_start=False),\n",
       "       fit_params=None, iid=True, n_jobs=8,\n",
       "       param_grid={'penalty': ['l2'], 'alpha': [0.0001, 0.001], 'class_weight': ['balanced', {0: 2}, {0: 5}], 'random_state': [0], 'max_iter': [100, 500]},\n",
       "       pre_dispatch='2*n_jobs', refit=True, return_train_score='warn',\n",
       "       scoring='accuracy', verbose=1)"
      ]
     },
     "execution_count": 153,
     "metadata": {},
     "output_type": "execute_result"
    }
   ],
   "source": [
    "from sklearn.linear_model import SGDClassifier\n",
    "svmEstimator = SGDClassifier()\n",
    "\n",
    "parameters = { 'penalty':['l2']\n",
    "              ,'alpha': [0.0001, 0.001]\n",
    "              ,'class_weight': ['balanced',{0: 2},{0:5}] #,'none']\n",
    "              ,'random_state': [0]\n",
    "              ,'max_iter':[100,500]\n",
    "             }\n",
    "\n",
    "#Create a grid search object using the  \n",
    "from sklearn.model_selection import GridSearchCV\n",
    "regGridSearch = GridSearchCV(estimator=svmEstimator\n",
    "                   , n_jobs=8 # jobs to run in parallel\n",
    "                   , verbose=1 # low verbosity\n",
    "                   , param_grid=parameters\n",
    "                   , cv=cv # KFolds = 10\n",
    "                   , scoring='accuracy')\n",
    "\n",
    "#Perform hyperparameter search to find the best combination of parameters for our data\n",
    "regGridSearch.fit(X, y)"
   ]
  },
  {
   "cell_type": "code",
   "execution_count": 154,
   "metadata": {},
   "outputs": [
    {
     "name": "stdout",
     "output_type": "stream",
     "text": [
      "Training time: 389.2004201412201 seconds\n",
      "accuracy: 0.8482768090072772\n",
      "[[    0  5525]\n",
      " [    0 30890]]\n"
     ]
    }
   ],
   "source": [
    "svm_clf2 = regGridSearch.best_estimator_\n",
    "\n",
    "svm_clf2.fit(X_train_scaled, y_train)  # train object\n",
    "\n",
    "y_hat2 = svm_clf2.predict(X_test_scaled) # get test set precitions\n",
    "\n",
    "acc = mt.accuracy_score(y_test,y_hat2)\n",
    "conf = mt.confusion_matrix(y_test,y_hat2)\n",
    "print('accuracy:', acc )\n",
    "print(conf)"
   ]
  },
  {
   "cell_type": "markdown",
   "metadata": {},
   "source": [
    "Even after our search through 12 different models, the most accurate model is still that which approves all projects.\n",
    "\n",
    "We will therefore be moving forward with the standard linear support vector machine model produced, instead of the best SGD model."
   ]
  },
  {
   "cell_type": "markdown",
   "metadata": {},
   "source": [
    "## Create Models - Conclusion"
   ]
  },
  {
   "cell_type": "markdown",
   "metadata": {},
   "source": [
    "The initial first-pass logistic regression model had high accuracy (85%), but a closer inspection of the resulting test confusion matrices showed that this was only because the initial model was approving all projects.  \n",
    "\n",
    "The second logistic regression model had much lower accuracy (58%).  However, by using a balanced weight method to train the model we were able to achieve a model that does a better job at predicting projects that will not be approved.\n",
    "\n",
    "The SVM model had the same issue as the inital logistic model where it had high accuracy (85%) but approves all projects. A further search for other models yielded the practically identical results.\n",
    "\n",
    "In summary, it appears that the best candidate model to choose from these three is the logistic regression model that balances the training set weights between project is approved or not approved.  We will need to consider adding new features to this model in order to gain higher lift using the balanced model."
   ]
  },
  {
   "cell_type": "markdown",
   "metadata": {},
   "source": [
    "# Model Advantages\n",
    "\n",
    "Both the logistic regression and linear support vector machine models produced practically identical models that approved all projects in the training set. However, it is important to note that the logistic regression model was significantly faster to train that the SVM model. When testing various model parameters, 140 logistic regression models were able to be trained in ~2 minutes. However, just a single linear SVM model training took ~2 minutes. This makes logistic regresion approximately 140 times faster than SVM for this data set. This is very significant when it comes to implementing the algorithm, specifically if the data set was to get larger."
   ]
  },
  {
   "cell_type": "markdown",
   "metadata": {},
   "source": [
    "# Interpret Feature Importance\n",
    "\n",
    "In order to understand what features contribute the most to the model, the coefficients are examined. Printed above, the coefficients for the logistic regression are repeated here for reference: "
   ]
  },
  {
   "cell_type": "code",
   "execution_count": 155,
   "metadata": {},
   "outputs": [
    {
     "name": "stdout",
     "output_type": "stream",
     "text": [
      "Total_Cost has weight of -0.29678019429364044\n",
      "essay1_DescribeStudents_len has weight of -0.06987482881290151\n",
      "project_grade_category_Grades PreK-2 has weight of -0.03863629451729173\n",
      "teacher_prefix_Teacher has weight of -0.0258582205347228\n",
      "title_len has weight of 0.03315018650558579\n",
      "True_Quantity has weight of 0.04936586246699472\n",
      "teacher_number_of_previously_posted_projects has weight of 0.21408831887474275\n",
      "essay2_AboutProject_len has weight of 0.26239532502427954\n",
      "Average_item_cost has weight of 0.3801465488580521\n"
     ]
    }
   ],
   "source": [
    "for coef, name in zip_vars:\n",
    "    print(name, 'has weight of', coef[0]) # now print them out"
   ]
  },
  {
   "cell_type": "markdown",
   "metadata": {},
   "source": [
    "Because these are coefficients from a model using scaled features, we can directly compare them for their significance. This is a main advantage of using scaled variables. This approach does further complicate an already complicated marginal effect interpretation for logistic regression. As such, the primary focus here is on which features are most important, not what these features do to drive the values of the outcome.\n",
    "\n",
    "To do this, we can look at a ranked plot of the absolute value of the weights with their feature names."
   ]
  },
  {
   "cell_type": "code",
   "execution_count": 156,
   "metadata": {},
   "outputs": [
    {
     "data": {
      "image/png": "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\n",
      "text/plain": [
       "<Figure size 432x288 with 1 Axes>"
      ]
     },
     "metadata": {},
     "output_type": "display_data"
    }
   ],
   "source": [
    "# now let's make a pandas Series with the names and values, and plot them\n",
    "# reference for code: https://github.com/jakemdrew/EducationDataNC/blob/master/2017/Models/2017SegregatedHighSchoolCampuses.ipynb\n",
    "\n",
    "from matplotlib import pyplot as plt\n",
    "%matplotlib inline\n",
    "plt.style.use('ggplot')\n",
    "\n",
    "weights = lr_clf.coef_.ravel()\n",
    "feature_names = df.columns.values\n",
    "\n",
    "logreg_features = pd.DataFrame({'feature_names': feature_names[:9], 'weights': weights, 'absolute_weights':np.abs(weights)})\n",
    "logreg_features.sort_values(by='absolute_weights', inplace=True, ascending = False)\n",
    "\n",
    "weights = pd.Series(logreg_features['weights'].values, index=logreg_features['feature_names'])\n",
    "px = weights.plot(kind='bar')\n",
    "px.set_xlabel(\"Feature Names\")\n",
    "px.set_ylabel(\"Weight\")\n",
    "px.set_title(\"Ranked Feature Importance\")\n",
    "plt.show()"
   ]
  },
  {
   "cell_type": "markdown",
   "metadata": {},
   "source": [
    "From the above plot, there are a number of interesting observations.\n",
    "- The Average_item_cost feature has the highest weight, and thereby has the greatest influence on the outcome of the regression. The second most significant feature is Total_cost, with an opposite direction effect. Because these two attributes are derived from similar data, there may be some correlation. That said, these are important factors that can characterize a project in DonorsChoose: teachers requesting a large number of small cost items such as books for a classroom, compared with teachers requesting one or two high cost items such as iPads could end up having the same overall cost. \n",
    "- The third most important feature in the logistic regression is the length of the response to Essay 2. This is the question in which teachers explain what the project is that they are requesting. Perhaps the longer essays are more well thought out, and have a better chance of being approved for posting. \n",
    "- The fourth most important feature is how many projects a teacher has previously posted. This suggests that the more practice a teacher has at filling out the application, the more likely they are to be approved. \n",
    "- The first four features listed above have an absolute value greater than 0.2. After these first four features, there is a sizeable drop off in the amount of the weight, to below 0.1 (absolute value). While possibly useful in the model, these have a much smaller effect on the outcome than the first four. "
   ]
  },
  {
   "cell_type": "markdown",
   "metadata": {},
   "source": [
    "# Interpret Support Vectors\n"
   ]
  },
  {
   "cell_type": "code",
   "execution_count": 157,
   "metadata": {},
   "outputs": [
    {
     "name": "stdout",
     "output_type": "stream",
     "text": [
      "Average_item_cost has weight of -0.0009286355895790077\n",
      "True_Quantity has weight of -0.0008187653836193576\n",
      "project_grade_category_Grades PreK-2 has weight of -3.276399179396455e-05\n",
      "title_len has weight of -2.0765360470020866e-05\n",
      "teacher_prefix_Teacher has weight of 7.66053886991358e-15\n",
      "essay2_AboutProject_len has weight of 1.025071029125968e-05\n",
      "teacher_number_of_previously_posted_projects has weight of 1.4226557914387428e-05\n",
      "essay1_DescribeStudents_len has weight of 2.2312595954560033e-05\n",
      "Total_Cost has weight of 0.0005346265049153143\n"
     ]
    }
   ],
   "source": [
    "zip_vars_svm = zip(svm_clf.coef_.T,df.columns) # combine attributes\n",
    "zip_vars_svm = sorted(zip_vars_svm)\n",
    "for coef, name in zip_vars_svm:\n",
    "    print(name, 'has weight of', coef[0]) # now print them out\n",
    "    "
   ]
  },
  {
   "cell_type": "markdown",
   "metadata": {},
   "source": [
    "Much like the logistic regression model, the SVM model was made using scaled data, so their coefficients can be directly compared. However, it should be noted that with these coefficients, all projects were approved. This was interestingly the best model the stochastic gradient descent algorithm could come up with (for a linear SVM.)\n",
    "\n",
    "Interpreting the coefficients is similar to logistic regression, but it is important to remember we are now looking at a 9-dimensional hyperplane. These coefficients define the vector perpendicular to this hyperplane, but the same principles apply when classifying a vector (object in the data set): Take the dot product of the object with this support vector, and if it is positive then classify the object as approved. \n",
    "\n",
    "It is easier to visualize the data if it is ordered by absolute value of weights:"
   ]
  },
  {
   "cell_type": "code",
   "execution_count": 158,
   "metadata": {},
   "outputs": [
    {
     "data": {
      "image/png": "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\n",
      "text/plain": [
       "<Figure size 432x288 with 1 Axes>"
      ]
     },
     "metadata": {},
     "output_type": "display_data"
    }
   ],
   "source": [
    "\n",
    "# reference for code: https://github.com/jakemdrew/EducationDataNC/blob/master/2017/Models/2017SegregatedHighSchoolCampuses.ipynb\n",
    "\n",
    "from matplotlib import pyplot as plt\n",
    "%matplotlib inline\n",
    "plt.style.use('ggplot')\n",
    "\n",
    "weights_svm = svm_clf.coef_.ravel()\n",
    "feature_names_svm = df.columns.values\n",
    "\n",
    "logreg_features_svm = pd.DataFrame({'feature_names': feature_names[:9], 'weights': weights_svm, 'absolute_weights':np.abs(weights_svm)})\n",
    "logreg_features_svm.sort_values(by='absolute_weights', inplace=True, ascending = False)\n",
    "\n",
    "weights_svm = pd.Series(logreg_features_svm['weights'].values, index=logreg_features_svm['feature_names'])\n",
    "px2 = weights_svm.plot(kind='bar')\n",
    "px2.set_xlabel(\"Feature Names\")\n",
    "px2.set_ylabel(\"Weight\")\n",
    "px2.set_title(\"Ranked Feature Importance\")\n",
    "plt.show()"
   ]
  },
  {
   "cell_type": "markdown",
   "metadata": {},
   "source": [
    "- Much like logistic regression, average item cost appears to be the most important factor in getting approved. It is however now negatively associated with getting approved.\n",
    "- Total cost is the third most important factor, compared to the second most important in the logistic regression model. It once however correlated with being approved, unlike in logistic regression.\n",
    "- True quantity is the 2nd most important feature, while it was 4th most important for the logistic regression model.It is also associated with not getting approved.\n",
    "- None of the other factors are particularly important in getting approved.\n",
    "- Length of both essays is positively correlated with approval. Essay 1 carries more weight (per word) than essay 2.  \n",
    "- The number of projects previously posted by the teacher is not very important, although it is positively associated with approval.\n",
    "- Title length is the least important feature, and has a (very) small negative coefficient. \n",
    "- Teacher prefix has a coefficient of ~0 (7.66 x 10^-15)"
   ]
  },
  {
   "cell_type": "code",
   "execution_count": null,
   "metadata": {},
   "outputs": [],
   "source": []
  }
 ],
 "metadata": {
  "kernelspec": {
   "display_name": "Python 3",
   "language": "python",
   "name": "python3"
  },
  "language_info": {
   "codemirror_mode": {
    "name": "ipython",
    "version": 3
   },
   "file_extension": ".py",
   "mimetype": "text/x-python",
   "name": "python",
   "nbconvert_exporter": "python",
   "pygments_lexer": "ipython3",
   "version": "3.6.5"
  }
 },
 "nbformat": 4,
 "nbformat_minor": 2
}
