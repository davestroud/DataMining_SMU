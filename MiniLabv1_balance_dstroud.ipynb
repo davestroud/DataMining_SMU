{
 "cells": [
  {
   "cell_type": "code",
   "execution_count": null,
   "metadata": {},
   "outputs": [],
   "source": [
    "import matplotlib.pyplot as plt\n",
    "import pandas as pd\n",
    "import numpy as np\n",
    "df_train = pd.read_csv('train.csv')\n",
    "df_resources = pd.read_csv('resources.csv')\n",
    "train_resource = pd.merge(df_train, df_resources, on=\"id\", how='left')\n",
    "df_train[df_train.teacher_prefix.isnull()]\n",
    "train_resource[train_resource.description.isnull()].head()\n",
    "t2 = train_resource.pivot_table(index = ['id', 'description'],\n",
    "                                values='quantity', \n",
    "                                aggfunc=np.sum)\n",
    "t2.reset_index(inplace=True)\n",
    "train_resource = pd.merge(train_resource,\n",
    "                          t2, \n",
    "                          on=['id', 'description'], \n",
    "                          how='right',\n",
    "                          suffixes=('_Orig', '_True'))\n",
    "\n",
    "train_resource = train_resource.drop_duplicates()\n",
    "train_resource = train_resource.drop('quantity_Orig', axis=1)\n",
    "train_resource = train_resource.rename(columns={'quantity_True': 'True_Quantity'})\n",
    "train_resource['Total_Cost'] = train_resource.price * train_resource.True_Quantity\n",
    "Total_cost = train_resource.pivot_table(values=['Total_Cost','True_Quantity'],\n",
    "                                        index='id',\n",
    "                                        aggfunc={'Total_Cost' : np.sum, 'True_Quantity' : np.sum})\n",
    "Total_cost.reset_index(level=0, inplace = True)\n",
    "\n",
    "df_train = df_train.merge(Total_cost, on='id', how='left')\n",
    "df_train['Average_item_cost'] = df_train.Total_Cost  / df_train.True_Quantity\n",
    "\n",
    "df = df_train\n",
    "df.info()"
   ]
  },
  {
   "cell_type": "code",
   "execution_count": null,
   "metadata": {},
   "outputs": [],
   "source": [
    "#https://github.com/eclarson/DataMiningNotebooks/blob/master/04.%20Logits%20and%20SVM.ipynb\n",
    "from __future__ import print_function\n",
    "\n",
    "# Remove attributes that arent useful\n",
    "if 'project_essay_3' in df:\n",
    "    del df['project_essay_3']\n",
    "if 'project_essay_4' in df:    \n",
    "    del df['project_essay_4']\n",
    "\n",
    "# drop rows that still had missing values after grouped imputation\n",
    "df.dropna(inplace=True)\n",
    "\n",
    "# take natural log of right skewed attributes\n",
    "df['teacher_number_of_previously_posted_projects']=np.log1p(df.teacher_number_of_previously_posted_projects)\n",
    "df['Total_Cost']=np.log1p(df.Total_Cost)\n",
    "df['True_Quantity']=np.log1p(df.True_Quantity)\n",
    "df['Average_item_cost']=np.log1p(df.Average_item_cost)\n",
    "\n",
    "# Keep these attributes\n",
    "df = df[['teacher_number_of_previously_posted_projects','Total_Cost','True_Quantity','Average_item_cost','project_is_approved']]\n",
    "    \n",
    "df.info()"
   ]
  },
  {
   "cell_type": "code",
   "execution_count": null,
   "metadata": {},
   "outputs": [],
   "source": []
  }
 ],
 "metadata": {
  "kernelspec": {
   "display_name": "Python 3",
   "language": "python",
   "name": "python3"
  },
  "language_info": {
   "codemirror_mode": {
    "name": "ipython",
    "version": 3
   },
   "file_extension": ".py",
   "mimetype": "text/x-python",
   "name": "python",
   "nbconvert_exporter": "python",
   "pygments_lexer": "ipython3",
   "version": "3.6.5"
  }
 },
 "nbformat": 4,
 "nbformat_minor": 2
}
